{
 "cells": [
  {
   "cell_type": "markdown",
   "metadata": {},
   "source": [
    "## Predicting mortality rate for patients with lung cancer surgical procedures"
   ]
  },
  {
   "cell_type": "markdown",
   "metadata": {},
   "source": [
    "Reference :\n",
    "- 조태호 . 모두의 딥러닝. 길벗, 2017. (both model and dataset)"
   ]
  },
  {
   "cell_type": "code",
   "execution_count": 1,
   "metadata": {},
   "outputs": [
    {
     "name": "stderr",
     "output_type": "stream",
     "text": [
      "/Users/grace/workspace/keras/venv/lib/python3.6/site-packages/h5py/__init__.py:36: FutureWarning: Conversion of the second argument of issubdtype from `float` to `np.floating` is deprecated. In future, it will be treated as `np.float64 == np.dtype(float).type`.\n",
      "  from ._conv import register_converters as _register_converters\n",
      "Using TensorFlow backend.\n",
      "/Users/grace/workspace/keras/venv/lib/python3.6/importlib/_bootstrap.py:219: RuntimeWarning: compiletime version 3.5 of module 'tensorflow.python.framework.fast_tensor_util' does not match runtime version 3.6\n",
      "  return f(*args, **kwds)\n"
     ]
    }
   ],
   "source": [
    "from keras.models import Sequential\n",
    "from keras.layers import Dense\n",
    "\n",
    "import numpy as np\n",
    "import pandas as pd\n",
    "import tensorflow as tf"
   ]
  },
  {
   "cell_type": "code",
   "execution_count": 2,
   "metadata": {},
   "outputs": [],
   "source": [
    "seed = 0\n",
    "np.random.seed(seed)\n",
    "tf.set_random_seed(seed)"
   ]
  },
  {
   "cell_type": "markdown",
   "metadata": {},
   "source": [
    "### Dataset : from Wroclaw Medical University (2013)\n",
    "- total 18 columns\n",
    "- first 17:\n",
    "    - 종양의 유형,\n",
    "    - 폐활량,\n",
    "    - 호흡 곤란 여부,\n",
    "    - 고통 정도,\n",
    "    - 기침,\n",
    "    - 흡연,\n",
    "    - 천식,\n",
    "    - ......\n",
    "- last 18th: 생존여부"
   ]
  },
  {
   "cell_type": "code",
   "execution_count": 3,
   "metadata": {},
   "outputs": [
    {
     "data": {
      "text/html": [
       "<div>\n",
       "<style scoped>\n",
       "    .dataframe tbody tr th:only-of-type {\n",
       "        vertical-align: middle;\n",
       "    }\n",
       "\n",
       "    .dataframe tbody tr th {\n",
       "        vertical-align: top;\n",
       "    }\n",
       "\n",
       "    .dataframe thead th {\n",
       "        text-align: right;\n",
       "    }\n",
       "</style>\n",
       "<table border=\"1\" class=\"dataframe\">\n",
       "  <thead>\n",
       "    <tr style=\"text-align: right;\">\n",
       "      <th></th>\n",
       "      <th>0</th>\n",
       "      <th>1</th>\n",
       "      <th>2</th>\n",
       "      <th>3</th>\n",
       "      <th>4</th>\n",
       "      <th>5</th>\n",
       "      <th>6</th>\n",
       "      <th>7</th>\n",
       "      <th>8</th>\n",
       "      <th>9</th>\n",
       "      <th>10</th>\n",
       "      <th>11</th>\n",
       "      <th>12</th>\n",
       "      <th>13</th>\n",
       "      <th>14</th>\n",
       "      <th>15</th>\n",
       "      <th>16</th>\n",
       "      <th>17</th>\n",
       "    </tr>\n",
       "  </thead>\n",
       "  <tbody>\n",
       "    <tr>\n",
       "      <th>0</th>\n",
       "      <td>293</td>\n",
       "      <td>1</td>\n",
       "      <td>3.80</td>\n",
       "      <td>2.80</td>\n",
       "      <td>0</td>\n",
       "      <td>0</td>\n",
       "      <td>0</td>\n",
       "      <td>0</td>\n",
       "      <td>0</td>\n",
       "      <td>0</td>\n",
       "      <td>12</td>\n",
       "      <td>0</td>\n",
       "      <td>0</td>\n",
       "      <td>0</td>\n",
       "      <td>1</td>\n",
       "      <td>0</td>\n",
       "      <td>62</td>\n",
       "      <td>0</td>\n",
       "    </tr>\n",
       "    <tr>\n",
       "      <th>1</th>\n",
       "      <td>1</td>\n",
       "      <td>2</td>\n",
       "      <td>2.88</td>\n",
       "      <td>2.16</td>\n",
       "      <td>1</td>\n",
       "      <td>0</td>\n",
       "      <td>0</td>\n",
       "      <td>0</td>\n",
       "      <td>1</td>\n",
       "      <td>1</td>\n",
       "      <td>14</td>\n",
       "      <td>0</td>\n",
       "      <td>0</td>\n",
       "      <td>0</td>\n",
       "      <td>1</td>\n",
       "      <td>0</td>\n",
       "      <td>60</td>\n",
       "      <td>0</td>\n",
       "    </tr>\n",
       "    <tr>\n",
       "      <th>2</th>\n",
       "      <td>8</td>\n",
       "      <td>2</td>\n",
       "      <td>3.19</td>\n",
       "      <td>2.50</td>\n",
       "      <td>1</td>\n",
       "      <td>0</td>\n",
       "      <td>0</td>\n",
       "      <td>0</td>\n",
       "      <td>1</td>\n",
       "      <td>0</td>\n",
       "      <td>11</td>\n",
       "      <td>0</td>\n",
       "      <td>0</td>\n",
       "      <td>1</td>\n",
       "      <td>1</td>\n",
       "      <td>0</td>\n",
       "      <td>66</td>\n",
       "      <td>1</td>\n",
       "    </tr>\n",
       "    <tr>\n",
       "      <th>3</th>\n",
       "      <td>14</td>\n",
       "      <td>2</td>\n",
       "      <td>3.98</td>\n",
       "      <td>3.06</td>\n",
       "      <td>2</td>\n",
       "      <td>0</td>\n",
       "      <td>0</td>\n",
       "      <td>0</td>\n",
       "      <td>1</td>\n",
       "      <td>1</td>\n",
       "      <td>14</td>\n",
       "      <td>0</td>\n",
       "      <td>0</td>\n",
       "      <td>0</td>\n",
       "      <td>1</td>\n",
       "      <td>0</td>\n",
       "      <td>80</td>\n",
       "      <td>1</td>\n",
       "    </tr>\n",
       "    <tr>\n",
       "      <th>4</th>\n",
       "      <td>17</td>\n",
       "      <td>2</td>\n",
       "      <td>2.21</td>\n",
       "      <td>1.88</td>\n",
       "      <td>0</td>\n",
       "      <td>0</td>\n",
       "      <td>1</td>\n",
       "      <td>0</td>\n",
       "      <td>0</td>\n",
       "      <td>0</td>\n",
       "      <td>12</td>\n",
       "      <td>0</td>\n",
       "      <td>0</td>\n",
       "      <td>0</td>\n",
       "      <td>1</td>\n",
       "      <td>0</td>\n",
       "      <td>56</td>\n",
       "      <td>0</td>\n",
       "    </tr>\n",
       "  </tbody>\n",
       "</table>\n",
       "</div>"
      ],
      "text/plain": [
       "    0   1     2     3   4   5   6   7   8   9   10  11  12  13  14  15  16  17\n",
       "0  293   1  3.80  2.80   0   0   0   0   0   0  12   0   0   0   1   0  62   0\n",
       "1    1   2  2.88  2.16   1   0   0   0   1   1  14   0   0   0   1   0  60   0\n",
       "2    8   2  3.19  2.50   1   0   0   0   1   0  11   0   0   1   1   0  66   1\n",
       "3   14   2  3.98  3.06   2   0   0   0   1   1  14   0   0   0   1   0  80   1\n",
       "4   17   2  2.21  1.88   0   0   1   0   0   0  12   0   0   0   1   0  56   0"
      ]
     },
     "execution_count": 3,
     "metadata": {},
     "output_type": "execute_result"
    }
   ],
   "source": [
    "pd.read_csv('./dataset/ThoraricSurgery.csv', sep=',', header=None).head()"
   ]
  },
  {
   "cell_type": "code",
   "execution_count": 4,
   "metadata": {},
   "outputs": [
    {
     "data": {
      "text/plain": [
       "array([293. ,   1. ,   3.8,   2.8,   0. ,   0. ,   0. ,   0. ,   0. ,\n",
       "         0. ,  12. ,   0. ,   0. ,   0. ,   1. ,   0. ,  62. ,   0. ])"
      ]
     },
     "execution_count": 4,
     "metadata": {},
     "output_type": "execute_result"
    }
   ],
   "source": [
    "data = np.loadtxt('./dataset/ThoraricSurgery.csv', delimiter=',')\n",
    "data[0]"
   ]
  },
  {
   "cell_type": "code",
   "execution_count": 5,
   "metadata": {},
   "outputs": [],
   "source": [
    "X = data[:, 0:17]"
   ]
  },
  {
   "cell_type": "code",
   "execution_count": 6,
   "metadata": {},
   "outputs": [],
   "source": [
    "Y = data[:, 17]"
   ]
  },
  {
   "cell_type": "markdown",
   "metadata": {},
   "source": [
    "### basic model"
   ]
  },
  {
   "cell_type": "code",
   "execution_count": 7,
   "metadata": {},
   "outputs": [],
   "source": [
    "model = Sequential()\n",
    "model.add(Dense(30, input_dim=17, activation='relu'))\n",
    "model.add(Dense(1, activation='sigmoid'))"
   ]
  },
  {
   "cell_type": "code",
   "execution_count": 8,
   "metadata": {},
   "outputs": [
    {
     "name": "stdout",
     "output_type": "stream",
     "text": [
      "WARNING:tensorflow:From /Users/grace/workspace/keras/venv/lib/python3.6/site-packages/keras/backend/tensorflow_backend.py:1290: calling reduce_mean (from tensorflow.python.ops.math_ops) with keep_dims is deprecated and will be removed in a future version.\n",
      "Instructions for updating:\n",
      "keep_dims is deprecated, use keepdims instead\n"
     ]
    }
   ],
   "source": [
    "# model.compile(loss='mean_squared_error', \\\n",
    "model.compile(loss='binary_crossentropy', \\\n",
    "              optimizer='adam', \\\n",
    "              metrics=['accuracy'])"
   ]
  },
  {
   "cell_type": "markdown",
   "metadata": {},
   "source": [
    "- 평균 제곱 계열\n",
    "1. mean_squared_error : 평균 제곱 오차\n",
    "2. mean_absolute_error : 평균 절대 오차\n",
    "3. mean_absolute_percentage_error : 평균 절대 백분율 오차\n",
    "4. mean_squared_logarithmic_error : 평균 제곱 로그 오차\n",
    "- 교차 엔트로피 계열\n",
    "1. categorical_crossentropy : 범주형 교차 엔트로피\n",
    "2. binary_crossentropy : 이항 교차 엔트로피"
   ]
  },
  {
   "cell_type": "code",
   "execution_count": 9,
   "metadata": {},
   "outputs": [
    {
     "name": "stdout",
     "output_type": "stream",
     "text": [
      "Epoch 1/30\n",
      "470/470 [==============================] - 0s - loss: 6.3035 - acc: 0.4213         \n",
      "Epoch 2/30\n",
      "470/470 [==============================] - 0s - loss: 1.3025 - acc: 0.7957     \n",
      "Epoch 3/30\n",
      "470/470 [==============================] - 0s - loss: 0.9830 - acc: 0.8085     \n",
      "Epoch 4/30\n",
      "470/470 [==============================] - 0s - loss: 0.7881 - acc: 0.7957     \n",
      "Epoch 5/30\n",
      "470/470 [==============================] - 0s - loss: 0.6612 - acc: 0.7745     \n",
      "Epoch 6/30\n",
      "470/470 [==============================] - 0s - loss: 0.5217 - acc: 0.8191     \n",
      "Epoch 7/30\n",
      "470/470 [==============================] - 0s - loss: 0.4822 - acc: 0.8319     \n",
      "Epoch 8/30\n",
      "470/470 [==============================] - 0s - loss: 0.4604 - acc: 0.8447     \n",
      "Epoch 9/30\n",
      "470/470 [==============================] - 0s - loss: 0.4651 - acc: 0.8489     \n",
      "Epoch 10/30\n",
      "470/470 [==============================] - 0s - loss: 0.4501 - acc: 0.8426     \n",
      "Epoch 11/30\n",
      "470/470 [==============================] - 0s - loss: 0.4339 - acc: 0.8511     \n",
      "Epoch 12/30\n",
      "470/470 [==============================] - 0s - loss: 0.4324 - acc: 0.8511     \n",
      "Epoch 13/30\n",
      "470/470 [==============================] - 0s - loss: 0.4363 - acc: 0.8511     \n",
      "Epoch 14/30\n",
      "470/470 [==============================] - 0s - loss: 0.4738 - acc: 0.8383     \n",
      "Epoch 15/30\n",
      "470/470 [==============================] - 0s - loss: 0.4300 - acc: 0.8511     \n",
      "Epoch 16/30\n",
      "470/470 [==============================] - 0s - loss: 0.4440 - acc: 0.8489     \n",
      "Epoch 17/30\n",
      "470/470 [==============================] - 0s - loss: 0.4487 - acc: 0.8489     \n",
      "Epoch 18/30\n",
      "470/470 [==============================] - 0s - loss: 0.4850 - acc: 0.8511     \n",
      "Epoch 19/30\n",
      "470/470 [==============================] - 0s - loss: 0.4560 - acc: 0.8511     \n",
      "Epoch 20/30\n",
      "470/470 [==============================] - 0s - loss: 0.4301 - acc: 0.8511     \n",
      "Epoch 21/30\n",
      "470/470 [==============================] - 0s - loss: 0.4220 - acc: 0.8511     \n",
      "Epoch 22/30\n",
      "470/470 [==============================] - 0s - loss: 0.4316 - acc: 0.8489     \n",
      "Epoch 23/30\n",
      "470/470 [==============================] - 0s - loss: 0.4353 - acc: 0.8511     \n",
      "Epoch 24/30\n",
      "470/470 [==============================] - 0s - loss: 0.4378 - acc: 0.8468     \n",
      "Epoch 25/30\n",
      "470/470 [==============================] - 0s - loss: 0.4300 - acc: 0.8511     \n",
      "Epoch 26/30\n",
      "470/470 [==============================] - 0s - loss: 0.4769 - acc: 0.8383     \n",
      "Epoch 27/30\n",
      "470/470 [==============================] - 0s - loss: 0.4513 - acc: 0.8426     \n",
      "Epoch 28/30\n",
      "470/470 [==============================] - 0s - loss: 0.4842 - acc: 0.8277     \n",
      "Epoch 29/30\n",
      "470/470 [==============================] - 0s - loss: 0.4395 - acc: 0.8553     \n",
      "Epoch 30/30\n",
      "470/470 [==============================] - 0s - loss: 0.4064 - acc: 0.8426     \n"
     ]
    },
    {
     "data": {
      "text/plain": [
       "<keras.callbacks.History at 0x12c1cf898>"
      ]
     },
     "execution_count": 9,
     "metadata": {},
     "output_type": "execute_result"
    }
   ],
   "source": [
    "model.fit(X, Y, epochs=30, batch_size=10)"
   ]
  },
  {
   "cell_type": "code",
   "execution_count": 10,
   "metadata": {},
   "outputs": [
    {
     "name": "stdout",
     "output_type": "stream",
     "text": [
      " 32/470 [=>............................] - ETA: 0saccuracy: 0.8489\n"
     ]
    }
   ],
   "source": [
    "print('accuracy: %.4f' % (model.evaluate(X, Y)[1]))"
   ]
  },
  {
   "cell_type": "code",
   "execution_count": null,
   "metadata": {},
   "outputs": [],
   "source": []
  }
 ],
 "metadata": {
  "kernelspec": {
   "display_name": "Python 3",
   "language": "python",
   "name": "python3"
  },
  "language_info": {
   "codemirror_mode": {
    "name": "ipython",
    "version": 3
   },
   "file_extension": ".py",
   "mimetype": "text/x-python",
   "name": "python",
   "nbconvert_exporter": "python",
   "pygments_lexer": "ipython3",
   "version": "3.6.4"
  }
 },
 "nbformat": 4,
 "nbformat_minor": 2
}
