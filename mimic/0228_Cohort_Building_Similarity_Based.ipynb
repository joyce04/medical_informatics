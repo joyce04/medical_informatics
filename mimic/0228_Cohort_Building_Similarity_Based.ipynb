{
 "cells": [
  {
   "cell_type": "code",
   "execution_count": 1,
   "metadata": {},
   "outputs": [],
   "source": [
    "# Similar patients\n",
    "# Time series can be applied with two approaches: 1. similarity-based(distance) and 2. feature-based"
   ]
  },
  {
   "cell_type": "code",
   "execution_count": 2,
   "metadata": {},
   "outputs": [],
   "source": [
    "from gensim.corpora import Dictionary\n",
    "from gensim.models import ldamodel\n",
    "from gensim.matutils import kullback_leibler, jaccard, hellinger, sparse2full\n",
    "import numpy"
   ]
  },
  {
   "cell_type": "markdown",
   "metadata": {},
   "source": [
    "## Diagnoses"
   ]
  },
  {
   "cell_type": "code",
   "execution_count": 3,
   "metadata": {},
   "outputs": [
    {
     "data": {
      "text/plain": [
       "(5409, 5)"
      ]
     },
     "execution_count": 3,
     "metadata": {},
     "output_type": "execute_result"
    }
   ],
   "source": [
    "diagnoses = pd.read_csv('/Users/grace/mimic/csv/DIAGNOSES_ICD.csv', sep=',')\n",
    "diagnoses[diagnoses.ICD9_CODE.isin(['77181', '99591', '99592', '67020', '67022', '67024'])].shape"
   ]
  },
  {
   "cell_type": "code",
   "execution_count": 4,
   "metadata": {},
   "outputs": [
    {
     "data": {
      "text/plain": [
       "array([  117,   124,    64, ..., 95803, 97143, 97158])"
      ]
     },
     "execution_count": 4,
     "metadata": {},
     "output_type": "execute_result"
    }
   ],
   "source": [
    "sepsis_patients = diagnoses[diagnoses.ICD9_CODE.isin(['77181', '99591', '99592', '67020', '67022', '67024'])]['SUBJECT_ID'].unique()\n",
    "sepsis_patients"
   ]
  },
  {
   "cell_type": "code",
   "execution_count": 5,
   "metadata": {},
   "outputs": [
    {
     "data": {
      "text/plain": [
       "array(['0389', '4275', '78551', '4260', '4210', '40391', '25041', '2767',\n",
       "       'V4975', '99592', '41092', '99662', '03842', '2869', '99681',\n",
       "       '4254', '2851', 'V5867', '51889', '7904', '71941', '0383', '70703',\n",
       "       '78552', '07070', '28521', '40301', '43491', '4372', '2720',\n",
       "       '25051', '2761', '36201', '431', '3314', '7070', '25081', '78039',\n",
       "       '51881'], dtype=object)"
      ]
     },
     "execution_count": 5,
     "metadata": {},
     "output_type": "execute_result"
    }
   ],
   "source": [
    "#seed patient\n",
    "unique_d_for_25030 = diagnoses[diagnoses.SUBJECT_ID==25030]['ICD9_CODE'].unique()\n",
    "unique_d_for_25030"
   ]
  },
  {
   "cell_type": "code",
   "execution_count": 6,
   "metadata": {},
   "outputs": [
    {
     "data": {
      "text/plain": [
       "144"
      ]
     },
     "execution_count": 6,
     "metadata": {},
     "output_type": "execute_result"
    }
   ],
   "source": [
    "patients = {}\n",
    "max_d = 0\n",
    "for i, grp in diagnoses[diagnoses.SUBJECT_ID.isin(sepsis_patients)].groupby('SUBJECT_ID'):\n",
    "#     print(i)\n",
    "    if i == 25030:\n",
    "        continue\n",
    "    else:\n",
    "        patients[i] = list(map(lambda x: str(x), grp.ICD9_CODE.unique()))\n",
    "\n",
    "        if max_d < len(grp.ICD9_CODE.unique()):\n",
    "            max_d = len(grp.ICD9_CODE.unique())\n",
    "#     print(i)\n",
    "#     print(grp.ICD9_CODE.unique())\n",
    "\n",
    "max_d"
   ]
  },
  {
   "cell_type": "code",
   "execution_count": 7,
   "metadata": {},
   "outputs": [],
   "source": [
    "def jaccard_index(first_set, second_set):\n",
    "    \"\"\" Computes jaccard index of two sets\n",
    "        Arguments:\n",
    "          first_set(set):\n",
    "          second_set(set):\n",
    "        Returns:\n",
    "          index(float): Jaccard index between two sets; it is \n",
    "            between 0.0 and 1.0\n",
    "    \"\"\"\n",
    "    # If both sets are empty, jaccard index is defined to be 1\n",
    "    index = 1.0\n",
    "    if first_set or second_set:\n",
    "        index = (float(len(first_set.intersection(second_set))) \n",
    "             / len(first_set.union(second_set)))\n",
    "\n",
    "    return index"
   ]
  },
  {
   "cell_type": "code",
   "execution_count": 8,
   "metadata": {},
   "outputs": [
    {
     "name": "stdout",
     "output_type": "stream",
     "text": [
      "0.09523809523809523\n"
     ]
    }
   ],
   "source": [
    "first_set = set(patients[21])\n",
    "second_set = set(patients[38])\n",
    "index = jaccard_index(first_set, second_set)\n",
    "print(index)"
   ]
  },
  {
   "cell_type": "code",
   "execution_count": 9,
   "metadata": {},
   "outputs": [
    {
     "data": {
      "text/plain": [
       "4780"
      ]
     },
     "execution_count": 9,
     "metadata": {},
     "output_type": "execute_result"
    }
   ],
   "source": [
    "len(patients)"
   ]
  },
  {
   "cell_type": "code",
   "execution_count": 10,
   "metadata": {},
   "outputs": [],
   "source": [
    "#find similar patients to 25030\n",
    "\n",
    "d_for_25030 = set(unique_d_for_25030)\n",
    "\n",
    "def compute_jaccard(base_set, rest_dic):\n",
    "    jac_dic = []\n",
    "    for i in rest_dic.keys():\n",
    "        jac_dic.append({'SUBJECT_ID': i,\n",
    "        'jaccard_index': jaccard_index(base_set, set(rest_dic[i])),\n",
    "        'set':rest_dic[i]})\n",
    "\n",
    "    return jac_dic\n",
    "\n",
    "jac_dic = compute_jaccard(d_for_25030, patients)"
   ]
  },
  {
   "cell_type": "code",
   "execution_count": 11,
   "metadata": {},
   "outputs": [
    {
     "data": {
      "text/html": [
       "<div>\n",
       "<style scoped>\n",
       "    .dataframe tbody tr th:only-of-type {\n",
       "        vertical-align: middle;\n",
       "    }\n",
       "\n",
       "    .dataframe tbody tr th {\n",
       "        vertical-align: top;\n",
       "    }\n",
       "\n",
       "    .dataframe thead th {\n",
       "        text-align: right;\n",
       "    }\n",
       "</style>\n",
       "<table border=\"1\" class=\"dataframe\">\n",
       "  <thead>\n",
       "    <tr style=\"text-align: right;\">\n",
       "      <th></th>\n",
       "      <th>SUBJECT_ID</th>\n",
       "      <th>jaccard_index</th>\n",
       "      <th>set</th>\n",
       "    </tr>\n",
       "  </thead>\n",
       "  <tbody>\n",
       "    <tr>\n",
       "      <th>0</th>\n",
       "      <td>21</td>\n",
       "      <td>0.090909</td>\n",
       "      <td>[41071, 78551, 5781, 5849, 40391, 4280, 4592, ...</td>\n",
       "    </tr>\n",
       "    <tr>\n",
       "      <th>1</th>\n",
       "      <td>38</td>\n",
       "      <td>0.040000</td>\n",
       "      <td>[60883, 0389, 99592, 5849, 4280, 42731, 9982, ...</td>\n",
       "    </tr>\n",
       "    <tr>\n",
       "      <th>2</th>\n",
       "      <td>61</td>\n",
       "      <td>0.032258</td>\n",
       "      <td>[20280, 2880, 2875, 5781, 2851, 2639, 9998, 57...</td>\n",
       "    </tr>\n",
       "    <tr>\n",
       "      <th>3</th>\n",
       "      <td>62</td>\n",
       "      <td>0.000000</td>\n",
       "      <td>[1125, 03849, 7100, 99591, 2859, 7140]</td>\n",
       "    </tr>\n",
       "    <tr>\n",
       "      <th>4</th>\n",
       "      <td>64</td>\n",
       "      <td>0.021277</td>\n",
       "      <td>[03811, 99591, 30400, 1120, 5111, 7895, 71107,...</td>\n",
       "    </tr>\n",
       "  </tbody>\n",
       "</table>\n",
       "</div>"
      ],
      "text/plain": [
       "   SUBJECT_ID  jaccard_index  \\\n",
       "0          21       0.090909   \n",
       "1          38       0.040000   \n",
       "2          61       0.032258   \n",
       "3          62       0.000000   \n",
       "4          64       0.021277   \n",
       "\n",
       "                                                 set  \n",
       "0  [41071, 78551, 5781, 5849, 40391, 4280, 4592, ...  \n",
       "1  [60883, 0389, 99592, 5849, 4280, 42731, 9982, ...  \n",
       "2  [20280, 2880, 2875, 5781, 2851, 2639, 9998, 57...  \n",
       "3             [1125, 03849, 7100, 99591, 2859, 7140]  \n",
       "4  [03811, 99591, 30400, 1120, 5111, 7895, 71107,...  "
      ]
     },
     "execution_count": 11,
     "metadata": {},
     "output_type": "execute_result"
    }
   ],
   "source": [
    "jac_df = pd.DataFrame(jac_dic)\n",
    "# jac_df.head()"
   ]
  },
  {
   "cell_type": "code",
   "execution_count": 17,
   "metadata": {},
   "outputs": [
    {
     "data": {
      "text/html": [
       "<div>\n",
       "<style scoped>\n",
       "    .dataframe tbody tr th:only-of-type {\n",
       "        vertical-align: middle;\n",
       "    }\n",
       "\n",
       "    .dataframe tbody tr th {\n",
       "        vertical-align: top;\n",
       "    }\n",
       "\n",
       "    .dataframe thead th {\n",
       "        text-align: right;\n",
       "    }\n",
       "</style>\n",
       "<table border=\"1\" class=\"dataframe\">\n",
       "  <thead>\n",
       "    <tr style=\"text-align: right;\">\n",
       "      <th></th>\n",
       "      <th>SUBJECT_ID</th>\n",
       "      <th>jaccard_index</th>\n",
       "      <th>set</th>\n",
       "    </tr>\n",
       "  </thead>\n",
       "  <tbody>\n",
       "    <tr>\n",
       "      <th>0</th>\n",
       "      <td>21</td>\n",
       "      <td>0.090909</td>\n",
       "      <td>[41071, 78551, 5781, 5849, 40391, 4280, 4592, 5070, 42731, 4271, 41401, 25000, 28521, 1122, 2720, 2749, V1046, 43889, 0388, 78552, 70709, 5119, 6823, 99859, 00845, 5720, 99592, V0980, 2859, 185, 4439, 2449, E8788]</td>\n",
       "    </tr>\n",
       "    <tr>\n",
       "      <th>1</th>\n",
       "      <td>38</td>\n",
       "      <td>0.040000</td>\n",
       "      <td>[60883, 0389, 99592, 5849, 4280, 42731, 9982, 9974, 5601, 6084, E8708, 41400, V4581]</td>\n",
       "    </tr>\n",
       "    <tr>\n",
       "      <th>2</th>\n",
       "      <td>61</td>\n",
       "      <td>0.032258</td>\n",
       "      <td>[20280, 2880, 2875, 5781, 2851, 2639, 9998, 5790, 6930, 2848, 99685, 56983, 5672, 2762, 0389, 99591, 2763, 7994, 1120, 2765, 4589, 42731, 2554, 3510, 0880]</td>\n",
       "    </tr>\n",
       "    <tr>\n",
       "      <th>4</th>\n",
       "      <td>64</td>\n",
       "      <td>0.021277</td>\n",
       "      <td>[03811, 99591, 30400, 1120, 5111, 7895, 71107, 71104, 4210]</td>\n",
       "    </tr>\n",
       "    <tr>\n",
       "      <th>5</th>\n",
       "      <td>85</td>\n",
       "      <td>0.014925</td>\n",
       "      <td>[0389, 486, V4281, 23875, 42731, 41400, 3004, 2724, 2449, 60001, 78843, 32723, 3320, 3051, V1079, V4581, V433, 99591, 5853, 4241, 20280, V4282, 99811, 30000, 53081, 60000, E8798, 41401, 4412]</td>\n",
       "    </tr>\n",
       "  </tbody>\n",
       "</table>\n",
       "</div>"
      ],
      "text/plain": [
       "   SUBJECT_ID  jaccard_index  \\\n",
       "0  21          0.090909        \n",
       "1  38          0.040000        \n",
       "2  61          0.032258        \n",
       "4  64          0.021277        \n",
       "5  85          0.014925        \n",
       "\n",
       "                                                                                                                                                                                                                     set  \n",
       "0  [41071, 78551, 5781, 5849, 40391, 4280, 4592, 5070, 42731, 4271, 41401, 25000, 28521, 1122, 2720, 2749, V1046, 43889, 0388, 78552, 70709, 5119, 6823, 99859, 00845, 5720, 99592, V0980, 2859, 185, 4439, 2449, E8788]  \n",
       "1  [60883, 0389, 99592, 5849, 4280, 42731, 9982, 9974, 5601, 6084, E8708, 41400, V4581]                                                                                                                                   \n",
       "2  [20280, 2880, 2875, 5781, 2851, 2639, 9998, 5790, 6930, 2848, 99685, 56983, 5672, 2762, 0389, 99591, 2763, 7994, 1120, 2765, 4589, 42731, 2554, 3510, 0880]                                                            \n",
       "4  [03811, 99591, 30400, 1120, 5111, 7895, 71107, 71104, 4210]                                                                                                                                                            \n",
       "5  [0389, 486, V4281, 23875, 42731, 41400, 3004, 2724, 2449, 60001, 78843, 32723, 3320, 3051, V1079, V4581, V433, 99591, 5853, 4241, 20280, V4282, 99811, 30000, 53081, 60000, E8798, 41401, 4412]                        "
      ]
     },
     "execution_count": 17,
     "metadata": {},
     "output_type": "execute_result"
    }
   ],
   "source": [
    "# jac_df[jac_df.jaccard_index>0].head()"
   ]
  },
  {
   "cell_type": "code",
   "execution_count": 13,
   "metadata": {},
   "outputs": [],
   "source": [
    "pd.set_option('display.max_rows', None)\n",
    "pd.set_option('display.max_colwidth', -1)  "
   ]
  },
  {
   "cell_type": "code",
   "execution_count": 16,
   "metadata": {},
   "outputs": [
    {
     "data": {
      "text/html": [
       "<div>\n",
       "<style scoped>\n",
       "    .dataframe tbody tr th:only-of-type {\n",
       "        vertical-align: middle;\n",
       "    }\n",
       "\n",
       "    .dataframe tbody tr th {\n",
       "        vertical-align: top;\n",
       "    }\n",
       "\n",
       "    .dataframe thead th {\n",
       "        text-align: right;\n",
       "    }\n",
       "</style>\n",
       "<table border=\"1\" class=\"dataframe\">\n",
       "  <thead>\n",
       "    <tr style=\"text-align: right;\">\n",
       "      <th></th>\n",
       "      <th>SUBJECT_ID</th>\n",
       "      <th>jaccard_index</th>\n",
       "      <th>set</th>\n",
       "    </tr>\n",
       "  </thead>\n",
       "  <tbody>\n",
       "    <tr>\n",
       "      <th>1038</th>\n",
       "      <td>12733</td>\n",
       "      <td>0.208333</td>\n",
       "      <td>[44023, 4280, 5856, 40391, 70714, 25000, V1082, 0389, 51881, 42842, 78552, 4271, 41071, 00845, 72886, 7854, 99592, 2720, V4975, 4439, V4581, 412, 70705, 70703, 70720, 0272, 1125, 71103, 99662, 6824, 99702, 43491, 4275, 6822, 570, 70723, 94421, E9248, 28521, 43310, V5867, 25080, 25050, 36201, 99769, 5789, 2851, 4589]</td>\n",
       "    </tr>\n",
       "    <tr>\n",
       "      <th>146</th>\n",
       "      <td>1795</td>\n",
       "      <td>0.203704</td>\n",
       "      <td>[0389, 41071, 4280, 78552, 40391, 5856, 44024, 2761, 4254, 5119, 570, 431, 2869, 25070, 99592, 4589, 41401, 25060, 25050, 5363, 36201, 2720, 04111, 73300, V5867, V090]</td>\n",
       "    </tr>\n",
       "    <tr>\n",
       "      <th>1404</th>\n",
       "      <td>17564</td>\n",
       "      <td>0.200000</td>\n",
       "      <td>[99662, 03811, 99592, 78552, 5990, 70714, 40391, 5856, 2761, 4538, 2851, 00845, 0417, 44023, 25040, V5867, 45184, 73028, 72290, 4592, 4280, 0389, 51881, 2767, 5070, 70703, 37601]</td>\n",
       "    </tr>\n",
       "    <tr>\n",
       "      <th>4185</th>\n",
       "      <td>82512</td>\n",
       "      <td>0.190476</td>\n",
       "      <td>[4241, 5845, 0389, 99592, 51881, 486, 4254, 42822, 70714, 4271, 2851, 99681, 5119, 2762, 2761, V707, V4501, V4973, 4019, 2720, 4168, 4439, V1251, 41401, V4582, 42731, 4280, 32723, 58381, 25041, 4275, 42741, 2875, E8780, 78551, 2767]</td>\n",
       "    </tr>\n",
       "    <tr>\n",
       "      <th>1568</th>\n",
       "      <td>19632</td>\n",
       "      <td>0.175439</td>\n",
       "      <td>[431, 496, 4280, 3314, 4439, 25000, 53081, 4019, 99662, 03811, 99592, 51881, 78552, 40391, 2874, 4538, V4581, 28521, 25060, 3572, 25040, 4271, 2639, 2869, V090, V4975, V4976, V180]</td>\n",
       "    </tr>\n",
       "    <tr>\n",
       "      <th>1604</th>\n",
       "      <td>20133</td>\n",
       "      <td>0.174419</td>\n",
       "      <td>[4373, 486, 4280, 99681, 5849, 25001, 4538, 2762, 07070, 5119, 99811, 2930, 32723, 4019, V5867, 25013, 5856, 42822, 4254, 25043, V4511, 25083, E9323, 28521, 07054, 3542, 7810, V1582, 4809, V420, 25051, 36201, 25081, 42823, 51881, 40391, 7830, 34982, E8780, V5865, 2767, 2724, V454, 53081, 79092, 45821, 27652, 4275, V667, V4986, 2760, 0389, 78552, 5121, 2867, 57510, 99592, 78065, E8798, V4502, 5730, 5715]</td>\n",
       "    </tr>\n",
       "    <tr>\n",
       "      <th>1634</th>\n",
       "      <td>20546</td>\n",
       "      <td>0.173913</td>\n",
       "      <td>[0389, 5849, 51881, 5070, 48241, 2767, 78039, 2851, 5780, 78552, 99592, 7070, 2762, 5789, 2859]</td>\n",
       "    </tr>\n",
       "    <tr>\n",
       "      <th>425</th>\n",
       "      <td>4962</td>\n",
       "      <td>0.171875</td>\n",
       "      <td>[07044, 5856, 40391, 5723, 78959, 2762, 2930, 45821, 5712, 25000, 28521, V4511, 0389, 78552, 486, 2866, 5724, 5849, 5789, 2851, 99592, 07054, 33829, 51881, 30500, 07070, 78039, 25022, 2761, 5715, 2875, 3558, 2767, E8801, 81408, 81502]</td>\n",
       "    </tr>\n",
       "    <tr>\n",
       "      <th>682</th>\n",
       "      <td>8452</td>\n",
       "      <td>0.168675</td>\n",
       "      <td>[25013, 27651, 5849, 40391, 99681, 2767, V5867, 41401, 25063, 5363, 25053, 36201, 3572, 03811, 78552, 51881, 41071, 5856, 6827, V420, 42822, 78959, 99592, 25061, 70715, 4280, 25051, V4582, 4439, 2384, 53570, 4264, 4168, 6111, 2728, 78791, 2768, 2859, V4511, V1254, 45821, 25541, E8791, 412, 28521, 27652, 78551, 7854, 2762, 73007, 00845, 25071, 25081, 7354, 27800, 0389, 6826, 4275]</td>\n",
       "    </tr>\n",
       "    <tr>\n",
       "      <th>4050</th>\n",
       "      <td>78474</td>\n",
       "      <td>0.166667</td>\n",
       "      <td>[0389, 51881, 78552, 5070, 570, 70724, 3481, 5849, 42822, 2761, 2869, 2639, 99592, 4275, 78551, 4280, 4019, 60000, 70703, 70707, 70709, 70720, 2875, V667]</td>\n",
       "    </tr>\n",
       "  </tbody>\n",
       "</table>\n",
       "</div>"
      ],
      "text/plain": [
       "      SUBJECT_ID  jaccard_index  \\\n",
       "1038  12733       0.208333        \n",
       "146   1795        0.203704        \n",
       "1404  17564       0.200000        \n",
       "4185  82512       0.190476        \n",
       "1568  19632       0.175439        \n",
       "1604  20133       0.174419        \n",
       "1634  20546       0.173913        \n",
       "425   4962        0.171875        \n",
       "682   8452        0.168675        \n",
       "4050  78474       0.166667        \n",
       "\n",
       "                                                                                                                                                                                                                                                                                                                                                                                                                         set  \n",
       "1038  [44023, 4280, 5856, 40391, 70714, 25000, V1082, 0389, 51881, 42842, 78552, 4271, 41071, 00845, 72886, 7854, 99592, 2720, V4975, 4439, V4581, 412, 70705, 70703, 70720, 0272, 1125, 71103, 99662, 6824, 99702, 43491, 4275, 6822, 570, 70723, 94421, E9248, 28521, 43310, V5867, 25080, 25050, 36201, 99769, 5789, 2851, 4589]                                                                                           \n",
       "146   [0389, 41071, 4280, 78552, 40391, 5856, 44024, 2761, 4254, 5119, 570, 431, 2869, 25070, 99592, 4589, 41401, 25060, 25050, 5363, 36201, 2720, 04111, 73300, V5867, V090]                                                                                                                                                                                                                                                 \n",
       "1404  [99662, 03811, 99592, 78552, 5990, 70714, 40391, 5856, 2761, 4538, 2851, 00845, 0417, 44023, 25040, V5867, 45184, 73028, 72290, 4592, 4280, 0389, 51881, 2767, 5070, 70703, 37601]                                                                                                                                                                                                                                      \n",
       "4185  [4241, 5845, 0389, 99592, 51881, 486, 4254, 42822, 70714, 4271, 2851, 99681, 5119, 2762, 2761, V707, V4501, V4973, 4019, 2720, 4168, 4439, V1251, 41401, V4582, 42731, 4280, 32723, 58381, 25041, 4275, 42741, 2875, E8780, 78551, 2767]                                                                                                                                                                                \n",
       "1568  [431, 496, 4280, 3314, 4439, 25000, 53081, 4019, 99662, 03811, 99592, 51881, 78552, 40391, 2874, 4538, V4581, 28521, 25060, 3572, 25040, 4271, 2639, 2869, V090, V4975, V4976, V180]                                                                                                                                                                                                                                    \n",
       "1604  [4373, 486, 4280, 99681, 5849, 25001, 4538, 2762, 07070, 5119, 99811, 2930, 32723, 4019, V5867, 25013, 5856, 42822, 4254, 25043, V4511, 25083, E9323, 28521, 07054, 3542, 7810, V1582, 4809, V420, 25051, 36201, 25081, 42823, 51881, 40391, 7830, 34982, E8780, V5865, 2767, 2724, V454, 53081, 79092, 45821, 27652, 4275, V667, V4986, 2760, 0389, 78552, 5121, 2867, 57510, 99592, 78065, E8798, V4502, 5730, 5715]  \n",
       "1634  [0389, 5849, 51881, 5070, 48241, 2767, 78039, 2851, 5780, 78552, 99592, 7070, 2762, 5789, 2859]                                                                                                                                                                                                                                                                                                                         \n",
       "425   [07044, 5856, 40391, 5723, 78959, 2762, 2930, 45821, 5712, 25000, 28521, V4511, 0389, 78552, 486, 2866, 5724, 5849, 5789, 2851, 99592, 07054, 33829, 51881, 30500, 07070, 78039, 25022, 2761, 5715, 2875, 3558, 2767, E8801, 81408, 81502]                                                                                                                                                                              \n",
       "682   [25013, 27651, 5849, 40391, 99681, 2767, V5867, 41401, 25063, 5363, 25053, 36201, 3572, 03811, 78552, 51881, 41071, 5856, 6827, V420, 42822, 78959, 99592, 25061, 70715, 4280, 25051, V4582, 4439, 2384, 53570, 4264, 4168, 6111, 2728, 78791, 2768, 2859, V4511, V1254, 45821, 25541, E8791, 412, 28521, 27652, 78551, 7854, 2762, 73007, 00845, 25071, 25081, 7354, 27800, 0389, 6826, 4275]                          \n",
       "4050  [0389, 51881, 78552, 5070, 570, 70724, 3481, 5849, 42822, 2761, 2869, 2639, 99592, 4275, 78551, 4280, 4019, 60000, 70703, 70707, 70709, 70720, 2875, V667]                                                                                                                                                                                                                                                              "
      ]
     },
     "execution_count": 16,
     "metadata": {},
     "output_type": "execute_result"
    }
   ],
   "source": [
    "jac_df[jac_df.jaccard_index>0.1].sort_values(by='jaccard_index', ascending=False)[:10]"
   ]
  },
  {
   "cell_type": "code",
   "execution_count": null,
   "metadata": {},
   "outputs": [],
   "source": []
  }
 ],
 "metadata": {
  "kernelspec": {
   "display_name": "Python 3",
   "language": "python",
   "name": "python3"
  },
  "language_info": {
   "codemirror_mode": {
    "name": "ipython",
    "version": 3
   },
   "file_extension": ".py",
   "mimetype": "text/x-python",
   "name": "python",
   "nbconvert_exporter": "python",
   "pygments_lexer": "ipython3",
   "version": "3.6.4"
  }
 },
 "nbformat": 4,
 "nbformat_minor": 2
}
