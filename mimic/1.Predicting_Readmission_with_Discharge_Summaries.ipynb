{
 "cells": [
  {
   "cell_type": "markdown",
   "metadata": {},
   "source": [
    "## Predicting Readmission with Discharge Summaries\n",
    "## 퇴원노트로 재입원 예측하기\n",
    "\n",
    "This notebook is studying purpose following Andrew Long's Introduction to Clinical Natural Language Processing: https://github.com/andrewwlong/mimic_bow/blob/master/mimic_bow_full.ipynb"
   ]
  },
  {
   "cell_type": "markdown",
   "metadata": {},
   "source": [
    "### model \n",
    ": predict which patients are at risk for 30-day unplanned readmission with discharge summary notes\n",
    "\n",
    "### Dataset\n",
    ": MIMIC-III\n",
    "- 1) ADMISSIONS : table containing admission and discharge dates\n",
    "- 2) NOTEEVENTS : notes for each hospitalization\n",
    "- HADM_ID"
   ]
  },
  {
   "cell_type": "markdown",
   "metadata": {},
   "source": [
    "## Preprocessing:\n",
    "\n",
    "### 1. ADMISSION\n",
    "- retreive data from admission (admission_type only {urgent or emergency or elective})\n",
    "- convert strings to dates\n",
    "- get the next unplanned admission\n",
    "- calculate days until next admission\n",
    "\n",
    "### 2. NOTES\n",
    "- filter discharge summaries\n",
    "\n",
    "### 3. MERGE\n",
    "- select one summary per admission\n",
    "- label output\n",
    "- make training/validation/test set"
   ]
  },
  {
   "cell_type": "markdown",
   "metadata": {},
   "source": [
    "### 1. ADMISSION\n",
    "\n",
    "#### 1.1\n",
    "- retreive admission data with admission_type **{elective or emergency or urgent}** \n",
    "- **{admittime, dischtime, deathtime}** will be converted to timestamp if applicable.  \n",
    "(format YYYY-MM-DD hh:mm:ss)"
   ]
  },
  {
   "cell_type": "code",
   "execution_count": 41,
   "metadata": {},
   "outputs": [],
   "source": [
    "import pandas as pd\n",
    "import numpy as np\n",
    "import matplotlib.pyplot as plt\n",
    "import sys\n",
    "import datetime\n",
    "\n",
    "sys.path.append('./db')\n",
    "\n",
    "import alchemy_con\n",
    "engine = alchemy_con.get_engine()"
   ]
  },
  {
   "cell_type": "code",
   "execution_count": 43,
   "metadata": {},
   "outputs": [
    {
     "data": {
      "text/html": [
       "<div>\n",
       "<style scoped>\n",
       "    .dataframe tbody tr th:only-of-type {\n",
       "        vertical-align: middle;\n",
       "    }\n",
       "\n",
       "    .dataframe tbody tr th {\n",
       "        vertical-align: top;\n",
       "    }\n",
       "\n",
       "    .dataframe thead th {\n",
       "        text-align: right;\n",
       "    }\n",
       "</style>\n",
       "<table border=\"1\" class=\"dataframe\">\n",
       "  <thead>\n",
       "    <tr style=\"text-align: right;\">\n",
       "      <th></th>\n",
       "      <th>row_id</th>\n",
       "      <th>subject_id</th>\n",
       "      <th>hadm_id</th>\n",
       "      <th>admittime</th>\n",
       "      <th>dischtime</th>\n",
       "      <th>deathtime</th>\n",
       "      <th>admission_type</th>\n",
       "      <th>admission_location</th>\n",
       "      <th>discharge_location</th>\n",
       "      <th>insurance</th>\n",
       "      <th>language</th>\n",
       "      <th>religion</th>\n",
       "      <th>marital_status</th>\n",
       "      <th>ethnicity</th>\n",
       "      <th>edregtime</th>\n",
       "      <th>edouttime</th>\n",
       "      <th>diagnosis</th>\n",
       "      <th>hospital_expire_flag</th>\n",
       "      <th>has_chartevents_data</th>\n",
       "    </tr>\n",
       "  </thead>\n",
       "  <tbody>\n",
       "    <tr>\n",
       "      <th>0</th>\n",
       "      <td>21</td>\n",
       "      <td>22</td>\n",
       "      <td>165315</td>\n",
       "      <td>2196-04-09 12:26:00</td>\n",
       "      <td>2196-04-10 15:54:00</td>\n",
       "      <td>NaT</td>\n",
       "      <td>EMERGENCY</td>\n",
       "      <td>EMERGENCY ROOM ADMIT</td>\n",
       "      <td>DISC-TRAN CANCER/CHLDRN H</td>\n",
       "      <td>Private</td>\n",
       "      <td>None</td>\n",
       "      <td>UNOBTAINABLE</td>\n",
       "      <td>MARRIED</td>\n",
       "      <td>WHITE</td>\n",
       "      <td>2196-04-09 10:06:00</td>\n",
       "      <td>2196-04-09 13:24:00</td>\n",
       "      <td>BENZODIAZEPINE OVERDOSE</td>\n",
       "      <td>0</td>\n",
       "      <td>1</td>\n",
       "    </tr>\n",
       "    <tr>\n",
       "      <th>1</th>\n",
       "      <td>22</td>\n",
       "      <td>23</td>\n",
       "      <td>152223</td>\n",
       "      <td>2153-09-03 07:15:00</td>\n",
       "      <td>2153-09-08 19:10:00</td>\n",
       "      <td>NaT</td>\n",
       "      <td>ELECTIVE</td>\n",
       "      <td>PHYS REFERRAL/NORMAL DELI</td>\n",
       "      <td>HOME HEALTH CARE</td>\n",
       "      <td>Medicare</td>\n",
       "      <td>None</td>\n",
       "      <td>CATHOLIC</td>\n",
       "      <td>MARRIED</td>\n",
       "      <td>WHITE</td>\n",
       "      <td>NaT</td>\n",
       "      <td>NaT</td>\n",
       "      <td>CORONARY ARTERY DISEASE\\CORONARY ARTERY BYPASS...</td>\n",
       "      <td>0</td>\n",
       "      <td>1</td>\n",
       "    </tr>\n",
       "    <tr>\n",
       "      <th>2</th>\n",
       "      <td>23</td>\n",
       "      <td>23</td>\n",
       "      <td>124321</td>\n",
       "      <td>2157-10-18 19:34:00</td>\n",
       "      <td>2157-10-25 14:00:00</td>\n",
       "      <td>NaT</td>\n",
       "      <td>EMERGENCY</td>\n",
       "      <td>TRANSFER FROM HOSP/EXTRAM</td>\n",
       "      <td>HOME HEALTH CARE</td>\n",
       "      <td>Medicare</td>\n",
       "      <td>ENGL</td>\n",
       "      <td>CATHOLIC</td>\n",
       "      <td>MARRIED</td>\n",
       "      <td>WHITE</td>\n",
       "      <td>NaT</td>\n",
       "      <td>NaT</td>\n",
       "      <td>BRAIN MASS</td>\n",
       "      <td>0</td>\n",
       "      <td>1</td>\n",
       "    </tr>\n",
       "    <tr>\n",
       "      <th>3</th>\n",
       "      <td>24</td>\n",
       "      <td>24</td>\n",
       "      <td>161859</td>\n",
       "      <td>2139-06-06 16:14:00</td>\n",
       "      <td>2139-06-09 12:48:00</td>\n",
       "      <td>NaT</td>\n",
       "      <td>EMERGENCY</td>\n",
       "      <td>TRANSFER FROM HOSP/EXTRAM</td>\n",
       "      <td>HOME</td>\n",
       "      <td>Private</td>\n",
       "      <td>None</td>\n",
       "      <td>PROTESTANT QUAKER</td>\n",
       "      <td>SINGLE</td>\n",
       "      <td>WHITE</td>\n",
       "      <td>NaT</td>\n",
       "      <td>NaT</td>\n",
       "      <td>INTERIOR MYOCARDIAL INFARCTION</td>\n",
       "      <td>0</td>\n",
       "      <td>1</td>\n",
       "    </tr>\n",
       "    <tr>\n",
       "      <th>4</th>\n",
       "      <td>25</td>\n",
       "      <td>25</td>\n",
       "      <td>129635</td>\n",
       "      <td>2160-11-02 02:06:00</td>\n",
       "      <td>2160-11-05 14:55:00</td>\n",
       "      <td>NaT</td>\n",
       "      <td>EMERGENCY</td>\n",
       "      <td>EMERGENCY ROOM ADMIT</td>\n",
       "      <td>HOME</td>\n",
       "      <td>Private</td>\n",
       "      <td>None</td>\n",
       "      <td>UNOBTAINABLE</td>\n",
       "      <td>MARRIED</td>\n",
       "      <td>WHITE</td>\n",
       "      <td>2160-11-02 01:01:00</td>\n",
       "      <td>2160-11-02 04:27:00</td>\n",
       "      <td>ACUTE CORONARY SYNDROME</td>\n",
       "      <td>0</td>\n",
       "      <td>1</td>\n",
       "    </tr>\n",
       "  </tbody>\n",
       "</table>\n",
       "</div>"
      ],
      "text/plain": [
       "   row_id  subject_id  hadm_id           admittime           dischtime  \\\n",
       "0      21          22   165315 2196-04-09 12:26:00 2196-04-10 15:54:00   \n",
       "1      22          23   152223 2153-09-03 07:15:00 2153-09-08 19:10:00   \n",
       "2      23          23   124321 2157-10-18 19:34:00 2157-10-25 14:00:00   \n",
       "3      24          24   161859 2139-06-06 16:14:00 2139-06-09 12:48:00   \n",
       "4      25          25   129635 2160-11-02 02:06:00 2160-11-05 14:55:00   \n",
       "\n",
       "  deathtime admission_type         admission_location  \\\n",
       "0       NaT      EMERGENCY       EMERGENCY ROOM ADMIT   \n",
       "1       NaT       ELECTIVE  PHYS REFERRAL/NORMAL DELI   \n",
       "2       NaT      EMERGENCY  TRANSFER FROM HOSP/EXTRAM   \n",
       "3       NaT      EMERGENCY  TRANSFER FROM HOSP/EXTRAM   \n",
       "4       NaT      EMERGENCY       EMERGENCY ROOM ADMIT   \n",
       "\n",
       "          discharge_location insurance language           religion  \\\n",
       "0  DISC-TRAN CANCER/CHLDRN H   Private     None       UNOBTAINABLE   \n",
       "1           HOME HEALTH CARE  Medicare     None           CATHOLIC   \n",
       "2           HOME HEALTH CARE  Medicare     ENGL           CATHOLIC   \n",
       "3                       HOME   Private     None  PROTESTANT QUAKER   \n",
       "4                       HOME   Private     None       UNOBTAINABLE   \n",
       "\n",
       "  marital_status ethnicity           edregtime           edouttime  \\\n",
       "0        MARRIED     WHITE 2196-04-09 10:06:00 2196-04-09 13:24:00   \n",
       "1        MARRIED     WHITE                 NaT                 NaT   \n",
       "2        MARRIED     WHITE                 NaT                 NaT   \n",
       "3         SINGLE     WHITE                 NaT                 NaT   \n",
       "4        MARRIED     WHITE 2160-11-02 01:01:00 2160-11-02 04:27:00   \n",
       "\n",
       "                                           diagnosis  hospital_expire_flag  \\\n",
       "0                            BENZODIAZEPINE OVERDOSE                     0   \n",
       "1  CORONARY ARTERY DISEASE\\CORONARY ARTERY BYPASS...                     0   \n",
       "2                                         BRAIN MASS                     0   \n",
       "3                     INTERIOR MYOCARDIAL INFARCTION                     0   \n",
       "4                            ACUTE CORONARY SYNDROME                     0   \n",
       "\n",
       "   has_chartevents_data  \n",
       "0                     1  \n",
       "1                     1  \n",
       "2                     1  \n",
       "3                     1  \n",
       "4                     1  "
      ]
     },
     "execution_count": 43,
     "metadata": {},
     "output_type": "execute_result"
    }
   ],
   "source": [
    "df_adm = pd.read_sql(\"\"\"SELECT *\n",
    "                        FROM ADMISSIONS\n",
    "                        WHERE admission_type in ('ELECTIVE', 'EMERGENCY', 'URGENT')\n",
    "                        ;\"\"\", engine)\n",
    "df_adm.head()"
   ]
  },
  {
   "cell_type": "code",
   "execution_count": 44,
   "metadata": {},
   "outputs": [
    {
     "data": {
      "text/plain": [
       "(51113, 19)"
      ]
     },
     "execution_count": 44,
     "metadata": {},
     "output_type": "execute_result"
    }
   ],
   "source": [
    "df_adm.shape"
   ]
  },
  {
   "cell_type": "markdown",
   "metadata": {},
   "source": [
    "#### check data type for admittime and dischtime"
   ]
  },
  {
   "cell_type": "code",
   "execution_count": 45,
   "metadata": {},
   "outputs": [
    {
     "data": {
      "text/plain": [
       "dtype('<M8[ns]')"
      ]
     },
     "execution_count": 45,
     "metadata": {},
     "output_type": "execute_result"
    }
   ],
   "source": [
    "df_adm.admittime.dtype"
   ]
  },
  {
   "cell_type": "code",
   "execution_count": 46,
   "metadata": {},
   "outputs": [
    {
     "data": {
      "text/plain": [
       "Timestamp('2196-04-09 12:26:00')"
      ]
     },
     "execution_count": 46,
     "metadata": {},
     "output_type": "execute_result"
    }
   ],
   "source": [
    "df_adm.admittime[0]"
   ]
  },
  {
   "cell_type": "markdown",
   "metadata": {},
   "source": [
    "#### for deathtime, convert to timestamp"
   ]
  },
  {
   "cell_type": "code",
   "execution_count": 47,
   "metadata": {},
   "outputs": [],
   "source": [
    "# coerce to allow for missing dates\n",
    "df_adm.deathtime = pd.to_datetime(df_adm.deathtime, \\\n",
    "                                  format='%Y-%m-%d %H:%M:%S', \\\n",
    "                                  errors='coerce')"
   ]
  },
  {
   "cell_type": "code",
   "execution_count": 48,
   "metadata": {},
   "outputs": [
    {
     "data": {
      "text/plain": [
       "dtype('<M8[ns]')"
      ]
     },
     "execution_count": 48,
     "metadata": {},
     "output_type": "execute_result"
    }
   ],
   "source": [
    "df_adm.deathtime.dtype"
   ]
  },
  {
   "cell_type": "code",
   "execution_count": 49,
   "metadata": {},
   "outputs": [
    {
     "data": {
      "text/plain": [
       "NaT"
      ]
     },
     "execution_count": 49,
     "metadata": {},
     "output_type": "execute_result"
    }
   ],
   "source": [
    "df_adm.deathtime[0]"
   ]
  },
  {
   "cell_type": "code",
   "execution_count": 50,
   "metadata": {},
   "outputs": [
    {
     "data": {
      "text/plain": [
       "Index(['row_id', 'subject_id', 'hadm_id', 'admittime', 'dischtime',\n",
       "       'deathtime', 'admission_type', 'admission_location',\n",
       "       'discharge_location', 'insurance', 'language', 'religion',\n",
       "       'marital_status', 'ethnicity', 'edregtime', 'edouttime', 'diagnosis',\n",
       "       'hospital_expire_flag', 'has_chartevents_data'],\n",
       "      dtype='object')"
      ]
     },
     "execution_count": 50,
     "metadata": {},
     "output_type": "execute_result"
    }
   ],
   "source": [
    "# columns\n",
    "df_adm.columns"
   ]
  },
  {
   "cell_type": "markdown",
   "metadata": {},
   "source": [
    "#### columns\n",
    "- https://mimic.physionet.org/mimictables/admissions/\n",
    "\n",
    "subject_id  \n",
    "hadm_id : hospitalization id  \n",
    "admittime : format YYYY-MM-DD hh:mm:ss  \n",
    "dischtime :  \n",
    "deathtime : if exists  \n",
    "admission_type : elective, emergency, newborn, urgent  \n",
    "edregtime : time registered for Emergency department  \n",
    "edouttime : time discharged from Emergency department  \n",
    "  \n",
    "due to de-dientification, date can be assigned to future."
   ]
  },
  {
   "cell_type": "code",
   "execution_count": 51,
   "metadata": {},
   "outputs": [
    {
     "data": {
      "text/plain": [
       "admission_type\n",
       "ELECTIVE      7706\n",
       "EMERGENCY    42071\n",
       "URGENT        1336\n",
       "dtype: int64"
      ]
     },
     "execution_count": 51,
     "metadata": {},
     "output_type": "execute_result"
    }
   ],
   "source": [
    "# admission type\n",
    "df_adm.groupby(df_adm.admission_type).size()"
   ]
  },
  {
   "cell_type": "markdown",
   "metadata": {},
   "source": [
    "#### 1.2 get the next unplanned admission date if exists"
   ]
  },
  {
   "cell_type": "code",
   "execution_count": 53,
   "metadata": {},
   "outputs": [
    {
     "data": {
      "text/html": [
       "<div>\n",
       "<style scoped>\n",
       "    .dataframe tbody tr th:only-of-type {\n",
       "        vertical-align: middle;\n",
       "    }\n",
       "\n",
       "    .dataframe tbody tr th {\n",
       "        vertical-align: top;\n",
       "    }\n",
       "\n",
       "    .dataframe thead th {\n",
       "        text-align: right;\n",
       "    }\n",
       "</style>\n",
       "<table border=\"1\" class=\"dataframe\">\n",
       "  <thead>\n",
       "    <tr style=\"text-align: right;\">\n",
       "      <th></th>\n",
       "      <th>row_id</th>\n",
       "      <th>subject_id</th>\n",
       "      <th>hadm_id</th>\n",
       "      <th>admittime</th>\n",
       "      <th>dischtime</th>\n",
       "      <th>deathtime</th>\n",
       "      <th>admission_type</th>\n",
       "      <th>admission_location</th>\n",
       "      <th>discharge_location</th>\n",
       "      <th>insurance</th>\n",
       "      <th>language</th>\n",
       "      <th>religion</th>\n",
       "      <th>marital_status</th>\n",
       "      <th>ethnicity</th>\n",
       "      <th>edregtime</th>\n",
       "      <th>edouttime</th>\n",
       "      <th>diagnosis</th>\n",
       "      <th>hospital_expire_flag</th>\n",
       "      <th>has_chartevents_data</th>\n",
       "    </tr>\n",
       "  </thead>\n",
       "  <tbody>\n",
       "    <tr>\n",
       "      <th>179</th>\n",
       "      <td>2</td>\n",
       "      <td>3</td>\n",
       "      <td>145834</td>\n",
       "      <td>2101-10-20 19:08:00</td>\n",
       "      <td>2101-10-31 13:58:00</td>\n",
       "      <td>NaT</td>\n",
       "      <td>EMERGENCY</td>\n",
       "      <td>EMERGENCY ROOM ADMIT</td>\n",
       "      <td>SNF</td>\n",
       "      <td>Medicare</td>\n",
       "      <td>None</td>\n",
       "      <td>CATHOLIC</td>\n",
       "      <td>MARRIED</td>\n",
       "      <td>WHITE</td>\n",
       "      <td>2101-10-20 17:09:00</td>\n",
       "      <td>2101-10-20 19:24:00</td>\n",
       "      <td>HYPOTENSION</td>\n",
       "      <td>0</td>\n",
       "      <td>1</td>\n",
       "    </tr>\n",
       "    <tr>\n",
       "      <th>180</th>\n",
       "      <td>3</td>\n",
       "      <td>4</td>\n",
       "      <td>185777</td>\n",
       "      <td>2191-03-16 00:28:00</td>\n",
       "      <td>2191-03-23 18:41:00</td>\n",
       "      <td>NaT</td>\n",
       "      <td>EMERGENCY</td>\n",
       "      <td>EMERGENCY ROOM ADMIT</td>\n",
       "      <td>HOME WITH HOME IV PROVIDR</td>\n",
       "      <td>Private</td>\n",
       "      <td>None</td>\n",
       "      <td>PROTESTANT QUAKER</td>\n",
       "      <td>SINGLE</td>\n",
       "      <td>WHITE</td>\n",
       "      <td>2191-03-15 13:10:00</td>\n",
       "      <td>2191-03-16 01:10:00</td>\n",
       "      <td>FEVER,DEHYDRATION,FAILURE TO THRIVE</td>\n",
       "      <td>0</td>\n",
       "      <td>1</td>\n",
       "    </tr>\n",
       "    <tr>\n",
       "      <th>181</th>\n",
       "      <td>5</td>\n",
       "      <td>6</td>\n",
       "      <td>107064</td>\n",
       "      <td>2175-05-30 07:15:00</td>\n",
       "      <td>2175-06-15 16:00:00</td>\n",
       "      <td>NaT</td>\n",
       "      <td>ELECTIVE</td>\n",
       "      <td>PHYS REFERRAL/NORMAL DELI</td>\n",
       "      <td>HOME HEALTH CARE</td>\n",
       "      <td>Medicare</td>\n",
       "      <td>ENGL</td>\n",
       "      <td>NOT SPECIFIED</td>\n",
       "      <td>MARRIED</td>\n",
       "      <td>WHITE</td>\n",
       "      <td>NaT</td>\n",
       "      <td>NaT</td>\n",
       "      <td>CHRONIC RENAL FAILURE/SDA</td>\n",
       "      <td>0</td>\n",
       "      <td>1</td>\n",
       "    </tr>\n",
       "    <tr>\n",
       "      <th>182</th>\n",
       "      <td>8</td>\n",
       "      <td>9</td>\n",
       "      <td>150750</td>\n",
       "      <td>2149-11-09 13:06:00</td>\n",
       "      <td>2149-11-14 10:15:00</td>\n",
       "      <td>2149-11-14 10:15:00</td>\n",
       "      <td>EMERGENCY</td>\n",
       "      <td>EMERGENCY ROOM ADMIT</td>\n",
       "      <td>DEAD/EXPIRED</td>\n",
       "      <td>Medicaid</td>\n",
       "      <td>None</td>\n",
       "      <td>UNOBTAINABLE</td>\n",
       "      <td>None</td>\n",
       "      <td>UNKNOWN/NOT SPECIFIED</td>\n",
       "      <td>2149-11-09 11:13:00</td>\n",
       "      <td>2149-11-09 13:18:00</td>\n",
       "      <td>HEMORRHAGIC CVA</td>\n",
       "      <td>1</td>\n",
       "      <td>1</td>\n",
       "    </tr>\n",
       "    <tr>\n",
       "      <th>183</th>\n",
       "      <td>10</td>\n",
       "      <td>11</td>\n",
       "      <td>194540</td>\n",
       "      <td>2178-04-16 06:18:00</td>\n",
       "      <td>2178-05-11 19:00:00</td>\n",
       "      <td>NaT</td>\n",
       "      <td>EMERGENCY</td>\n",
       "      <td>EMERGENCY ROOM ADMIT</td>\n",
       "      <td>HOME HEALTH CARE</td>\n",
       "      <td>Private</td>\n",
       "      <td>None</td>\n",
       "      <td>OTHER</td>\n",
       "      <td>MARRIED</td>\n",
       "      <td>WHITE</td>\n",
       "      <td>2178-04-15 20:46:00</td>\n",
       "      <td>2178-04-16 06:53:00</td>\n",
       "      <td>BRAIN MASS</td>\n",
       "      <td>0</td>\n",
       "      <td>1</td>\n",
       "    </tr>\n",
       "  </tbody>\n",
       "</table>\n",
       "</div>"
      ],
      "text/plain": [
       "     row_id  subject_id  hadm_id           admittime           dischtime  \\\n",
       "179       2           3   145834 2101-10-20 19:08:00 2101-10-31 13:58:00   \n",
       "180       3           4   185777 2191-03-16 00:28:00 2191-03-23 18:41:00   \n",
       "181       5           6   107064 2175-05-30 07:15:00 2175-06-15 16:00:00   \n",
       "182       8           9   150750 2149-11-09 13:06:00 2149-11-14 10:15:00   \n",
       "183      10          11   194540 2178-04-16 06:18:00 2178-05-11 19:00:00   \n",
       "\n",
       "              deathtime admission_type         admission_location  \\\n",
       "179                 NaT      EMERGENCY       EMERGENCY ROOM ADMIT   \n",
       "180                 NaT      EMERGENCY       EMERGENCY ROOM ADMIT   \n",
       "181                 NaT       ELECTIVE  PHYS REFERRAL/NORMAL DELI   \n",
       "182 2149-11-14 10:15:00      EMERGENCY       EMERGENCY ROOM ADMIT   \n",
       "183                 NaT      EMERGENCY       EMERGENCY ROOM ADMIT   \n",
       "\n",
       "            discharge_location insurance language           religion  \\\n",
       "179                        SNF  Medicare     None           CATHOLIC   \n",
       "180  HOME WITH HOME IV PROVIDR   Private     None  PROTESTANT QUAKER   \n",
       "181           HOME HEALTH CARE  Medicare     ENGL      NOT SPECIFIED   \n",
       "182               DEAD/EXPIRED  Medicaid     None       UNOBTAINABLE   \n",
       "183           HOME HEALTH CARE   Private     None              OTHER   \n",
       "\n",
       "    marital_status              ethnicity           edregtime  \\\n",
       "179        MARRIED                  WHITE 2101-10-20 17:09:00   \n",
       "180         SINGLE                  WHITE 2191-03-15 13:10:00   \n",
       "181        MARRIED                  WHITE                 NaT   \n",
       "182           None  UNKNOWN/NOT SPECIFIED 2149-11-09 11:13:00   \n",
       "183        MARRIED                  WHITE 2178-04-15 20:46:00   \n",
       "\n",
       "              edouttime                            diagnosis  \\\n",
       "179 2101-10-20 19:24:00                          HYPOTENSION   \n",
       "180 2191-03-16 01:10:00  FEVER,DEHYDRATION,FAILURE TO THRIVE   \n",
       "181                 NaT            CHRONIC RENAL FAILURE/SDA   \n",
       "182 2149-11-09 13:18:00                      HEMORRHAGIC CVA   \n",
       "183 2178-04-16 06:53:00                           BRAIN MASS   \n",
       "\n",
       "     hospital_expire_flag  has_chartevents_data  \n",
       "179                     0                     1  \n",
       "180                     0                     1  \n",
       "181                     0                     1  \n",
       "182                     1                     1  \n",
       "183                     0                     1  "
      ]
     },
     "execution_count": 53,
     "metadata": {},
     "output_type": "execute_result"
    }
   ],
   "source": [
    "# sort subject_id and admission date\n",
    "df_adm.sort_values(['subject_id', 'admittime'], inplace=True)\n",
    "df_adm.head()"
   ]
  },
  {
   "cell_type": "code",
   "execution_count": 66,
   "metadata": {},
   "outputs": [
    {
     "data": {
      "text/html": [
       "<div>\n",
       "<style scoped>\n",
       "    .dataframe tbody tr th:only-of-type {\n",
       "        vertical-align: middle;\n",
       "    }\n",
       "\n",
       "    .dataframe tbody tr th {\n",
       "        vertical-align: top;\n",
       "    }\n",
       "\n",
       "    .dataframe thead th {\n",
       "        text-align: right;\n",
       "    }\n",
       "</style>\n",
       "<table border=\"1\" class=\"dataframe\">\n",
       "  <thead>\n",
       "    <tr style=\"text-align: right;\">\n",
       "      <th></th>\n",
       "      <th>row_id</th>\n",
       "      <th>subject_id</th>\n",
       "      <th>hadm_id</th>\n",
       "      <th>admittime</th>\n",
       "      <th>dischtime</th>\n",
       "      <th>deathtime</th>\n",
       "      <th>admission_type</th>\n",
       "      <th>admission_location</th>\n",
       "      <th>discharge_location</th>\n",
       "      <th>insurance</th>\n",
       "      <th>language</th>\n",
       "      <th>religion</th>\n",
       "      <th>marital_status</th>\n",
       "      <th>ethnicity</th>\n",
       "      <th>edregtime</th>\n",
       "      <th>edouttime</th>\n",
       "      <th>diagnosis</th>\n",
       "      <th>hospital_expire_flag</th>\n",
       "      <th>has_chartevents_data</th>\n",
       "    </tr>\n",
       "  </thead>\n",
       "  <tbody>\n",
       "    <tr>\n",
       "      <th>48568</th>\n",
       "      <td>58968</td>\n",
       "      <td>99982</td>\n",
       "      <td>151454</td>\n",
       "      <td>2156-11-28 11:56:00</td>\n",
       "      <td>2156-12-08 13:45:00</td>\n",
       "      <td>NaT</td>\n",
       "      <td>EMERGENCY</td>\n",
       "      <td>PHYS REFERRAL/NORMAL DELI</td>\n",
       "      <td>HOME HEALTH CARE</td>\n",
       "      <td>Medicare</td>\n",
       "      <td>ENGL</td>\n",
       "      <td>CATHOLIC</td>\n",
       "      <td>MARRIED</td>\n",
       "      <td>WHITE</td>\n",
       "      <td>NaT</td>\n",
       "      <td>NaT</td>\n",
       "      <td>TVR</td>\n",
       "      <td>0</td>\n",
       "      <td>1</td>\n",
       "    </tr>\n",
       "    <tr>\n",
       "      <th>48569</th>\n",
       "      <td>58969</td>\n",
       "      <td>99982</td>\n",
       "      <td>112748</td>\n",
       "      <td>2157-01-05 17:27:00</td>\n",
       "      <td>2157-01-12 13:00:00</td>\n",
       "      <td>NaT</td>\n",
       "      <td>EMERGENCY</td>\n",
       "      <td>CLINIC REFERRAL/PREMATURE</td>\n",
       "      <td>HOME</td>\n",
       "      <td>Medicare</td>\n",
       "      <td>ENGL</td>\n",
       "      <td>CATHOLIC</td>\n",
       "      <td>MARRIED</td>\n",
       "      <td>WHITE</td>\n",
       "      <td>2157-01-05 14:03:00</td>\n",
       "      <td>2157-01-05 18:50:00</td>\n",
       "      <td>SHORTNESS OF BREATH</td>\n",
       "      <td>0</td>\n",
       "      <td>1</td>\n",
       "    </tr>\n",
       "    <tr>\n",
       "      <th>48570</th>\n",
       "      <td>58970</td>\n",
       "      <td>99982</td>\n",
       "      <td>183791</td>\n",
       "      <td>2157-02-16 17:31:00</td>\n",
       "      <td>2157-02-22 20:36:00</td>\n",
       "      <td>NaT</td>\n",
       "      <td>EMERGENCY</td>\n",
       "      <td>TRANSFER FROM HOSP/EXTRAM</td>\n",
       "      <td>SHORT TERM HOSPITAL</td>\n",
       "      <td>Medicare</td>\n",
       "      <td>ENGL</td>\n",
       "      <td>CATHOLIC</td>\n",
       "      <td>MARRIED</td>\n",
       "      <td>WHITE</td>\n",
       "      <td>NaT</td>\n",
       "      <td>NaT</td>\n",
       "      <td>BIVENTRICULAR HEART FAILURE</td>\n",
       "      <td>0</td>\n",
       "      <td>1</td>\n",
       "    </tr>\n",
       "  </tbody>\n",
       "</table>\n",
       "</div>"
      ],
      "text/plain": [
       "       row_id  subject_id  hadm_id           admittime           dischtime  \\\n",
       "48568   58968       99982   151454 2156-11-28 11:56:00 2156-12-08 13:45:00   \n",
       "48569   58969       99982   112748 2157-01-05 17:27:00 2157-01-12 13:00:00   \n",
       "48570   58970       99982   183791 2157-02-16 17:31:00 2157-02-22 20:36:00   \n",
       "\n",
       "      deathtime admission_type         admission_location  \\\n",
       "48568       NaT      EMERGENCY  PHYS REFERRAL/NORMAL DELI   \n",
       "48569       NaT      EMERGENCY  CLINIC REFERRAL/PREMATURE   \n",
       "48570       NaT      EMERGENCY  TRANSFER FROM HOSP/EXTRAM   \n",
       "\n",
       "        discharge_location insurance language  religion marital_status  \\\n",
       "48568     HOME HEALTH CARE  Medicare     ENGL  CATHOLIC        MARRIED   \n",
       "48569                 HOME  Medicare     ENGL  CATHOLIC        MARRIED   \n",
       "48570  SHORT TERM HOSPITAL  Medicare     ENGL  CATHOLIC        MARRIED   \n",
       "\n",
       "      ethnicity           edregtime           edouttime  \\\n",
       "48568     WHITE                 NaT                 NaT   \n",
       "48569     WHITE 2157-01-05 14:03:00 2157-01-05 18:50:00   \n",
       "48570     WHITE                 NaT                 NaT   \n",
       "\n",
       "                         diagnosis  hospital_expire_flag  has_chartevents_data  \n",
       "48568                          TVR                     0                     1  \n",
       "48569          SHORTNESS OF BREATH                     0                     1  \n",
       "48570  BIVENTRICULAR HEART FAILURE                     0                     1  "
      ]
     },
     "execution_count": 66,
     "metadata": {},
     "output_type": "execute_result"
    }
   ],
   "source": [
    "# check for a single patient\n",
    "df_adm.loc[df_adm.subject_id==99982]"
   ]
  },
  {
   "cell_type": "code",
   "execution_count": null,
   "metadata": {},
   "outputs": [],
   "source": []
  }
 ],
 "metadata": {
  "kernelspec": {
   "display_name": "Python 3",
   "language": "python",
   "name": "python3"
  },
  "language_info": {
   "codemirror_mode": {
    "name": "ipython",
    "version": 3
   },
   "file_extension": ".py",
   "mimetype": "text/x-python",
   "name": "python",
   "nbconvert_exporter": "python",
   "pygments_lexer": "ipython3",
   "version": "3.6.4"
  }
 },
 "nbformat": 4,
 "nbformat_minor": 2
}
