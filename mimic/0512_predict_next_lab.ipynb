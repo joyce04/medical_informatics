{
 "cells": [
  {
   "cell_type": "markdown",
   "metadata": {},
   "source": [
    "## Predicting next lab results"
   ]
  },
  {
   "cell_type": "markdown",
   "metadata": {},
   "source": [
    "#### 배경\n",
    "- 환자가 받은 다양한 치료로 근미래의 검사 결과를 맞출 수 있을까?\n",
    "\n",
    "#### 문제 종류\n",
    "- binary classification (검사 결과가 정상범위인지 아닌지)\n",
    "\n",
    "#### 실험\n",
    "- Sepsis 환자를 대상으로 다음 lab 검사 결과의 정상범위 여부를 예측\n",
    "    - Variables used in SOFA:\n",
    "    -  GCS, MAP, FiO2, Ventilation status (sourced from CHARTEVENTS)\n",
    "    -  Creatinine, Bilirubin, FiO2, PaO2, Platelets (sourced from LABEVENTS)\n",
    "    -  Dobutamine, Epinephrine, Norepinephrine (sourced from INPUTEVENTS_MV and INPUTEVENTS_CV)\n",
    "    -  Urine output (sourced from OUTPUTEVENTS)\n",
    "\n",
    "#### 교차검증\n",
    "\n",
    "#### 평가\n",
    "\n",
    "#### 예측값의 활용\n",
    "- 수련의 교육용"
   ]
  },
  {
   "cell_type": "markdown",
   "metadata": {},
   "source": [
    "첫번째 검사 결과 예측 대상 : Fi02\n",
    "- https://github.com/MIT-LCP/mimic-code/blob/master/notebooks/aline/aline_sofa.sql"
   ]
  },
  {
   "cell_type": "code",
   "execution_count": 1,
   "metadata": {},
   "outputs": [],
   "source": [
    "import sys\n",
    "sys.path.insert(0, './db')\n",
    "import db_con\n",
    "import sqlalchemy\n",
    "\n",
    "import numpy as np\n",
    "import pandas as pd\n",
    "import matplotlib.pyplot as plt\n",
    "%matplotlib inline"
   ]
  },
  {
   "cell_type": "code",
   "execution_count": 2,
   "metadata": {},
   "outputs": [
    {
     "data": {
      "text/html": [
       "<div>\n",
       "<style scoped>\n",
       "    .dataframe tbody tr th:only-of-type {\n",
       "        vertical-align: middle;\n",
       "    }\n",
       "\n",
       "    .dataframe tbody tr th {\n",
       "        vertical-align: top;\n",
       "    }\n",
       "\n",
       "    .dataframe thead th {\n",
       "        text-align: right;\n",
       "    }\n",
       "</style>\n",
       "<table border=\"1\" class=\"dataframe\">\n",
       "  <thead>\n",
       "    <tr style=\"text-align: right;\">\n",
       "      <th></th>\n",
       "      <th>row_id</th>\n",
       "      <th>itemid</th>\n",
       "      <th>label</th>\n",
       "      <th>abbreviation</th>\n",
       "      <th>dbsource</th>\n",
       "      <th>linksto</th>\n",
       "      <th>category</th>\n",
       "      <th>unitname</th>\n",
       "      <th>param_type</th>\n",
       "      <th>conceptid</th>\n",
       "    </tr>\n",
       "  </thead>\n",
       "  <tbody>\n",
       "    <tr>\n",
       "      <th>0</th>\n",
       "      <td>190</td>\n",
       "      <td>189</td>\n",
       "      <td>FiO2 (Analyzed)</td>\n",
       "      <td>None</td>\n",
       "      <td>carevue</td>\n",
       "      <td>chartevents</td>\n",
       "      <td>None</td>\n",
       "      <td>None</td>\n",
       "      <td>None</td>\n",
       "      <td>None</td>\n",
       "    </tr>\n",
       "    <tr>\n",
       "      <th>1</th>\n",
       "      <td>191</td>\n",
       "      <td>190</td>\n",
       "      <td>FiO2 Set</td>\n",
       "      <td>None</td>\n",
       "      <td>carevue</td>\n",
       "      <td>chartevents</td>\n",
       "      <td>None</td>\n",
       "      <td>None</td>\n",
       "      <td>None</td>\n",
       "      <td>None</td>\n",
       "    </tr>\n",
       "    <tr>\n",
       "      <th>2</th>\n",
       "      <td>192</td>\n",
       "      <td>191</td>\n",
       "      <td>FiO2/O2 Delivered</td>\n",
       "      <td>None</td>\n",
       "      <td>carevue</td>\n",
       "      <td>chartevents</td>\n",
       "      <td>None</td>\n",
       "      <td>None</td>\n",
       "      <td>None</td>\n",
       "      <td>None</td>\n",
       "    </tr>\n",
       "    <tr>\n",
       "      <th>3</th>\n",
       "      <td>676</td>\n",
       "      <td>727</td>\n",
       "      <td>Vision FiO2</td>\n",
       "      <td>None</td>\n",
       "      <td>carevue</td>\n",
       "      <td>chartevents</td>\n",
       "      <td>None</td>\n",
       "      <td>None</td>\n",
       "      <td>None</td>\n",
       "      <td>None</td>\n",
       "    </tr>\n",
       "    <tr>\n",
       "      <th>4</th>\n",
       "      <td>3240</td>\n",
       "      <td>1863</td>\n",
       "      <td>HFO-FiO2</td>\n",
       "      <td>None</td>\n",
       "      <td>carevue</td>\n",
       "      <td>chartevents</td>\n",
       "      <td>None</td>\n",
       "      <td>None</td>\n",
       "      <td>None</td>\n",
       "      <td>None</td>\n",
       "    </tr>\n",
       "    <tr>\n",
       "      <th>5</th>\n",
       "      <td>2047</td>\n",
       "      <td>5955</td>\n",
       "      <td>Analyzed INOV FiO2</td>\n",
       "      <td>None</td>\n",
       "      <td>carevue</td>\n",
       "      <td>chartevents</td>\n",
       "      <td>None</td>\n",
       "      <td>None</td>\n",
       "      <td>None</td>\n",
       "      <td>None</td>\n",
       "    </tr>\n",
       "    <tr>\n",
       "      <th>6</th>\n",
       "      <td>3911</td>\n",
       "      <td>2981</td>\n",
       "      <td>FiO2</td>\n",
       "      <td>None</td>\n",
       "      <td>carevue</td>\n",
       "      <td>chartevents</td>\n",
       "      <td>None</td>\n",
       "      <td>None</td>\n",
       "      <td>None</td>\n",
       "      <td>None</td>\n",
       "    </tr>\n",
       "    <tr>\n",
       "      <th>7</th>\n",
       "      <td>14686</td>\n",
       "      <td>227009</td>\n",
       "      <td>FiO2_ApacheIV_old</td>\n",
       "      <td>FiO2_ApacheIV_old</td>\n",
       "      <td>metavision</td>\n",
       "      <td>chartevents</td>\n",
       "      <td>Scores - APACHE IV (2)</td>\n",
       "      <td>None</td>\n",
       "      <td>Numeric</td>\n",
       "      <td>None</td>\n",
       "    </tr>\n",
       "    <tr>\n",
       "      <th>8</th>\n",
       "      <td>14687</td>\n",
       "      <td>227010</td>\n",
       "      <td>FiO2_ApacheIV</td>\n",
       "      <td>FiO2_ApacheIV</td>\n",
       "      <td>metavision</td>\n",
       "      <td>chartevents</td>\n",
       "      <td>Scores - APACHE IV (2)</td>\n",
       "      <td>%</td>\n",
       "      <td>Numeric</td>\n",
       "      <td>None</td>\n",
       "    </tr>\n",
       "    <tr>\n",
       "      <th>9</th>\n",
       "      <td>14515</td>\n",
       "      <td>226754</td>\n",
       "      <td>FiO2ApacheIIValue</td>\n",
       "      <td>FiO2ApacheIIValue</td>\n",
       "      <td>metavision</td>\n",
       "      <td>chartevents</td>\n",
       "      <td>Scores - APACHE II</td>\n",
       "      <td>%</td>\n",
       "      <td>Numeric</td>\n",
       "      <td>None</td>\n",
       "    </tr>\n",
       "  </tbody>\n",
       "</table>\n",
       "</div>"
      ],
      "text/plain": [
       "   row_id  itemid               label       abbreviation    dbsource  \\\n",
       "0     190     189     FiO2 (Analyzed)               None     carevue   \n",
       "1     191     190            FiO2 Set               None     carevue   \n",
       "2     192     191   FiO2/O2 Delivered               None     carevue   \n",
       "3     676     727         Vision FiO2               None     carevue   \n",
       "4    3240    1863            HFO-FiO2               None     carevue   \n",
       "5    2047    5955  Analyzed INOV FiO2               None     carevue   \n",
       "6    3911    2981                FiO2               None     carevue   \n",
       "7   14686  227009   FiO2_ApacheIV_old  FiO2_ApacheIV_old  metavision   \n",
       "8   14687  227010       FiO2_ApacheIV      FiO2_ApacheIV  metavision   \n",
       "9   14515  226754   FiO2ApacheIIValue  FiO2ApacheIIValue  metavision   \n",
       "\n",
       "       linksto                category unitname param_type conceptid  \n",
       "0  chartevents                    None     None       None      None  \n",
       "1  chartevents                    None     None       None      None  \n",
       "2  chartevents                    None     None       None      None  \n",
       "3  chartevents                    None     None       None      None  \n",
       "4  chartevents                    None     None       None      None  \n",
       "5  chartevents                    None     None       None      None  \n",
       "6  chartevents                    None     None       None      None  \n",
       "7  chartevents  Scores - APACHE IV (2)     None    Numeric      None  \n",
       "8  chartevents  Scores - APACHE IV (2)        %    Numeric      None  \n",
       "9  chartevents      Scores - APACHE II        %    Numeric      None  "
      ]
     },
     "execution_count": 2,
     "metadata": {},
     "output_type": "execute_result"
    }
   ],
   "source": [
    "# Fi02 itemid 찾기\n",
    "engine = db_con.get_engine()\n",
    "pd.read_sql_query(\"\"\"\n",
    "            SELECT *\n",
    "            FROM d_items\n",
    "            WHERE label LIKE '%%FiO2%%';\n",
    "            \"\"\", engine)"
   ]
  },
  {
   "cell_type": "markdown",
   "metadata": {},
   "source": [
    "## 의학 의견\n",
    "- Item선정 기준"
   ]
  },
  {
   "cell_type": "code",
   "execution_count": 3,
   "metadata": {},
   "outputs": [],
   "source": [
    "# sepsis diagnosis 환자들의 FiO2 기록(입원 시점으로 분단위)\n",
    "pat = pd.read_sql(\"\"\"\n",
    "                SELECT\n",
    "                chi.icustay_id,\n",
    "                chi.mins,\n",
    "                chi.itemid,\n",
    "                chi.valuenum,\n",
    "                d_items.label\n",
    "                FROM (\n",
    "                SELECT\n",
    "                 ch.icustay_id,\n",
    "                 EXTRACT(MINS FROM ch.charttime - ic.intime) AS mins,\n",
    "                 ch.itemid,\n",
    "                 ch.value,\n",
    "                 ch.valuenum\n",
    "                FROM (SELECT *\n",
    "                     FROM chartevents\n",
    "                       LEFT JOIN diagnoses_icd di\n",
    "                         ON chartevents.subject_id = di.subject_id\n",
    "                     WHERE di.icd9_code IN ('77181', '99591', '99592', '67020', '67022', '67024')\n",
    "                           AND chartevents.itemid IN (3420, 190, 223835, 3422)) AS ch LEFT JOIN icustays ic\n",
    "                   ON ch.icustay_id = ic.icustay_id\n",
    "                ) AS chi\n",
    "                LEFT JOIN d_items\n",
    "                ON chi.itemid = d_items.itemid\n",
    "                \"\"\", engine)"
   ]
  },
  {
   "cell_type": "code",
   "execution_count": 4,
   "metadata": {},
   "outputs": [
    {
     "data": {
      "text/plain": [
       "(765467, 5)"
      ]
     },
     "execution_count": 4,
     "metadata": {},
     "output_type": "execute_result"
    },
    {
     "data": {
      "text/html": [
       "<div>\n",
       "<style scoped>\n",
       "    .dataframe tbody tr th:only-of-type {\n",
       "        vertical-align: middle;\n",
       "    }\n",
       "\n",
       "    .dataframe tbody tr th {\n",
       "        vertical-align: top;\n",
       "    }\n",
       "\n",
       "    .dataframe thead th {\n",
       "        text-align: right;\n",
       "    }\n",
       "</style>\n",
       "<table border=\"1\" class=\"dataframe\">\n",
       "  <thead>\n",
       "    <tr style=\"text-align: right;\">\n",
       "      <th></th>\n",
       "      <th>icustay_id</th>\n",
       "      <th>mins</th>\n",
       "      <th>itemid</th>\n",
       "      <th>valuenum</th>\n",
       "      <th>label</th>\n",
       "    </tr>\n",
       "  </thead>\n",
       "  <tbody>\n",
       "    <tr>\n",
       "      <th>0</th>\n",
       "      <td>217847.0</td>\n",
       "      <td>9.0</td>\n",
       "      <td>190</td>\n",
       "      <td>0.4</td>\n",
       "      <td>FiO2 Set</td>\n",
       "    </tr>\n",
       "    <tr>\n",
       "      <th>1</th>\n",
       "      <td>217847.0</td>\n",
       "      <td>9.0</td>\n",
       "      <td>190</td>\n",
       "      <td>1.0</td>\n",
       "      <td>FiO2 Set</td>\n",
       "    </tr>\n",
       "    <tr>\n",
       "      <th>2</th>\n",
       "      <td>217847.0</td>\n",
       "      <td>39.0</td>\n",
       "      <td>190</td>\n",
       "      <td>1.0</td>\n",
       "      <td>FiO2 Set</td>\n",
       "    </tr>\n",
       "    <tr>\n",
       "      <th>3</th>\n",
       "      <td>217847.0</td>\n",
       "      <td>9.0</td>\n",
       "      <td>190</td>\n",
       "      <td>1.0</td>\n",
       "      <td>FiO2 Set</td>\n",
       "    </tr>\n",
       "    <tr>\n",
       "      <th>4</th>\n",
       "      <td>248910.0</td>\n",
       "      <td>30.0</td>\n",
       "      <td>190</td>\n",
       "      <td>0.4</td>\n",
       "      <td>FiO2 Set</td>\n",
       "    </tr>\n",
       "  </tbody>\n",
       "</table>\n",
       "</div>"
      ],
      "text/plain": [
       "   icustay_id  mins  itemid  valuenum     label\n",
       "0    217847.0   9.0     190       0.4  FiO2 Set\n",
       "1    217847.0   9.0     190       1.0  FiO2 Set\n",
       "2    217847.0  39.0     190       1.0  FiO2 Set\n",
       "3    217847.0   9.0     190       1.0  FiO2 Set\n",
       "4    248910.0  30.0     190       0.4  FiO2 Set"
      ]
     },
     "execution_count": 4,
     "metadata": {},
     "output_type": "execute_result"
    }
   ],
   "source": [
    "pat.shape\n",
    "pat.head()"
   ]
  },
  {
   "cell_type": "code",
   "execution_count": 5,
   "metadata": {},
   "outputs": [
    {
     "data": {
      "text/html": [
       "<div>\n",
       "<style scoped>\n",
       "    .dataframe tbody tr th:only-of-type {\n",
       "        vertical-align: middle;\n",
       "    }\n",
       "\n",
       "    .dataframe tbody tr th {\n",
       "        vertical-align: top;\n",
       "    }\n",
       "\n",
       "    .dataframe thead th {\n",
       "        text-align: right;\n",
       "    }\n",
       "</style>\n",
       "<table border=\"1\" class=\"dataframe\">\n",
       "  <thead>\n",
       "    <tr style=\"text-align: right;\">\n",
       "      <th></th>\n",
       "      <th>icustay_id</th>\n",
       "      <th>mins</th>\n",
       "      <th>itemid</th>\n",
       "      <th>valuenum</th>\n",
       "    </tr>\n",
       "  </thead>\n",
       "  <tbody>\n",
       "    <tr>\n",
       "      <th>count</th>\n",
       "      <td>763485.000000</td>\n",
       "      <td>763485.000000</td>\n",
       "      <td>765467.000000</td>\n",
       "      <td>764199.000000</td>\n",
       "    </tr>\n",
       "    <tr>\n",
       "      <th>mean</th>\n",
       "      <td>249582.363470</td>\n",
       "      <td>29.545763</td>\n",
       "      <td>83246.665774</td>\n",
       "      <td>34.111892</td>\n",
       "    </tr>\n",
       "    <tr>\n",
       "      <th>std</th>\n",
       "      <td>28286.896316</td>\n",
       "      <td>17.684213</td>\n",
       "      <td>106797.148410</td>\n",
       "      <td>28.783998</td>\n",
       "    </tr>\n",
       "    <tr>\n",
       "      <th>min</th>\n",
       "      <td>200001.000000</td>\n",
       "      <td>-59.000000</td>\n",
       "      <td>190.000000</td>\n",
       "      <td>0.000000</td>\n",
       "    </tr>\n",
       "    <tr>\n",
       "      <th>25%</th>\n",
       "      <td>226799.000000</td>\n",
       "      <td>14.000000</td>\n",
       "      <td>190.000000</td>\n",
       "      <td>1.000000</td>\n",
       "    </tr>\n",
       "    <tr>\n",
       "      <th>50%</th>\n",
       "      <td>249403.000000</td>\n",
       "      <td>30.000000</td>\n",
       "      <td>3420.000000</td>\n",
       "      <td>37.000000</td>\n",
       "    </tr>\n",
       "    <tr>\n",
       "      <th>75%</th>\n",
       "      <td>273763.000000</td>\n",
       "      <td>44.000000</td>\n",
       "      <td>223835.000000</td>\n",
       "      <td>47.000000</td>\n",
       "    </tr>\n",
       "    <tr>\n",
       "      <th>max</th>\n",
       "      <td>299998.000000</td>\n",
       "      <td>59.000000</td>\n",
       "      <td>223835.000000</td>\n",
       "      <td>7050.000000</td>\n",
       "    </tr>\n",
       "  </tbody>\n",
       "</table>\n",
       "</div>"
      ],
      "text/plain": [
       "          icustay_id           mins         itemid       valuenum\n",
       "count  763485.000000  763485.000000  765467.000000  764199.000000\n",
       "mean   249582.363470      29.545763   83246.665774      34.111892\n",
       "std     28286.896316      17.684213  106797.148410      28.783998\n",
       "min    200001.000000     -59.000000     190.000000       0.000000\n",
       "25%    226799.000000      14.000000     190.000000       1.000000\n",
       "50%    249403.000000      30.000000    3420.000000      37.000000\n",
       "75%    273763.000000      44.000000  223835.000000      47.000000\n",
       "max    299998.000000      59.000000  223835.000000    7050.000000"
      ]
     },
     "execution_count": 5,
     "metadata": {},
     "output_type": "execute_result"
    }
   ],
   "source": [
    "pat.describe()"
   ]
  },
  {
   "cell_type": "code",
   "execution_count": 6,
   "metadata": {},
   "outputs": [
    {
     "data": {
      "text/plain": [
       "(762064, 5)"
      ]
     },
     "execution_count": 6,
     "metadata": {},
     "output_type": "execute_result"
    }
   ],
   "source": [
    "pat = pat[~pat.icustay_id.isna()]\n",
    "pat = pat[pat.mins>=0]\n",
    "pat.shape"
   ]
  },
  {
   "cell_type": "markdown",
   "metadata": {},
   "source": [
    "## 전처리\n",
    "pre-process the FiO2s to ensure they are between 21-100%"
   ]
  },
  {
   "cell_type": "code",
   "execution_count": 7,
   "metadata": {},
   "outputs": [
    {
     "data": {
      "text/plain": [
       "(698867, 5)"
      ]
     },
     "execution_count": 7,
     "metadata": {},
     "output_type": "execute_result"
    }
   ],
   "source": [
    "pat = pat[(pat.valuenum>21) | ((pat.valuenum<1) & (pat.valuenum>0))]\n",
    "pat.shape"
   ]
  },
  {
   "cell_type": "code",
   "execution_count": 8,
   "metadata": {},
   "outputs": [
    {
     "data": {
      "text/html": [
       "<div>\n",
       "<style scoped>\n",
       "    .dataframe tbody tr th:only-of-type {\n",
       "        vertical-align: middle;\n",
       "    }\n",
       "\n",
       "    .dataframe tbody tr th {\n",
       "        vertical-align: top;\n",
       "    }\n",
       "\n",
       "    .dataframe thead th {\n",
       "        text-align: right;\n",
       "    }\n",
       "</style>\n",
       "<table border=\"1\" class=\"dataframe\">\n",
       "  <thead>\n",
       "    <tr style=\"text-align: right;\">\n",
       "      <th></th>\n",
       "      <th>icustay_id</th>\n",
       "      <th>mins</th>\n",
       "      <th>itemid</th>\n",
       "      <th>valuenum</th>\n",
       "      <th>label</th>\n",
       "    </tr>\n",
       "  </thead>\n",
       "  <tbody>\n",
       "  </tbody>\n",
       "</table>\n",
       "</div>"
      ],
      "text/plain": [
       "Empty DataFrame\n",
       "Columns: [icustay_id, mins, itemid, valuenum, label]\n",
       "Index: []"
      ]
     },
     "execution_count": 8,
     "metadata": {},
     "output_type": "execute_result"
    }
   ],
   "source": [
    "# 제거 되었는지 확인\n",
    "pat[(pat.valuenum<21) & (pat.valuenum<0.2)]"
   ]
  },
  {
   "cell_type": "code",
   "execution_count": 9,
   "metadata": {},
   "outputs": [
    {
     "data": {
      "text/html": [
       "<div>\n",
       "<style scoped>\n",
       "    .dataframe tbody tr th:only-of-type {\n",
       "        vertical-align: middle;\n",
       "    }\n",
       "\n",
       "    .dataframe tbody tr th {\n",
       "        vertical-align: top;\n",
       "    }\n",
       "\n",
       "    .dataframe thead th {\n",
       "        text-align: right;\n",
       "    }\n",
       "</style>\n",
       "<table border=\"1\" class=\"dataframe\">\n",
       "  <thead>\n",
       "    <tr style=\"text-align: right;\">\n",
       "      <th></th>\n",
       "      <th>icustay_id</th>\n",
       "      <th>mins</th>\n",
       "      <th>itemid</th>\n",
       "      <th>valuenum</th>\n",
       "      <th>label</th>\n",
       "    </tr>\n",
       "  </thead>\n",
       "  <tbody>\n",
       "  </tbody>\n",
       "</table>\n",
       "</div>"
      ],
      "text/plain": [
       "Empty DataFrame\n",
       "Columns: [icustay_id, mins, itemid, valuenum, label]\n",
       "Index: []"
      ]
     },
     "execution_count": 9,
     "metadata": {},
     "output_type": "execute_result"
    }
   ],
   "source": [
    "# 백분위로 변환\n",
    "def convert_to_percent(num):\n",
    "    return num * 100\n",
    "\n",
    "pat.loc[pat.valuenum<1, 'valuenum'] = pat[pat.valuenum<1].valuenum.map(lambda x: convert_to_percent(x))\n",
    "\n",
    "pat[pat.valuenum<1]"
   ]
  },
  {
   "cell_type": "code",
   "execution_count": 10,
   "metadata": {},
   "outputs": [
    {
     "data": {
      "text/plain": [
       "count    698867.000000\n",
       "mean         47.669281\n",
       "std          21.504678\n",
       "min          20.999999\n",
       "25%          40.000000\n",
       "50%          40.000001\n",
       "75%          50.000000\n",
       "max        7050.000000\n",
       "Name: valuenum, dtype: float64"
      ]
     },
     "execution_count": 10,
     "metadata": {},
     "output_type": "execute_result"
    }
   ],
   "source": [
    "pat.valuenum.describe()"
   ]
  },
  {
   "cell_type": "markdown",
   "metadata": {},
   "source": [
    "## 한 환자의 FiO2값 예측하기"
   ]
  },
  {
   "cell_type": "code",
   "execution_count": 11,
   "metadata": {},
   "outputs": [
    {
     "data": {
      "text/plain": [
       "icustay_id\n",
       "252836.0     0\n",
       "295669.0     0\n",
       "249403.0     0\n",
       "298236.0     0\n",
       "294193.0     0\n",
       "226799.0     0\n",
       "209663.0     0\n",
       "249864.0     0\n",
       "238858.0     0\n",
       "225650.0     0\n",
       "            ..\n",
       "243916.0    59\n",
       "243886.0    59\n",
       "243855.0    59\n",
       "284987.0    59\n",
       "243793.0    59\n",
       "243791.0    59\n",
       "243622.0    59\n",
       "243592.0    59\n",
       "243429.0    59\n",
       "238757.0    59\n",
       "Length: 5484, dtype: int64"
      ]
     },
     "execution_count": 11,
     "metadata": {},
     "output_type": "execute_result"
    }
   ],
   "source": [
    "# 가장 긴 관찰 값을 가지고 있는 환자 찾기\n",
    "find_pat = pat.groupby(['mins', 'icustay_id']).mean().reset_index().pivot(\"icustay_id\", 'mins', 'valuenum')\n",
    "find_pat.isnull().sum(axis=1).sort_values(ascending=True)"
   ]
  },
  {
   "cell_type": "code",
   "execution_count": 12,
   "metadata": {},
   "outputs": [
    {
     "data": {
      "text/plain": [
       "array([56.52173913, 56.52173913, 56.52173913, 56.52173913, 56.30434783,\n",
       "       56.30434783, 55.33333333, 56.30434783, 56.30434783, 56.30434783,\n",
       "       56.30434783, 57.23404255, 56.38297872, 56.38297872, 56.38297872,\n",
       "       56.38297872, 56.38297872, 55.43478261, 56.38297872, 56.38297872,\n",
       "       56.38297872, 56.38297872, 56.38297872, 56.38297872, 56.38297872,\n",
       "       56.38297872, 56.38297872, 56.38297872, 56.38297872, 56.38297872,\n",
       "       56.38297872, 56.38297872, 56.38297872, 56.38297872, 56.38297872,\n",
       "       56.38297872, 56.38297872, 56.38297872, 56.38297872, 56.38297872,\n",
       "       56.38297872, 56.38297872, 56.38297872, 56.38297872, 56.38297872,\n",
       "       56.38297872, 56.38297872, 56.38297872, 56.38297872, 56.38297872,\n",
       "       56.38297872, 56.38297872, 56.38297872, 56.38297872, 56.38297872,\n",
       "       55.88235294, 56.38297872, 56.38297872, 56.38297872, 56.52173913])"
      ]
     },
     "execution_count": 12,
     "metadata": {},
     "output_type": "execute_result"
    }
   ],
   "source": [
    "target_pat = find_pat.iloc[find_pat.index==295669].values[0]\n",
    "target_pat"
   ]
  },
  {
   "cell_type": "code",
   "execution_count": 13,
   "metadata": {},
   "outputs": [
    {
     "data": {
      "text/plain": [
       "array([56.52173913, 56.52173913, 56.52173913, 56.52173913, 56.30434783,\n",
       "       56.30434783, 55.33333333, 56.30434783, 56.30434783, 56.30434783,\n",
       "       56.30434783, 57.23404255, 56.38297872, 56.38297872, 56.38297872,\n",
       "       56.38297872, 56.38297872, 55.43478261, 56.38297872, 56.38297872,\n",
       "       56.38297872, 56.38297872, 56.38297872, 56.38297872, 56.38297872,\n",
       "       56.38297872, 56.38297872, 56.38297872, 56.38297872, 56.38297872,\n",
       "       56.38297872, 56.38297872, 56.38297872, 56.38297872, 56.38297872,\n",
       "       56.38297872, 56.38297872, 56.38297872, 56.38297872, 56.38297872,\n",
       "       56.38297872, 56.38297872, 56.38297872, 56.38297872, 56.38297872,\n",
       "       56.38297872, 56.38297872, 56.38297872, 56.38297872, 56.38297872])"
      ]
     },
     "execution_count": 13,
     "metadata": {},
     "output_type": "execute_result"
    },
    {
     "data": {
      "text/plain": [
       "array([56.38297872, 56.38297872, 56.38297872, 56.38297872, 56.38297872,\n",
       "       55.88235294, 56.38297872, 56.38297872, 56.38297872, 56.52173913])"
      ]
     },
     "execution_count": 13,
     "metadata": {},
     "output_type": "execute_result"
    }
   ],
   "source": [
    "train, test = target_pat[0:len(target_pat)-10], target_pat[len(target_pat)-10:]\n",
    "train\n",
    "test"
   ]
  },
  {
   "cell_type": "code",
   "execution_count": 14,
   "metadata": {},
   "outputs": [
    {
     "name": "stdout",
     "output_type": "stream",
     "text": [
      "Lag : 10\n",
      "Coefficients : [ 1.42052161e+02 -3.49874631e-01 -1.15568316e-01 -3.47879775e-02\n",
      " -1.48938756e-02 -3.52998640e-01 -4.33378673e-01 -1.48015192e-01\n",
      "  1.56954886e-03  2.15910593e-02 -9.38904512e-02]\n",
      "Predicted= 56.336098, expected=56.382979\n",
      "Predicted= 56.352501, expected=56.382979\n",
      "Predicted= 56.352180, expected=56.382979\n",
      "Predicted= 56.352027, expected=56.382979\n",
      "Predicted= 56.352245, expected=56.382979\n",
      "Predicted= 56.368502, expected=55.882353\n",
      "Predicted= 56.377326, expected=56.382979\n",
      "Predicted= 56.372299, expected=56.382979\n",
      "Predicted= 56.370161, expected=56.382979\n",
      "Predicted= 56.369991, expected=56.521739\n"
     ]
    }
   ],
   "source": [
    "from statsmodels.tsa.ar_model import AR\n",
    "\n",
    "model = AR(train)\n",
    "model_fit = model.fit()\n",
    "print('Lag : %s' % model_fit.k_ar)\n",
    "print('Coefficients : %s' % model_fit.params)\n",
    "\n",
    "predictions = model_fit.predict(start=len(train), end=len(train)+len(test)-1, dynamic=False)\n",
    "for i in range(len(predictions)):\n",
    "    print('Predicted= %f, expected=%f' % (predictions[i], test[i]))"
   ]
  },
  {
   "cell_type": "code",
   "execution_count": 15,
   "metadata": {},
   "outputs": [
    {
     "name": "stdout",
     "output_type": "stream",
     "text": [
      "Test MSE: 0.027\n"
     ]
    }
   ],
   "source": [
    "from sklearn.metrics import mean_squared_error\n",
    "\n",
    "error = mean_squared_error(test, predictions)\n",
    "print('Test MSE: %.3f' % error)"
   ]
  },
  {
   "cell_type": "code",
   "execution_count": 16,
   "metadata": {},
   "outputs": [
    {
     "data": {
      "text/plain": [
       "[<matplotlib.lines.Line2D at 0x124cbfeb8>]"
      ]
     },
     "execution_count": 16,
     "metadata": {},
     "output_type": "execute_result"
    },
    {
     "data": {
      "text/plain": [
       "[<matplotlib.lines.Line2D at 0x1191604e0>]"
      ]
     },
     "execution_count": 16,
     "metadata": {},
     "output_type": "execute_result"
    },
    {
     "data": {
      "image/png": "[encoded data removed]",
      "text/plain": [
       "<Figure size 432x288 with 1 Axes>"
      ]
     },
     "metadata": {
      "needs_background": "light"
     },
     "output_type": "display_data"
    }
   ],
   "source": [
    "plt.plot(test)\n",
    "plt.plot(predictions, color='red')\n",
    "plt.show()"
   ]
  },
  {
   "cell_type": "code",
   "execution_count": 17,
   "metadata": {},
   "outputs": [
    {
     "data": {
      "text/html": [
       "<div>\n",
       "<style scoped>\n",
       "    .dataframe tbody tr th:only-of-type {\n",
       "        vertical-align: middle;\n",
       "    }\n",
       "\n",
       "    .dataframe tbody tr th {\n",
       "        vertical-align: top;\n",
       "    }\n",
       "\n",
       "    .dataframe thead th {\n",
       "        text-align: right;\n",
       "    }\n",
       "</style>\n",
       "<table border=\"1\" class=\"dataframe\">\n",
       "  <thead>\n",
       "    <tr style=\"text-align: right;\">\n",
       "      <th></th>\n",
       "      <th>icustay_id</th>\n",
       "      <th>mins</th>\n",
       "      <th>itemid</th>\n",
       "      <th>valuenum</th>\n",
       "      <th>label</th>\n",
       "    </tr>\n",
       "  </thead>\n",
       "  <tbody>\n",
       "    <tr>\n",
       "      <th>0</th>\n",
       "      <td>217847.0</td>\n",
       "      <td>0</td>\n",
       "      <td>190</td>\n",
       "      <td>40.000001</td>\n",
       "      <td>FiO2 Set</td>\n",
       "    </tr>\n",
       "    <tr>\n",
       "      <th>4</th>\n",
       "      <td>248910.0</td>\n",
       "      <td>30</td>\n",
       "      <td>190</td>\n",
       "      <td>40.000001</td>\n",
       "      <td>FiO2 Set</td>\n",
       "    </tr>\n",
       "    <tr>\n",
       "      <th>5</th>\n",
       "      <td>248910.0</td>\n",
       "      <td>30</td>\n",
       "      <td>190</td>\n",
       "      <td>40.000001</td>\n",
       "      <td>FiO2 Set</td>\n",
       "    </tr>\n",
       "    <tr>\n",
       "      <th>6</th>\n",
       "      <td>248910.0</td>\n",
       "      <td>30</td>\n",
       "      <td>190</td>\n",
       "      <td>40.000001</td>\n",
       "      <td>FiO2 Set</td>\n",
       "    </tr>\n",
       "    <tr>\n",
       "      <th>7</th>\n",
       "      <td>248910.0</td>\n",
       "      <td>30</td>\n",
       "      <td>190</td>\n",
       "      <td>40.000001</td>\n",
       "      <td>FiO2 Set</td>\n",
       "    </tr>\n",
       "  </tbody>\n",
       "</table>\n",
       "</div>"
      ],
      "text/plain": [
       "   icustay_id  mins  itemid   valuenum     label\n",
       "0    217847.0     0     190  40.000001  FiO2 Set\n",
       "4    248910.0    30     190  40.000001  FiO2 Set\n",
       "5    248910.0    30     190  40.000001  FiO2 Set\n",
       "6    248910.0    30     190  40.000001  FiO2 Set\n",
       "7    248910.0    30     190  40.000001  FiO2 Set"
      ]
     },
     "execution_count": 17,
     "metadata": {},
     "output_type": "execute_result"
    }
   ],
   "source": [
    "# 전체 시간을 5분 단위로 변경\n",
    "def convert_to_min_range(min_num):\n",
    "    return int(min_num/10)*10\n",
    "\n",
    "pat.mins = pat.mins.map(lambda x: convert_to_min_range(x))\n",
    "pat.head()"
   ]
  },
  {
   "cell_type": "code",
   "execution_count": 18,
   "metadata": {},
   "outputs": [
    {
     "data": {
      "text/html": [
       "<div>\n",
       "<style scoped>\n",
       "    .dataframe tbody tr th:only-of-type {\n",
       "        vertical-align: middle;\n",
       "    }\n",
       "\n",
       "    .dataframe tbody tr th {\n",
       "        vertical-align: top;\n",
       "    }\n",
       "\n",
       "    .dataframe thead th {\n",
       "        text-align: right;\n",
       "    }\n",
       "</style>\n",
       "<table border=\"1\" class=\"dataframe\">\n",
       "  <thead>\n",
       "    <tr style=\"text-align: right;\">\n",
       "      <th></th>\n",
       "      <th>mins</th>\n",
       "      <th>icustay_id</th>\n",
       "      <th>itemid</th>\n",
       "      <th>valuenum</th>\n",
       "    </tr>\n",
       "  </thead>\n",
       "  <tbody>\n",
       "    <tr>\n",
       "      <th>0</th>\n",
       "      <td>0</td>\n",
       "      <td>200001.0</td>\n",
       "      <td>223835.0</td>\n",
       "      <td>35.000000</td>\n",
       "    </tr>\n",
       "    <tr>\n",
       "      <th>1</th>\n",
       "      <td>0</td>\n",
       "      <td>200003.0</td>\n",
       "      <td>190.0</td>\n",
       "      <td>43.461539</td>\n",
       "    </tr>\n",
       "    <tr>\n",
       "      <th>2</th>\n",
       "      <td>0</td>\n",
       "      <td>200011.0</td>\n",
       "      <td>223835.0</td>\n",
       "      <td>30.000000</td>\n",
       "    </tr>\n",
       "    <tr>\n",
       "      <th>3</th>\n",
       "      <td>0</td>\n",
       "      <td>200046.0</td>\n",
       "      <td>3420.0</td>\n",
       "      <td>66.393647</td>\n",
       "    </tr>\n",
       "    <tr>\n",
       "      <th>4</th>\n",
       "      <td>0</td>\n",
       "      <td>200063.0</td>\n",
       "      <td>223835.0</td>\n",
       "      <td>60.000000</td>\n",
       "    </tr>\n",
       "  </tbody>\n",
       "</table>\n",
       "</div>"
      ],
      "text/plain": [
       "   mins  icustay_id    itemid   valuenum\n",
       "0     0    200001.0  223835.0  35.000000\n",
       "1     0    200003.0     190.0  43.461539\n",
       "2     0    200011.0  223835.0  30.000000\n",
       "3     0    200046.0    3420.0  66.393647\n",
       "4     0    200063.0  223835.0  60.000000"
      ]
     },
     "execution_count": 18,
     "metadata": {},
     "output_type": "execute_result"
    }
   ],
   "source": [
    "# 같은 시간 내 관찰값이 여러번 추가되었다면, 평균으로 정리한다 -- 통계적, 의학적 타당성(?)\n",
    "mean_pat = pat.groupby(['mins', 'icustay_id']).mean().reset_index()\n",
    "mean_pat.head()"
   ]
  },
  {
   "cell_type": "code",
   "execution_count": 19,
   "metadata": {},
   "outputs": [
    {
     "data": {
      "text/html": [
       "<div>\n",
       "<style scoped>\n",
       "    .dataframe tbody tr th:only-of-type {\n",
       "        vertical-align: middle;\n",
       "    }\n",
       "\n",
       "    .dataframe tbody tr th {\n",
       "        vertical-align: top;\n",
       "    }\n",
       "\n",
       "    .dataframe thead th {\n",
       "        text-align: right;\n",
       "    }\n",
       "</style>\n",
       "<table border=\"1\" class=\"dataframe\">\n",
       "  <thead>\n",
       "    <tr style=\"text-align: right;\">\n",
       "      <th>mins</th>\n",
       "      <th>0</th>\n",
       "      <th>10</th>\n",
       "      <th>20</th>\n",
       "      <th>30</th>\n",
       "      <th>40</th>\n",
       "      <th>50</th>\n",
       "    </tr>\n",
       "    <tr>\n",
       "      <th>icustay_id</th>\n",
       "      <th></th>\n",
       "      <th></th>\n",
       "      <th></th>\n",
       "      <th></th>\n",
       "      <th></th>\n",
       "      <th></th>\n",
       "    </tr>\n",
       "  </thead>\n",
       "  <tbody>\n",
       "    <tr>\n",
       "      <th>200001.0</th>\n",
       "      <td>35.000000</td>\n",
       "      <td>NaN</td>\n",
       "      <td>NaN</td>\n",
       "      <td>NaN</td>\n",
       "      <td>NaN</td>\n",
       "      <td>35.000000</td>\n",
       "    </tr>\n",
       "    <tr>\n",
       "      <th>200003.0</th>\n",
       "      <td>43.461539</td>\n",
       "      <td>69.999999</td>\n",
       "      <td>NaN</td>\n",
       "      <td>42.000000</td>\n",
       "      <td>NaN</td>\n",
       "      <td>40.000001</td>\n",
       "    </tr>\n",
       "    <tr>\n",
       "      <th>200011.0</th>\n",
       "      <td>30.000000</td>\n",
       "      <td>NaN</td>\n",
       "      <td>30.000000</td>\n",
       "      <td>NaN</td>\n",
       "      <td>NaN</td>\n",
       "      <td>NaN</td>\n",
       "    </tr>\n",
       "    <tr>\n",
       "      <th>200046.0</th>\n",
       "      <td>66.393647</td>\n",
       "      <td>30.000000</td>\n",
       "      <td>NaN</td>\n",
       "      <td>64.777778</td>\n",
       "      <td>NaN</td>\n",
       "      <td>NaN</td>\n",
       "    </tr>\n",
       "    <tr>\n",
       "      <th>200063.0</th>\n",
       "      <td>60.000000</td>\n",
       "      <td>75.000000</td>\n",
       "      <td>NaN</td>\n",
       "      <td>52.078652</td>\n",
       "      <td>50.000000</td>\n",
       "      <td>60.000000</td>\n",
       "    </tr>\n",
       "    <tr>\n",
       "      <th>200065.0</th>\n",
       "      <td>50.000000</td>\n",
       "      <td>40.000001</td>\n",
       "      <td>43.611112</td>\n",
       "      <td>NaN</td>\n",
       "      <td>40.000001</td>\n",
       "      <td>52.142857</td>\n",
       "    </tr>\n",
       "    <tr>\n",
       "      <th>200075.0</th>\n",
       "      <td>NaN</td>\n",
       "      <td>NaN</td>\n",
       "      <td>NaN</td>\n",
       "      <td>NaN</td>\n",
       "      <td>46.666667</td>\n",
       "      <td>NaN</td>\n",
       "    </tr>\n",
       "    <tr>\n",
       "      <th>200087.0</th>\n",
       "      <td>NaN</td>\n",
       "      <td>NaN</td>\n",
       "      <td>NaN</td>\n",
       "      <td>100.000000</td>\n",
       "      <td>67.368421</td>\n",
       "      <td>NaN</td>\n",
       "    </tr>\n",
       "    <tr>\n",
       "      <th>200102.0</th>\n",
       "      <td>63.333334</td>\n",
       "      <td>56.666666</td>\n",
       "      <td>60.000000</td>\n",
       "      <td>60.000001</td>\n",
       "      <td>54.193548</td>\n",
       "      <td>53.875001</td>\n",
       "    </tr>\n",
       "    <tr>\n",
       "      <th>200140.0</th>\n",
       "      <td>51.250000</td>\n",
       "      <td>55.000001</td>\n",
       "      <td>50.431035</td>\n",
       "      <td>66.666666</td>\n",
       "      <td>53.333333</td>\n",
       "      <td>54.375001</td>\n",
       "    </tr>\n",
       "    <tr>\n",
       "      <th>...</th>\n",
       "      <td>...</td>\n",
       "      <td>...</td>\n",
       "      <td>...</td>\n",
       "      <td>...</td>\n",
       "      <td>...</td>\n",
       "      <td>...</td>\n",
       "    </tr>\n",
       "    <tr>\n",
       "      <th>299853.0</th>\n",
       "      <td>100.000000</td>\n",
       "      <td>100.000000</td>\n",
       "      <td>50.000000</td>\n",
       "      <td>42.500000</td>\n",
       "      <td>NaN</td>\n",
       "      <td>NaN</td>\n",
       "    </tr>\n",
       "    <tr>\n",
       "      <th>299856.0</th>\n",
       "      <td>60.000000</td>\n",
       "      <td>NaN</td>\n",
       "      <td>70.000000</td>\n",
       "      <td>60.000000</td>\n",
       "      <td>63.333333</td>\n",
       "      <td>50.000000</td>\n",
       "    </tr>\n",
       "    <tr>\n",
       "      <th>299859.0</th>\n",
       "      <td>NaN</td>\n",
       "      <td>27.857143</td>\n",
       "      <td>NaN</td>\n",
       "      <td>NaN</td>\n",
       "      <td>29.000000</td>\n",
       "      <td>NaN</td>\n",
       "    </tr>\n",
       "    <tr>\n",
       "      <th>299863.0</th>\n",
       "      <td>50.263158</td>\n",
       "      <td>50.000000</td>\n",
       "      <td>52.500001</td>\n",
       "      <td>55.000001</td>\n",
       "      <td>51.428572</td>\n",
       "      <td>52.500001</td>\n",
       "    </tr>\n",
       "    <tr>\n",
       "      <th>299867.0</th>\n",
       "      <td>51.434783</td>\n",
       "      <td>70.000000</td>\n",
       "      <td>NaN</td>\n",
       "      <td>70.000000</td>\n",
       "      <td>NaN</td>\n",
       "      <td>50.000000</td>\n",
       "    </tr>\n",
       "    <tr>\n",
       "      <th>299894.0</th>\n",
       "      <td>NaN</td>\n",
       "      <td>NaN</td>\n",
       "      <td>NaN</td>\n",
       "      <td>47.500000</td>\n",
       "      <td>NaN</td>\n",
       "      <td>NaN</td>\n",
       "    </tr>\n",
       "    <tr>\n",
       "      <th>299913.0</th>\n",
       "      <td>NaN</td>\n",
       "      <td>NaN</td>\n",
       "      <td>50.000000</td>\n",
       "      <td>NaN</td>\n",
       "      <td>NaN</td>\n",
       "      <td>45.000000</td>\n",
       "    </tr>\n",
       "    <tr>\n",
       "      <th>299972.0</th>\n",
       "      <td>40.000001</td>\n",
       "      <td>40.000001</td>\n",
       "      <td>40.000001</td>\n",
       "      <td>40.000001</td>\n",
       "      <td>NaN</td>\n",
       "      <td>NaN</td>\n",
       "    </tr>\n",
       "    <tr>\n",
       "      <th>299994.0</th>\n",
       "      <td>47.777778</td>\n",
       "      <td>50.000000</td>\n",
       "      <td>50.000000</td>\n",
       "      <td>50.000000</td>\n",
       "      <td>NaN</td>\n",
       "      <td>NaN</td>\n",
       "    </tr>\n",
       "    <tr>\n",
       "      <th>299998.0</th>\n",
       "      <td>NaN</td>\n",
       "      <td>55.000000</td>\n",
       "      <td>50.000000</td>\n",
       "      <td>45.000000</td>\n",
       "      <td>NaN</td>\n",
       "      <td>NaN</td>\n",
       "    </tr>\n",
       "  </tbody>\n",
       "</table>\n",
       "<p>5484 rows × 6 columns</p>\n",
       "</div>"
      ],
      "text/plain": [
       "mins                0           10         20          30         40  \\\n",
       "icustay_id                                                             \n",
       "200001.0     35.000000         NaN        NaN         NaN        NaN   \n",
       "200003.0     43.461539   69.999999        NaN   42.000000        NaN   \n",
       "200011.0     30.000000         NaN  30.000000         NaN        NaN   \n",
       "200046.0     66.393647   30.000000        NaN   64.777778        NaN   \n",
       "200063.0     60.000000   75.000000        NaN   52.078652  50.000000   \n",
       "200065.0     50.000000   40.000001  43.611112         NaN  40.000001   \n",
       "200075.0           NaN         NaN        NaN         NaN  46.666667   \n",
       "200087.0           NaN         NaN        NaN  100.000000  67.368421   \n",
       "200102.0     63.333334   56.666666  60.000000   60.000001  54.193548   \n",
       "200140.0     51.250000   55.000001  50.431035   66.666666  53.333333   \n",
       "...                ...         ...        ...         ...        ...   \n",
       "299853.0    100.000000  100.000000  50.000000   42.500000        NaN   \n",
       "299856.0     60.000000         NaN  70.000000   60.000000  63.333333   \n",
       "299859.0           NaN   27.857143        NaN         NaN  29.000000   \n",
       "299863.0     50.263158   50.000000  52.500001   55.000001  51.428572   \n",
       "299867.0     51.434783   70.000000        NaN   70.000000        NaN   \n",
       "299894.0           NaN         NaN        NaN   47.500000        NaN   \n",
       "299913.0           NaN         NaN  50.000000         NaN        NaN   \n",
       "299972.0     40.000001   40.000001  40.000001   40.000001        NaN   \n",
       "299994.0     47.777778   50.000000  50.000000   50.000000        NaN   \n",
       "299998.0           NaN   55.000000  50.000000   45.000000        NaN   \n",
       "\n",
       "mins               50  \n",
       "icustay_id             \n",
       "200001.0    35.000000  \n",
       "200003.0    40.000001  \n",
       "200011.0          NaN  \n",
       "200046.0          NaN  \n",
       "200063.0    60.000000  \n",
       "200065.0    52.142857  \n",
       "200075.0          NaN  \n",
       "200087.0          NaN  \n",
       "200102.0    53.875001  \n",
       "200140.0    54.375001  \n",
       "...               ...  \n",
       "299853.0          NaN  \n",
       "299856.0    50.000000  \n",
       "299859.0          NaN  \n",
       "299863.0    52.500001  \n",
       "299867.0    50.000000  \n",
       "299894.0          NaN  \n",
       "299913.0    45.000000  \n",
       "299972.0          NaN  \n",
       "299994.0          NaN  \n",
       "299998.0          NaN  \n",
       "\n",
       "[5484 rows x 6 columns]"
      ]
     },
     "execution_count": 19,
     "metadata": {},
     "output_type": "execute_result"
    }
   ],
   "source": [
    "## Pivot table: 데이터 컬럼 중에 두 개의 컬럼을 각각 행의 인덱스, 열의 인덱스로 사용하여 테이블을 구성하는 것\n",
    "# pandas에서는 피봇데이블을 만들기 위해 pivot(행 인덱스로 사용할 컬럼이름, 열 인덱스로 활용할 컬럼이름, 데이터로 사용할 컬럼이름) 을 입력한다\n",
    "# - https://datascienceschool.net/view-notebook/76dcd63bba2c4959af15bec41b197e7c/\n",
    "mean_pivot = mean_pat.pivot(\"icustay_id\", 'mins', 'valuenum')\n",
    "mean_pivot"
   ]
  },
  {
   "cell_type": "markdown",
   "metadata": {},
   "source": [
    "# missing value\n",
    "- If any individual vital signs were missing for model estimation then the previous value was pulled forward. If no prior values were available then a median value was imputed, similar to prior work in this area.\n",
    "- Churpek, Matthew M., Richa Adhikari, and Dana P. Edelson. \"The value of vital sign trends for detecting clinical deterioration on the wards.\" Resuscitation 102 (2016): 1-5."
   ]
  },
  {
   "cell_type": "code",
   "execution_count": 20,
   "metadata": {},
   "outputs": [
    {
     "data": {
      "text/plain": [
       "<Figure size 1440x720 with 0 Axes>"
      ]
     },
     "execution_count": 20,
     "metadata": {},
     "output_type": "execute_result"
    },
    {
     "data": {
      "text/plain": [
       "<matplotlib.axes._subplots.AxesSubplot at 0x1192d1780>"
      ]
     },
     "execution_count": 20,
     "metadata": {},
     "output_type": "execute_result"
    },
    {
     "data": {
      "image/png": "[encoded data removed]",
      "text/plain": [
       "<Figure size 1440x720 with 1 Axes>"
      ]
     },
     "metadata": {
      "needs_background": "light"
     },
     "output_type": "display_data"
    }
   ],
   "source": [
    "# missing data visualization with heatmap\n",
    "import seaborn as sns\n",
    "\n",
    "plt.figure(figsize=(20, 10))\n",
    "\n",
    "sns.heatmap(mean_pivot.isnull(), yticklabels=False, cbar=False, cmap='viridis')"
   ]
  },
  {
   "cell_type": "code",
   "execution_count": 21,
   "metadata": {},
   "outputs": [
    {
     "data": {
      "text/plain": [
       "icustay_id\n",
       "271090.0    0\n",
       "246638.0    0\n",
       "217957.0    0\n",
       "246728.0    0\n",
       "217906.0    0\n",
       "246821.0    0\n",
       "246833.0    0\n",
       "217845.0    0\n",
       "292851.0    0\n",
       "246876.0    0\n",
       "           ..\n",
       "233682.0    5\n",
       "276911.0    5\n",
       "233571.0    5\n",
       "257636.0    5\n",
       "257978.0    5\n",
       "287552.0    5\n",
       "258212.0    5\n",
       "232991.0    5\n",
       "258560.0    5\n",
       "285461.0    5\n",
       "Length: 5484, dtype: int64"
      ]
     },
     "execution_count": 21,
     "metadata": {},
     "output_type": "execute_result"
    },
    {
     "data": {
      "text/html": [
       "<div>\n",
       "<style scoped>\n",
       "    .dataframe tbody tr th:only-of-type {\n",
       "        vertical-align: middle;\n",
       "    }\n",
       "\n",
       "    .dataframe tbody tr th {\n",
       "        vertical-align: top;\n",
       "    }\n",
       "\n",
       "    .dataframe thead th {\n",
       "        text-align: right;\n",
       "    }\n",
       "</style>\n",
       "<table border=\"1\" class=\"dataframe\">\n",
       "  <thead>\n",
       "    <tr style=\"text-align: right;\">\n",
       "      <th>mins</th>\n",
       "      <th>0</th>\n",
       "      <th>10</th>\n",
       "      <th>20</th>\n",
       "      <th>30</th>\n",
       "      <th>40</th>\n",
       "      <th>50</th>\n",
       "    </tr>\n",
       "    <tr>\n",
       "      <th>icustay_id</th>\n",
       "      <th></th>\n",
       "      <th></th>\n",
       "      <th></th>\n",
       "      <th></th>\n",
       "      <th></th>\n",
       "      <th></th>\n",
       "    </tr>\n",
       "  </thead>\n",
       "  <tbody>\n",
       "    <tr>\n",
       "      <th>271090.0</th>\n",
       "      <td>52.500001</td>\n",
       "      <td>40.000001</td>\n",
       "      <td>45.000000</td>\n",
       "      <td>40.000001</td>\n",
       "      <td>40.000001</td>\n",
       "      <td>46.034483</td>\n",
       "    </tr>\n",
       "    <tr>\n",
       "      <th>246638.0</th>\n",
       "      <td>60.000002</td>\n",
       "      <td>56.666668</td>\n",
       "      <td>52.500001</td>\n",
       "      <td>60.000002</td>\n",
       "      <td>56.666668</td>\n",
       "      <td>56.511630</td>\n",
       "    </tr>\n",
       "    <tr>\n",
       "      <th>217957.0</th>\n",
       "      <td>46.538463</td>\n",
       "      <td>50.000000</td>\n",
       "      <td>53.333334</td>\n",
       "      <td>53.333333</td>\n",
       "      <td>40.000001</td>\n",
       "      <td>40.000001</td>\n",
       "    </tr>\n",
       "    <tr>\n",
       "      <th>246728.0</th>\n",
       "      <td>57.954545</td>\n",
       "      <td>92.500000</td>\n",
       "      <td>61.250000</td>\n",
       "      <td>85.000000</td>\n",
       "      <td>43.333333</td>\n",
       "      <td>100.000000</td>\n",
       "    </tr>\n",
       "    <tr>\n",
       "      <th>217906.0</th>\n",
       "      <td>40.000000</td>\n",
       "      <td>43.114754</td>\n",
       "      <td>34.999999</td>\n",
       "      <td>43.333334</td>\n",
       "      <td>44.000000</td>\n",
       "      <td>42.000000</td>\n",
       "    </tr>\n",
       "    <tr>\n",
       "      <th>246821.0</th>\n",
       "      <td>40.000000</td>\n",
       "      <td>36.666667</td>\n",
       "      <td>30.000000</td>\n",
       "      <td>30.000000</td>\n",
       "      <td>35.512821</td>\n",
       "      <td>33.333333</td>\n",
       "    </tr>\n",
       "    <tr>\n",
       "      <th>246833.0</th>\n",
       "      <td>40.000001</td>\n",
       "      <td>40.000001</td>\n",
       "      <td>40.000001</td>\n",
       "      <td>40.000001</td>\n",
       "      <td>40.000001</td>\n",
       "      <td>44.123288</td>\n",
       "    </tr>\n",
       "    <tr>\n",
       "      <th>217845.0</th>\n",
       "      <td>43.846154</td>\n",
       "      <td>55.000000</td>\n",
       "      <td>49.379845</td>\n",
       "      <td>53.333333</td>\n",
       "      <td>44.692308</td>\n",
       "      <td>43.846154</td>\n",
       "    </tr>\n",
       "    <tr>\n",
       "      <th>292851.0</th>\n",
       "      <td>45.000000</td>\n",
       "      <td>50.000000</td>\n",
       "      <td>50.000000</td>\n",
       "      <td>46.000000</td>\n",
       "      <td>46.666667</td>\n",
       "      <td>50.000000</td>\n",
       "    </tr>\n",
       "    <tr>\n",
       "      <th>246876.0</th>\n",
       "      <td>52.857143</td>\n",
       "      <td>70.000000</td>\n",
       "      <td>40.000000</td>\n",
       "      <td>58.214286</td>\n",
       "      <td>60.000000</td>\n",
       "      <td>50.000000</td>\n",
       "    </tr>\n",
       "    <tr>\n",
       "      <th>...</th>\n",
       "      <td>...</td>\n",
       "      <td>...</td>\n",
       "      <td>...</td>\n",
       "      <td>...</td>\n",
       "      <td>...</td>\n",
       "      <td>...</td>\n",
       "    </tr>\n",
       "    <tr>\n",
       "      <th>233682.0</th>\n",
       "      <td>NaN</td>\n",
       "      <td>51.714286</td>\n",
       "      <td>NaN</td>\n",
       "      <td>NaN</td>\n",
       "      <td>NaN</td>\n",
       "      <td>NaN</td>\n",
       "    </tr>\n",
       "    <tr>\n",
       "      <th>276911.0</th>\n",
       "      <td>NaN</td>\n",
       "      <td>55.000001</td>\n",
       "      <td>NaN</td>\n",
       "      <td>NaN</td>\n",
       "      <td>NaN</td>\n",
       "      <td>NaN</td>\n",
       "    </tr>\n",
       "    <tr>\n",
       "      <th>233571.0</th>\n",
       "      <td>NaN</td>\n",
       "      <td>NaN</td>\n",
       "      <td>50.000000</td>\n",
       "      <td>NaN</td>\n",
       "      <td>NaN</td>\n",
       "      <td>NaN</td>\n",
       "    </tr>\n",
       "    <tr>\n",
       "      <th>257636.0</th>\n",
       "      <td>50.000000</td>\n",
       "      <td>NaN</td>\n",
       "      <td>NaN</td>\n",
       "      <td>NaN</td>\n",
       "      <td>NaN</td>\n",
       "      <td>NaN</td>\n",
       "    </tr>\n",
       "    <tr>\n",
       "      <th>257978.0</th>\n",
       "      <td>NaN</td>\n",
       "      <td>NaN</td>\n",
       "      <td>NaN</td>\n",
       "      <td>NaN</td>\n",
       "      <td>NaN</td>\n",
       "      <td>41.250001</td>\n",
       "    </tr>\n",
       "    <tr>\n",
       "      <th>287552.0</th>\n",
       "      <td>NaN</td>\n",
       "      <td>NaN</td>\n",
       "      <td>NaN</td>\n",
       "      <td>NaN</td>\n",
       "      <td>NaN</td>\n",
       "      <td>50.000000</td>\n",
       "    </tr>\n",
       "    <tr>\n",
       "      <th>258212.0</th>\n",
       "      <td>NaN</td>\n",
       "      <td>NaN</td>\n",
       "      <td>NaN</td>\n",
       "      <td>NaN</td>\n",
       "      <td>40.000000</td>\n",
       "      <td>NaN</td>\n",
       "    </tr>\n",
       "    <tr>\n",
       "      <th>232991.0</th>\n",
       "      <td>NaN</td>\n",
       "      <td>NaN</td>\n",
       "      <td>63.333333</td>\n",
       "      <td>NaN</td>\n",
       "      <td>NaN</td>\n",
       "      <td>NaN</td>\n",
       "    </tr>\n",
       "    <tr>\n",
       "      <th>258560.0</th>\n",
       "      <td>84.285714</td>\n",
       "      <td>NaN</td>\n",
       "      <td>NaN</td>\n",
       "      <td>NaN</td>\n",
       "      <td>NaN</td>\n",
       "      <td>NaN</td>\n",
       "    </tr>\n",
       "    <tr>\n",
       "      <th>285461.0</th>\n",
       "      <td>NaN</td>\n",
       "      <td>NaN</td>\n",
       "      <td>NaN</td>\n",
       "      <td>NaN</td>\n",
       "      <td>NaN</td>\n",
       "      <td>40.000001</td>\n",
       "    </tr>\n",
       "  </tbody>\n",
       "</table>\n",
       "<p>5484 rows × 6 columns</p>\n",
       "</div>"
      ],
      "text/plain": [
       "mins               0          10         20         30         40          50\n",
       "icustay_id                                                                   \n",
       "271090.0    52.500001  40.000001  45.000000  40.000001  40.000001   46.034483\n",
       "246638.0    60.000002  56.666668  52.500001  60.000002  56.666668   56.511630\n",
       "217957.0    46.538463  50.000000  53.333334  53.333333  40.000001   40.000001\n",
       "246728.0    57.954545  92.500000  61.250000  85.000000  43.333333  100.000000\n",
       "217906.0    40.000000  43.114754  34.999999  43.333334  44.000000   42.000000\n",
       "246821.0    40.000000  36.666667  30.000000  30.000000  35.512821   33.333333\n",
       "246833.0    40.000001  40.000001  40.000001  40.000001  40.000001   44.123288\n",
       "217845.0    43.846154  55.000000  49.379845  53.333333  44.692308   43.846154\n",
       "292851.0    45.000000  50.000000  50.000000  46.000000  46.666667   50.000000\n",
       "246876.0    52.857143  70.000000  40.000000  58.214286  60.000000   50.000000\n",
       "...               ...        ...        ...        ...        ...         ...\n",
       "233682.0          NaN  51.714286        NaN        NaN        NaN         NaN\n",
       "276911.0          NaN  55.000001        NaN        NaN        NaN         NaN\n",
       "233571.0          NaN        NaN  50.000000        NaN        NaN         NaN\n",
       "257636.0    50.000000        NaN        NaN        NaN        NaN         NaN\n",
       "257978.0          NaN        NaN        NaN        NaN        NaN   41.250001\n",
       "287552.0          NaN        NaN        NaN        NaN        NaN   50.000000\n",
       "258212.0          NaN        NaN        NaN        NaN  40.000000         NaN\n",
       "232991.0          NaN        NaN  63.333333        NaN        NaN         NaN\n",
       "258560.0    84.285714        NaN        NaN        NaN        NaN         NaN\n",
       "285461.0          NaN        NaN        NaN        NaN        NaN   40.000001\n",
       "\n",
       "[5484 rows x 6 columns]"
      ]
     },
     "execution_count": 21,
     "metadata": {},
     "output_type": "execute_result"
    }
   ],
   "source": [
    "# 결측값 여부 확인 : isnull(), notnull()\n",
    "# 열별 결측값 갯수 : df.isnull().sum()\n",
    "# 행별 결측값 갯수 : df.isnull().sum(axis=1)\n",
    "\n",
    "mean_pivot.isnull().sum(axis=1).sort_values(ascending=True)\n",
    "mean_pivot.loc[mean_pivot.isnull().sum(axis=1).sort_values(ascending=True).index]"
   ]
  },
  {
   "cell_type": "code",
   "execution_count": 22,
   "metadata": {},
   "outputs": [
    {
     "data": {
      "text/plain": [
       "Int64Index([0, 10, 20, 30, 40, 50], dtype='int64', name='mins')"
      ]
     },
     "execution_count": 22,
     "metadata": {},
     "output_type": "execute_result"
    },
    {
     "data": {
      "text/plain": [
       "6"
      ]
     },
     "execution_count": 22,
     "metadata": {},
     "output_type": "execute_result"
    }
   ],
   "source": [
    "mean_pivot.columns\n",
    "len(mean_pivot.columns)"
   ]
  },
  {
   "cell_type": "code",
   "execution_count": 23,
   "metadata": {},
   "outputs": [
    {
     "data": {
      "text/html": [
       "<div>\n",
       "<style scoped>\n",
       "    .dataframe tbody tr th:only-of-type {\n",
       "        vertical-align: middle;\n",
       "    }\n",
       "\n",
       "    .dataframe tbody tr th {\n",
       "        vertical-align: top;\n",
       "    }\n",
       "\n",
       "    .dataframe thead th {\n",
       "        text-align: right;\n",
       "    }\n",
       "</style>\n",
       "<table border=\"1\" class=\"dataframe\">\n",
       "  <thead>\n",
       "    <tr style=\"text-align: right;\">\n",
       "      <th>mins</th>\n",
       "      <th>0</th>\n",
       "      <th>10</th>\n",
       "      <th>20</th>\n",
       "      <th>30</th>\n",
       "      <th>40</th>\n",
       "      <th>50</th>\n",
       "    </tr>\n",
       "    <tr>\n",
       "      <th>icustay_id</th>\n",
       "      <th></th>\n",
       "      <th></th>\n",
       "      <th></th>\n",
       "      <th></th>\n",
       "      <th></th>\n",
       "      <th></th>\n",
       "    </tr>\n",
       "  </thead>\n",
       "  <tbody>\n",
       "    <tr>\n",
       "      <th>200003.0</th>\n",
       "      <td>43.461539</td>\n",
       "      <td>69.999999</td>\n",
       "      <td>NaN</td>\n",
       "      <td>42.000000</td>\n",
       "      <td>NaN</td>\n",
       "      <td>40.000001</td>\n",
       "    </tr>\n",
       "    <tr>\n",
       "      <th>200063.0</th>\n",
       "      <td>60.000000</td>\n",
       "      <td>75.000000</td>\n",
       "      <td>NaN</td>\n",
       "      <td>52.078652</td>\n",
       "      <td>50.000000</td>\n",
       "      <td>60.000000</td>\n",
       "    </tr>\n",
       "    <tr>\n",
       "      <th>200065.0</th>\n",
       "      <td>50.000000</td>\n",
       "      <td>40.000001</td>\n",
       "      <td>43.611112</td>\n",
       "      <td>NaN</td>\n",
       "      <td>40.000001</td>\n",
       "      <td>52.142857</td>\n",
       "    </tr>\n",
       "    <tr>\n",
       "      <th>200102.0</th>\n",
       "      <td>63.333334</td>\n",
       "      <td>56.666666</td>\n",
       "      <td>60.000000</td>\n",
       "      <td>60.000001</td>\n",
       "      <td>54.193548</td>\n",
       "      <td>53.875001</td>\n",
       "    </tr>\n",
       "    <tr>\n",
       "      <th>200140.0</th>\n",
       "      <td>51.250000</td>\n",
       "      <td>55.000001</td>\n",
       "      <td>50.431035</td>\n",
       "      <td>66.666666</td>\n",
       "      <td>53.333333</td>\n",
       "      <td>54.375001</td>\n",
       "    </tr>\n",
       "    <tr>\n",
       "      <th>200282.0</th>\n",
       "      <td>100.000000</td>\n",
       "      <td>37.131148</td>\n",
       "      <td>75.000000</td>\n",
       "      <td>40.000000</td>\n",
       "      <td>100.000000</td>\n",
       "      <td>45.000000</td>\n",
       "    </tr>\n",
       "    <tr>\n",
       "      <th>200422.0</th>\n",
       "      <td>46.931034</td>\n",
       "      <td>77.500000</td>\n",
       "      <td>52.000000</td>\n",
       "      <td>43.039295</td>\n",
       "      <td>47.857143</td>\n",
       "      <td>48.615385</td>\n",
       "    </tr>\n",
       "    <tr>\n",
       "      <th>200438.0</th>\n",
       "      <td>45.000000</td>\n",
       "      <td>45.000000</td>\n",
       "      <td>42.142858</td>\n",
       "      <td>45.000000</td>\n",
       "      <td>45.000000</td>\n",
       "      <td>43.333334</td>\n",
       "    </tr>\n",
       "    <tr>\n",
       "      <th>200470.0</th>\n",
       "      <td>NaN</td>\n",
       "      <td>85.000000</td>\n",
       "      <td>47.500000</td>\n",
       "      <td>NaN</td>\n",
       "      <td>70.000000</td>\n",
       "      <td>40.000000</td>\n",
       "    </tr>\n",
       "    <tr>\n",
       "      <th>200487.0</th>\n",
       "      <td>46.428571</td>\n",
       "      <td>43.000000</td>\n",
       "      <td>49.000000</td>\n",
       "      <td>51.268657</td>\n",
       "      <td>53.000000</td>\n",
       "      <td>48.000000</td>\n",
       "    </tr>\n",
       "    <tr>\n",
       "      <th>...</th>\n",
       "      <td>...</td>\n",
       "      <td>...</td>\n",
       "      <td>...</td>\n",
       "      <td>...</td>\n",
       "      <td>...</td>\n",
       "      <td>...</td>\n",
       "    </tr>\n",
       "    <tr>\n",
       "      <th>299794.0</th>\n",
       "      <td>51.666667</td>\n",
       "      <td>60.000002</td>\n",
       "      <td>50.000000</td>\n",
       "      <td>56.666668</td>\n",
       "      <td>56.666668</td>\n",
       "      <td>50.000000</td>\n",
       "    </tr>\n",
       "    <tr>\n",
       "      <th>299806.0</th>\n",
       "      <td>40.000001</td>\n",
       "      <td>NaN</td>\n",
       "      <td>44.117647</td>\n",
       "      <td>50.000000</td>\n",
       "      <td>40.000001</td>\n",
       "      <td>43.333334</td>\n",
       "    </tr>\n",
       "    <tr>\n",
       "      <th>299816.0</th>\n",
       "      <td>57.916667</td>\n",
       "      <td>58.000001</td>\n",
       "      <td>59.747192</td>\n",
       "      <td>59.090911</td>\n",
       "      <td>64.000001</td>\n",
       "      <td>58.571429</td>\n",
       "    </tr>\n",
       "    <tr>\n",
       "      <th>299840.0</th>\n",
       "      <td>50.000000</td>\n",
       "      <td>51.071429</td>\n",
       "      <td>49.523810</td>\n",
       "      <td>48.813057</td>\n",
       "      <td>47.368421</td>\n",
       "      <td>49.285714</td>\n",
       "    </tr>\n",
       "    <tr>\n",
       "      <th>299853.0</th>\n",
       "      <td>100.000000</td>\n",
       "      <td>100.000000</td>\n",
       "      <td>50.000000</td>\n",
       "      <td>42.500000</td>\n",
       "      <td>NaN</td>\n",
       "      <td>NaN</td>\n",
       "    </tr>\n",
       "    <tr>\n",
       "      <th>299856.0</th>\n",
       "      <td>60.000000</td>\n",
       "      <td>NaN</td>\n",
       "      <td>70.000000</td>\n",
       "      <td>60.000000</td>\n",
       "      <td>63.333333</td>\n",
       "      <td>50.000000</td>\n",
       "    </tr>\n",
       "    <tr>\n",
       "      <th>299863.0</th>\n",
       "      <td>50.263158</td>\n",
       "      <td>50.000000</td>\n",
       "      <td>52.500001</td>\n",
       "      <td>55.000001</td>\n",
       "      <td>51.428572</td>\n",
       "      <td>52.500001</td>\n",
       "    </tr>\n",
       "    <tr>\n",
       "      <th>299867.0</th>\n",
       "      <td>51.434783</td>\n",
       "      <td>70.000000</td>\n",
       "      <td>NaN</td>\n",
       "      <td>70.000000</td>\n",
       "      <td>NaN</td>\n",
       "      <td>50.000000</td>\n",
       "    </tr>\n",
       "    <tr>\n",
       "      <th>299972.0</th>\n",
       "      <td>40.000001</td>\n",
       "      <td>40.000001</td>\n",
       "      <td>40.000001</td>\n",
       "      <td>40.000001</td>\n",
       "      <td>NaN</td>\n",
       "      <td>NaN</td>\n",
       "    </tr>\n",
       "    <tr>\n",
       "      <th>299994.0</th>\n",
       "      <td>47.777778</td>\n",
       "      <td>50.000000</td>\n",
       "      <td>50.000000</td>\n",
       "      <td>50.000000</td>\n",
       "      <td>NaN</td>\n",
       "      <td>NaN</td>\n",
       "    </tr>\n",
       "  </tbody>\n",
       "</table>\n",
       "<p>2723 rows × 6 columns</p>\n",
       "</div>"
      ],
      "text/plain": [
       "mins                0           10         20         30          40  \\\n",
       "icustay_id                                                             \n",
       "200003.0     43.461539   69.999999        NaN  42.000000         NaN   \n",
       "200063.0     60.000000   75.000000        NaN  52.078652   50.000000   \n",
       "200065.0     50.000000   40.000001  43.611112        NaN   40.000001   \n",
       "200102.0     63.333334   56.666666  60.000000  60.000001   54.193548   \n",
       "200140.0     51.250000   55.000001  50.431035  66.666666   53.333333   \n",
       "200282.0    100.000000   37.131148  75.000000  40.000000  100.000000   \n",
       "200422.0     46.931034   77.500000  52.000000  43.039295   47.857143   \n",
       "200438.0     45.000000   45.000000  42.142858  45.000000   45.000000   \n",
       "200470.0           NaN   85.000000  47.500000        NaN   70.000000   \n",
       "200487.0     46.428571   43.000000  49.000000  51.268657   53.000000   \n",
       "...                ...         ...        ...        ...         ...   \n",
       "299794.0     51.666667   60.000002  50.000000  56.666668   56.666668   \n",
       "299806.0     40.000001         NaN  44.117647  50.000000   40.000001   \n",
       "299816.0     57.916667   58.000001  59.747192  59.090911   64.000001   \n",
       "299840.0     50.000000   51.071429  49.523810  48.813057   47.368421   \n",
       "299853.0    100.000000  100.000000  50.000000  42.500000         NaN   \n",
       "299856.0     60.000000         NaN  70.000000  60.000000   63.333333   \n",
       "299863.0     50.263158   50.000000  52.500001  55.000001   51.428572   \n",
       "299867.0     51.434783   70.000000        NaN  70.000000         NaN   \n",
       "299972.0     40.000001   40.000001  40.000001  40.000001         NaN   \n",
       "299994.0     47.777778   50.000000  50.000000  50.000000         NaN   \n",
       "\n",
       "mins               50  \n",
       "icustay_id             \n",
       "200003.0    40.000001  \n",
       "200063.0    60.000000  \n",
       "200065.0    52.142857  \n",
       "200102.0    53.875001  \n",
       "200140.0    54.375001  \n",
       "200282.0    45.000000  \n",
       "200422.0    48.615385  \n",
       "200438.0    43.333334  \n",
       "200470.0    40.000000  \n",
       "200487.0    48.000000  \n",
       "...               ...  \n",
       "299794.0    50.000000  \n",
       "299806.0    43.333334  \n",
       "299816.0    58.571429  \n",
       "299840.0    49.285714  \n",
       "299853.0          NaN  \n",
       "299856.0    50.000000  \n",
       "299863.0    52.500001  \n",
       "299867.0    50.000000  \n",
       "299972.0          NaN  \n",
       "299994.0          NaN  \n",
       "\n",
       "[2723 rows x 6 columns]"
      ]
     },
     "execution_count": 23,
     "metadata": {},
     "output_type": "execute_result"
    }
   ],
   "source": [
    "# missing value가 전체 데이터 갯수의 절반 이상인 경우 제외\n",
    "mean_pivot = mean_pivot.loc[mean_pivot.isnull().sum(axis=1)<(len(mean_pivot.columns)/2)]\n",
    "mean_pivot"
   ]
  },
  {
   "cell_type": "markdown",
   "metadata": {},
   "source": [
    "## 결측값 처리하기\n",
    "- 특정 값으로 채우기 : df.fillna(0)\n",
    "- 결측값을 앞 방향(forward) 혹은 뒷 방향(backward)으로 채우기 : 앞 df.fillna(method='ffill') or df.fillna(method='pad') 뒤 df.fillna(method='bfill')\n",
    "    - 앞/뒤 방향으로 결측값 채우는 횟수를 제한하기 : df.fillna(method='ffill', limit=number)\n",
    "- 결측값을 변수별 평균으로 대체하기 : df.fillna(df.mean()), df.where(pd.notnull(df), df.mean(), axis='columns')\n",
    "- 결측값을 다른 변수의 값으로 대체하기\n",
    "\n",
    "시계열 데이터에서 결측값 보간 하기\n",
    "https://rfriend.tistory.com/264?category=675917"
   ]
  },
  {
   "cell_type": "code",
   "execution_count": 24,
   "metadata": {},
   "outputs": [
    {
     "data": {
      "text/html": [
       "<div>\n",
       "<style scoped>\n",
       "    .dataframe tbody tr th:only-of-type {\n",
       "        vertical-align: middle;\n",
       "    }\n",
       "\n",
       "    .dataframe tbody tr th {\n",
       "        vertical-align: top;\n",
       "    }\n",
       "\n",
       "    .dataframe thead th {\n",
       "        text-align: right;\n",
       "    }\n",
       "</style>\n",
       "<table border=\"1\" class=\"dataframe\">\n",
       "  <thead>\n",
       "    <tr style=\"text-align: right;\">\n",
       "      <th>mins</th>\n",
       "      <th>0</th>\n",
       "      <th>10</th>\n",
       "      <th>20</th>\n",
       "      <th>30</th>\n",
       "      <th>40</th>\n",
       "      <th>50</th>\n",
       "    </tr>\n",
       "    <tr>\n",
       "      <th>icustay_id</th>\n",
       "      <th></th>\n",
       "      <th></th>\n",
       "      <th></th>\n",
       "      <th></th>\n",
       "      <th></th>\n",
       "      <th></th>\n",
       "    </tr>\n",
       "  </thead>\n",
       "  <tbody>\n",
       "    <tr>\n",
       "      <th>200003.0</th>\n",
       "      <td>43.461539</td>\n",
       "      <td>69.999999</td>\n",
       "      <td>69.999999</td>\n",
       "      <td>42.000000</td>\n",
       "      <td>42.000000</td>\n",
       "      <td>40.000001</td>\n",
       "    </tr>\n",
       "    <tr>\n",
       "      <th>200063.0</th>\n",
       "      <td>60.000000</td>\n",
       "      <td>75.000000</td>\n",
       "      <td>75.000000</td>\n",
       "      <td>52.078652</td>\n",
       "      <td>50.000000</td>\n",
       "      <td>60.000000</td>\n",
       "    </tr>\n",
       "    <tr>\n",
       "      <th>200065.0</th>\n",
       "      <td>50.000000</td>\n",
       "      <td>40.000001</td>\n",
       "      <td>43.611112</td>\n",
       "      <td>43.611112</td>\n",
       "      <td>40.000001</td>\n",
       "      <td>52.142857</td>\n",
       "    </tr>\n",
       "    <tr>\n",
       "      <th>200102.0</th>\n",
       "      <td>63.333334</td>\n",
       "      <td>56.666666</td>\n",
       "      <td>60.000000</td>\n",
       "      <td>60.000001</td>\n",
       "      <td>54.193548</td>\n",
       "      <td>53.875001</td>\n",
       "    </tr>\n",
       "    <tr>\n",
       "      <th>200140.0</th>\n",
       "      <td>51.250000</td>\n",
       "      <td>55.000001</td>\n",
       "      <td>50.431035</td>\n",
       "      <td>66.666666</td>\n",
       "      <td>53.333333</td>\n",
       "      <td>54.375001</td>\n",
       "    </tr>\n",
       "    <tr>\n",
       "      <th>200282.0</th>\n",
       "      <td>100.000000</td>\n",
       "      <td>37.131148</td>\n",
       "      <td>75.000000</td>\n",
       "      <td>40.000000</td>\n",
       "      <td>100.000000</td>\n",
       "      <td>45.000000</td>\n",
       "    </tr>\n",
       "    <tr>\n",
       "      <th>200422.0</th>\n",
       "      <td>46.931034</td>\n",
       "      <td>77.500000</td>\n",
       "      <td>52.000000</td>\n",
       "      <td>43.039295</td>\n",
       "      <td>47.857143</td>\n",
       "      <td>48.615385</td>\n",
       "    </tr>\n",
       "    <tr>\n",
       "      <th>200438.0</th>\n",
       "      <td>45.000000</td>\n",
       "      <td>45.000000</td>\n",
       "      <td>42.142858</td>\n",
       "      <td>45.000000</td>\n",
       "      <td>45.000000</td>\n",
       "      <td>43.333334</td>\n",
       "    </tr>\n",
       "    <tr>\n",
       "      <th>200470.0</th>\n",
       "      <td>NaN</td>\n",
       "      <td>85.000000</td>\n",
       "      <td>47.500000</td>\n",
       "      <td>47.500000</td>\n",
       "      <td>70.000000</td>\n",
       "      <td>40.000000</td>\n",
       "    </tr>\n",
       "    <tr>\n",
       "      <th>200487.0</th>\n",
       "      <td>46.428571</td>\n",
       "      <td>43.000000</td>\n",
       "      <td>49.000000</td>\n",
       "      <td>51.268657</td>\n",
       "      <td>53.000000</td>\n",
       "      <td>48.000000</td>\n",
       "    </tr>\n",
       "    <tr>\n",
       "      <th>...</th>\n",
       "      <td>...</td>\n",
       "      <td>...</td>\n",
       "      <td>...</td>\n",
       "      <td>...</td>\n",
       "      <td>...</td>\n",
       "      <td>...</td>\n",
       "    </tr>\n",
       "    <tr>\n",
       "      <th>299794.0</th>\n",
       "      <td>51.666667</td>\n",
       "      <td>60.000002</td>\n",
       "      <td>50.000000</td>\n",
       "      <td>56.666668</td>\n",
       "      <td>56.666668</td>\n",
       "      <td>50.000000</td>\n",
       "    </tr>\n",
       "    <tr>\n",
       "      <th>299806.0</th>\n",
       "      <td>40.000001</td>\n",
       "      <td>40.000001</td>\n",
       "      <td>44.117647</td>\n",
       "      <td>50.000000</td>\n",
       "      <td>40.000001</td>\n",
       "      <td>43.333334</td>\n",
       "    </tr>\n",
       "    <tr>\n",
       "      <th>299816.0</th>\n",
       "      <td>57.916667</td>\n",
       "      <td>58.000001</td>\n",
       "      <td>59.747192</td>\n",
       "      <td>59.090911</td>\n",
       "      <td>64.000001</td>\n",
       "      <td>58.571429</td>\n",
       "    </tr>\n",
       "    <tr>\n",
       "      <th>299840.0</th>\n",
       "      <td>50.000000</td>\n",
       "      <td>51.071429</td>\n",
       "      <td>49.523810</td>\n",
       "      <td>48.813057</td>\n",
       "      <td>47.368421</td>\n",
       "      <td>49.285714</td>\n",
       "    </tr>\n",
       "    <tr>\n",
       "      <th>299853.0</th>\n",
       "      <td>100.000000</td>\n",
       "      <td>100.000000</td>\n",
       "      <td>50.000000</td>\n",
       "      <td>42.500000</td>\n",
       "      <td>42.500000</td>\n",
       "      <td>NaN</td>\n",
       "    </tr>\n",
       "    <tr>\n",
       "      <th>299856.0</th>\n",
       "      <td>60.000000</td>\n",
       "      <td>60.000000</td>\n",
       "      <td>70.000000</td>\n",
       "      <td>60.000000</td>\n",
       "      <td>63.333333</td>\n",
       "      <td>50.000000</td>\n",
       "    </tr>\n",
       "    <tr>\n",
       "      <th>299863.0</th>\n",
       "      <td>50.263158</td>\n",
       "      <td>50.000000</td>\n",
       "      <td>52.500001</td>\n",
       "      <td>55.000001</td>\n",
       "      <td>51.428572</td>\n",
       "      <td>52.500001</td>\n",
       "    </tr>\n",
       "    <tr>\n",
       "      <th>299867.0</th>\n",
       "      <td>51.434783</td>\n",
       "      <td>70.000000</td>\n",
       "      <td>70.000000</td>\n",
       "      <td>70.000000</td>\n",
       "      <td>70.000000</td>\n",
       "      <td>50.000000</td>\n",
       "    </tr>\n",
       "    <tr>\n",
       "      <th>299972.0</th>\n",
       "      <td>40.000001</td>\n",
       "      <td>40.000001</td>\n",
       "      <td>40.000001</td>\n",
       "      <td>40.000001</td>\n",
       "      <td>40.000001</td>\n",
       "      <td>NaN</td>\n",
       "    </tr>\n",
       "    <tr>\n",
       "      <th>299994.0</th>\n",
       "      <td>47.777778</td>\n",
       "      <td>50.000000</td>\n",
       "      <td>50.000000</td>\n",
       "      <td>50.000000</td>\n",
       "      <td>50.000000</td>\n",
       "      <td>NaN</td>\n",
       "    </tr>\n",
       "  </tbody>\n",
       "</table>\n",
       "<p>2723 rows × 6 columns</p>\n",
       "</div>"
      ],
      "text/plain": [
       "mins                0           10         20         30          40  \\\n",
       "icustay_id                                                             \n",
       "200003.0     43.461539   69.999999  69.999999  42.000000   42.000000   \n",
       "200063.0     60.000000   75.000000  75.000000  52.078652   50.000000   \n",
       "200065.0     50.000000   40.000001  43.611112  43.611112   40.000001   \n",
       "200102.0     63.333334   56.666666  60.000000  60.000001   54.193548   \n",
       "200140.0     51.250000   55.000001  50.431035  66.666666   53.333333   \n",
       "200282.0    100.000000   37.131148  75.000000  40.000000  100.000000   \n",
       "200422.0     46.931034   77.500000  52.000000  43.039295   47.857143   \n",
       "200438.0     45.000000   45.000000  42.142858  45.000000   45.000000   \n",
       "200470.0           NaN   85.000000  47.500000  47.500000   70.000000   \n",
       "200487.0     46.428571   43.000000  49.000000  51.268657   53.000000   \n",
       "...                ...         ...        ...        ...         ...   \n",
       "299794.0     51.666667   60.000002  50.000000  56.666668   56.666668   \n",
       "299806.0     40.000001   40.000001  44.117647  50.000000   40.000001   \n",
       "299816.0     57.916667   58.000001  59.747192  59.090911   64.000001   \n",
       "299840.0     50.000000   51.071429  49.523810  48.813057   47.368421   \n",
       "299853.0    100.000000  100.000000  50.000000  42.500000   42.500000   \n",
       "299856.0     60.000000   60.000000  70.000000  60.000000   63.333333   \n",
       "299863.0     50.263158   50.000000  52.500001  55.000001   51.428572   \n",
       "299867.0     51.434783   70.000000  70.000000  70.000000   70.000000   \n",
       "299972.0     40.000001   40.000001  40.000001  40.000001   40.000001   \n",
       "299994.0     47.777778   50.000000  50.000000  50.000000   50.000000   \n",
       "\n",
       "mins               50  \n",
       "icustay_id             \n",
       "200003.0    40.000001  \n",
       "200063.0    60.000000  \n",
       "200065.0    52.142857  \n",
       "200102.0    53.875001  \n",
       "200140.0    54.375001  \n",
       "200282.0    45.000000  \n",
       "200422.0    48.615385  \n",
       "200438.0    43.333334  \n",
       "200470.0    40.000000  \n",
       "200487.0    48.000000  \n",
       "...               ...  \n",
       "299794.0    50.000000  \n",
       "299806.0    43.333334  \n",
       "299816.0    58.571429  \n",
       "299840.0    49.285714  \n",
       "299853.0          NaN  \n",
       "299856.0    50.000000  \n",
       "299863.0    52.500001  \n",
       "299867.0    50.000000  \n",
       "299972.0          NaN  \n",
       "299994.0          NaN  \n",
       "\n",
       "[2723 rows x 6 columns]"
      ]
     },
     "execution_count": 24,
     "metadata": {},
     "output_type": "execute_result"
    }
   ],
   "source": [
    "# 나머지 missing value 채우기\n",
    "mean_pivot = mean_pivot.fillna(method='ffill', limit=1, axis=1)\n",
    "mean_pivot"
   ]
  },
  {
   "cell_type": "code",
   "execution_count": 25,
   "metadata": {},
   "outputs": [
    {
     "data": {
      "text/html": [
       "<div>\n",
       "<style scoped>\n",
       "    .dataframe tbody tr th:only-of-type {\n",
       "        vertical-align: middle;\n",
       "    }\n",
       "\n",
       "    .dataframe tbody tr th {\n",
       "        vertical-align: top;\n",
       "    }\n",
       "\n",
       "    .dataframe thead th {\n",
       "        text-align: right;\n",
       "    }\n",
       "</style>\n",
       "<table border=\"1\" class=\"dataframe\">\n",
       "  <thead>\n",
       "    <tr style=\"text-align: right;\">\n",
       "      <th>mins</th>\n",
       "      <th>0</th>\n",
       "      <th>10</th>\n",
       "      <th>20</th>\n",
       "      <th>30</th>\n",
       "      <th>40</th>\n",
       "      <th>50</th>\n",
       "    </tr>\n",
       "    <tr>\n",
       "      <th>icustay_id</th>\n",
       "      <th></th>\n",
       "      <th></th>\n",
       "      <th></th>\n",
       "      <th></th>\n",
       "      <th></th>\n",
       "      <th></th>\n",
       "    </tr>\n",
       "  </thead>\n",
       "  <tbody>\n",
       "    <tr>\n",
       "      <th>200282.0</th>\n",
       "      <td>100.0</td>\n",
       "      <td>37.131148</td>\n",
       "      <td>75.0</td>\n",
       "      <td>40.0</td>\n",
       "      <td>100.0</td>\n",
       "      <td>45.0</td>\n",
       "    </tr>\n",
       "  </tbody>\n",
       "</table>\n",
       "</div>"
      ],
      "text/plain": [
       "mins           0          10    20    30     40    50\n",
       "icustay_id                                           \n",
       "200282.0    100.0  37.131148  75.0  40.0  100.0  45.0"
      ]
     },
     "execution_count": 25,
     "metadata": {},
     "output_type": "execute_result"
    }
   ],
   "source": [
    "mean_pivot[mean_pivot.index==200282.0]"
   ]
  },
  {
   "cell_type": "code",
   "execution_count": 26,
   "metadata": {},
   "outputs": [
    {
     "data": {
      "text/plain": [
       "icustay_id\n",
       "200003.0    42.730770\n",
       "200063.0    60.000000\n",
       "200065.0    43.611112\n",
       "200102.0    58.333333\n",
       "200140.0    53.854167\n",
       "200282.0    60.000000\n",
       "200422.0    48.236264\n",
       "200438.0    45.000000\n",
       "200470.0    47.500000\n",
       "200487.0    48.500000\n",
       "              ...    \n",
       "299794.0    54.166668\n",
       "299806.0    41.666667\n",
       "299816.0    58.831170\n",
       "299840.0    49.404762\n",
       "299853.0    50.000000\n",
       "299856.0    60.000000\n",
       "299863.0    51.964286\n",
       "299867.0    70.000000\n",
       "299972.0    40.000001\n",
       "299994.0    50.000000\n",
       "Length: 2723, dtype: float64"
      ]
     },
     "execution_count": 26,
     "metadata": {},
     "output_type": "execute_result"
    }
   ],
   "source": [
    "mean_pivot.median(axis=1)"
   ]
  },
  {
   "cell_type": "code",
   "execution_count": 27,
   "metadata": {},
   "outputs": [
    {
     "data": {
      "text/html": [
       "<div>\n",
       "<style scoped>\n",
       "    .dataframe tbody tr th:only-of-type {\n",
       "        vertical-align: middle;\n",
       "    }\n",
       "\n",
       "    .dataframe tbody tr th {\n",
       "        vertical-align: top;\n",
       "    }\n",
       "\n",
       "    .dataframe thead th {\n",
       "        text-align: right;\n",
       "    }\n",
       "</style>\n",
       "<table border=\"1\" class=\"dataframe\">\n",
       "  <thead>\n",
       "    <tr style=\"text-align: right;\">\n",
       "      <th>mins</th>\n",
       "      <th>0</th>\n",
       "      <th>10</th>\n",
       "      <th>20</th>\n",
       "      <th>30</th>\n",
       "      <th>40</th>\n",
       "      <th>50</th>\n",
       "    </tr>\n",
       "    <tr>\n",
       "      <th>icustay_id</th>\n",
       "      <th></th>\n",
       "      <th></th>\n",
       "      <th></th>\n",
       "      <th></th>\n",
       "      <th></th>\n",
       "      <th></th>\n",
       "    </tr>\n",
       "  </thead>\n",
       "  <tbody>\n",
       "    <tr>\n",
       "      <th>200003.0</th>\n",
       "      <td>43.461539</td>\n",
       "      <td>69.999999</td>\n",
       "      <td>69.999999</td>\n",
       "      <td>42.000000</td>\n",
       "      <td>42.000000</td>\n",
       "      <td>40.000001</td>\n",
       "    </tr>\n",
       "    <tr>\n",
       "      <th>200063.0</th>\n",
       "      <td>60.000000</td>\n",
       "      <td>75.000000</td>\n",
       "      <td>75.000000</td>\n",
       "      <td>52.078652</td>\n",
       "      <td>50.000000</td>\n",
       "      <td>60.000000</td>\n",
       "    </tr>\n",
       "    <tr>\n",
       "      <th>200065.0</th>\n",
       "      <td>50.000000</td>\n",
       "      <td>40.000001</td>\n",
       "      <td>43.611112</td>\n",
       "      <td>43.611112</td>\n",
       "      <td>40.000001</td>\n",
       "      <td>52.142857</td>\n",
       "    </tr>\n",
       "    <tr>\n",
       "      <th>200102.0</th>\n",
       "      <td>63.333334</td>\n",
       "      <td>56.666666</td>\n",
       "      <td>60.000000</td>\n",
       "      <td>60.000001</td>\n",
       "      <td>54.193548</td>\n",
       "      <td>53.875001</td>\n",
       "    </tr>\n",
       "    <tr>\n",
       "      <th>200140.0</th>\n",
       "      <td>51.250000</td>\n",
       "      <td>55.000001</td>\n",
       "      <td>50.431035</td>\n",
       "      <td>66.666666</td>\n",
       "      <td>53.333333</td>\n",
       "      <td>54.375001</td>\n",
       "    </tr>\n",
       "    <tr>\n",
       "      <th>200282.0</th>\n",
       "      <td>100.000000</td>\n",
       "      <td>37.131148</td>\n",
       "      <td>75.000000</td>\n",
       "      <td>40.000000</td>\n",
       "      <td>100.000000</td>\n",
       "      <td>45.000000</td>\n",
       "    </tr>\n",
       "    <tr>\n",
       "      <th>200422.0</th>\n",
       "      <td>46.931034</td>\n",
       "      <td>77.500000</td>\n",
       "      <td>52.000000</td>\n",
       "      <td>43.039295</td>\n",
       "      <td>47.857143</td>\n",
       "      <td>48.615385</td>\n",
       "    </tr>\n",
       "    <tr>\n",
       "      <th>200438.0</th>\n",
       "      <td>45.000000</td>\n",
       "      <td>45.000000</td>\n",
       "      <td>42.142858</td>\n",
       "      <td>45.000000</td>\n",
       "      <td>45.000000</td>\n",
       "      <td>43.333334</td>\n",
       "    </tr>\n",
       "    <tr>\n",
       "      <th>200470.0</th>\n",
       "      <td>47.500000</td>\n",
       "      <td>85.000000</td>\n",
       "      <td>47.500000</td>\n",
       "      <td>47.500000</td>\n",
       "      <td>70.000000</td>\n",
       "      <td>40.000000</td>\n",
       "    </tr>\n",
       "    <tr>\n",
       "      <th>200487.0</th>\n",
       "      <td>46.428571</td>\n",
       "      <td>43.000000</td>\n",
       "      <td>49.000000</td>\n",
       "      <td>51.268657</td>\n",
       "      <td>53.000000</td>\n",
       "      <td>48.000000</td>\n",
       "    </tr>\n",
       "    <tr>\n",
       "      <th>...</th>\n",
       "      <td>...</td>\n",
       "      <td>...</td>\n",
       "      <td>...</td>\n",
       "      <td>...</td>\n",
       "      <td>...</td>\n",
       "      <td>...</td>\n",
       "    </tr>\n",
       "    <tr>\n",
       "      <th>299794.0</th>\n",
       "      <td>51.666667</td>\n",
       "      <td>60.000002</td>\n",
       "      <td>50.000000</td>\n",
       "      <td>56.666668</td>\n",
       "      <td>56.666668</td>\n",
       "      <td>50.000000</td>\n",
       "    </tr>\n",
       "    <tr>\n",
       "      <th>299806.0</th>\n",
       "      <td>40.000001</td>\n",
       "      <td>40.000001</td>\n",
       "      <td>44.117647</td>\n",
       "      <td>50.000000</td>\n",
       "      <td>40.000001</td>\n",
       "      <td>43.333334</td>\n",
       "    </tr>\n",
       "    <tr>\n",
       "      <th>299816.0</th>\n",
       "      <td>57.916667</td>\n",
       "      <td>58.000001</td>\n",
       "      <td>59.747192</td>\n",
       "      <td>59.090911</td>\n",
       "      <td>64.000001</td>\n",
       "      <td>58.571429</td>\n",
       "    </tr>\n",
       "    <tr>\n",
       "      <th>299840.0</th>\n",
       "      <td>50.000000</td>\n",
       "      <td>51.071429</td>\n",
       "      <td>49.523810</td>\n",
       "      <td>48.813057</td>\n",
       "      <td>47.368421</td>\n",
       "      <td>49.285714</td>\n",
       "    </tr>\n",
       "    <tr>\n",
       "      <th>299853.0</th>\n",
       "      <td>100.000000</td>\n",
       "      <td>100.000000</td>\n",
       "      <td>50.000000</td>\n",
       "      <td>42.500000</td>\n",
       "      <td>42.500000</td>\n",
       "      <td>50.000000</td>\n",
       "    </tr>\n",
       "    <tr>\n",
       "      <th>299856.0</th>\n",
       "      <td>60.000000</td>\n",
       "      <td>60.000000</td>\n",
       "      <td>70.000000</td>\n",
       "      <td>60.000000</td>\n",
       "      <td>63.333333</td>\n",
       "      <td>50.000000</td>\n",
       "    </tr>\n",
       "    <tr>\n",
       "      <th>299863.0</th>\n",
       "      <td>50.263158</td>\n",
       "      <td>50.000000</td>\n",
       "      <td>52.500001</td>\n",
       "      <td>55.000001</td>\n",
       "      <td>51.428572</td>\n",
       "      <td>52.500001</td>\n",
       "    </tr>\n",
       "    <tr>\n",
       "      <th>299867.0</th>\n",
       "      <td>51.434783</td>\n",
       "      <td>70.000000</td>\n",
       "      <td>70.000000</td>\n",
       "      <td>70.000000</td>\n",
       "      <td>70.000000</td>\n",
       "      <td>50.000000</td>\n",
       "    </tr>\n",
       "    <tr>\n",
       "      <th>299972.0</th>\n",
       "      <td>40.000001</td>\n",
       "      <td>40.000001</td>\n",
       "      <td>40.000001</td>\n",
       "      <td>40.000001</td>\n",
       "      <td>40.000001</td>\n",
       "      <td>40.000001</td>\n",
       "    </tr>\n",
       "    <tr>\n",
       "      <th>299994.0</th>\n",
       "      <td>47.777778</td>\n",
       "      <td>50.000000</td>\n",
       "      <td>50.000000</td>\n",
       "      <td>50.000000</td>\n",
       "      <td>50.000000</td>\n",
       "      <td>50.000000</td>\n",
       "    </tr>\n",
       "  </tbody>\n",
       "</table>\n",
       "<p>2723 rows × 6 columns</p>\n",
       "</div>"
      ],
      "text/plain": [
       "mins                0           10         20         30          40  \\\n",
       "icustay_id                                                             \n",
       "200003.0     43.461539   69.999999  69.999999  42.000000   42.000000   \n",
       "200063.0     60.000000   75.000000  75.000000  52.078652   50.000000   \n",
       "200065.0     50.000000   40.000001  43.611112  43.611112   40.000001   \n",
       "200102.0     63.333334   56.666666  60.000000  60.000001   54.193548   \n",
       "200140.0     51.250000   55.000001  50.431035  66.666666   53.333333   \n",
       "200282.0    100.000000   37.131148  75.000000  40.000000  100.000000   \n",
       "200422.0     46.931034   77.500000  52.000000  43.039295   47.857143   \n",
       "200438.0     45.000000   45.000000  42.142858  45.000000   45.000000   \n",
       "200470.0     47.500000   85.000000  47.500000  47.500000   70.000000   \n",
       "200487.0     46.428571   43.000000  49.000000  51.268657   53.000000   \n",
       "...                ...         ...        ...        ...         ...   \n",
       "299794.0     51.666667   60.000002  50.000000  56.666668   56.666668   \n",
       "299806.0     40.000001   40.000001  44.117647  50.000000   40.000001   \n",
       "299816.0     57.916667   58.000001  59.747192  59.090911   64.000001   \n",
       "299840.0     50.000000   51.071429  49.523810  48.813057   47.368421   \n",
       "299853.0    100.000000  100.000000  50.000000  42.500000   42.500000   \n",
       "299856.0     60.000000   60.000000  70.000000  60.000000   63.333333   \n",
       "299863.0     50.263158   50.000000  52.500001  55.000001   51.428572   \n",
       "299867.0     51.434783   70.000000  70.000000  70.000000   70.000000   \n",
       "299972.0     40.000001   40.000001  40.000001  40.000001   40.000001   \n",
       "299994.0     47.777778   50.000000  50.000000  50.000000   50.000000   \n",
       "\n",
       "mins               50  \n",
       "icustay_id             \n",
       "200003.0    40.000001  \n",
       "200063.0    60.000000  \n",
       "200065.0    52.142857  \n",
       "200102.0    53.875001  \n",
       "200140.0    54.375001  \n",
       "200282.0    45.000000  \n",
       "200422.0    48.615385  \n",
       "200438.0    43.333334  \n",
       "200470.0    40.000000  \n",
       "200487.0    48.000000  \n",
       "...               ...  \n",
       "299794.0    50.000000  \n",
       "299806.0    43.333334  \n",
       "299816.0    58.571429  \n",
       "299840.0    49.285714  \n",
       "299853.0    50.000000  \n",
       "299856.0    50.000000  \n",
       "299863.0    52.500001  \n",
       "299867.0    50.000000  \n",
       "299972.0    40.000001  \n",
       "299994.0    50.000000  \n",
       "\n",
       "[2723 rows x 6 columns]"
      ]
     },
     "execution_count": 27,
     "metadata": {},
     "output_type": "execute_result"
    }
   ],
   "source": [
    "# mean_pivot.fillna(mean_pivot.median(axis=1))\n",
    "mean_pivot = mean_pivot.where(pd.notnull(mean_pivot), mean_pivot.median(axis=1), axis=0)\n",
    "mean_pivot"
   ]
  },
  {
   "cell_type": "code",
   "execution_count": 28,
   "metadata": {},
   "outputs": [
    {
     "data": {
      "text/html": [
       "<div>\n",
       "<style scoped>\n",
       "    .dataframe tbody tr th:only-of-type {\n",
       "        vertical-align: middle;\n",
       "    }\n",
       "\n",
       "    .dataframe tbody tr th {\n",
       "        vertical-align: top;\n",
       "    }\n",
       "\n",
       "    .dataframe thead th {\n",
       "        text-align: right;\n",
       "    }\n",
       "</style>\n",
       "<table border=\"1\" class=\"dataframe\">\n",
       "  <thead>\n",
       "    <tr style=\"text-align: right;\">\n",
       "      <th>mins</th>\n",
       "      <th>0</th>\n",
       "      <th>10</th>\n",
       "      <th>20</th>\n",
       "      <th>30</th>\n",
       "      <th>40</th>\n",
       "      <th>50</th>\n",
       "    </tr>\n",
       "    <tr>\n",
       "      <th>icustay_id</th>\n",
       "      <th></th>\n",
       "      <th></th>\n",
       "      <th></th>\n",
       "      <th></th>\n",
       "      <th></th>\n",
       "      <th></th>\n",
       "    </tr>\n",
       "  </thead>\n",
       "  <tbody>\n",
       "    <tr>\n",
       "      <th>200282.0</th>\n",
       "      <td>100.0</td>\n",
       "      <td>37.131148</td>\n",
       "      <td>75.0</td>\n",
       "      <td>40.0</td>\n",
       "      <td>100.0</td>\n",
       "      <td>45.0</td>\n",
       "    </tr>\n",
       "  </tbody>\n",
       "</table>\n",
       "</div>"
      ],
      "text/plain": [
       "mins           0          10    20    30     40    50\n",
       "icustay_id                                           \n",
       "200282.0    100.0  37.131148  75.0  40.0  100.0  45.0"
      ]
     },
     "execution_count": 28,
     "metadata": {},
     "output_type": "execute_result"
    }
   ],
   "source": [
    "# 확인\n",
    "mean_pivot[mean_pivot.index==200282.0]"
   ]
  },
  {
   "cell_type": "code",
   "execution_count": 29,
   "metadata": {},
   "outputs": [
    {
     "data": {
      "text/plain": [
       "[<matplotlib.lines.Line2D at 0x11d9935f8>]"
      ]
     },
     "execution_count": 29,
     "metadata": {},
     "output_type": "execute_result"
    },
    {
     "data": {
      "text/plain": [
       "[<matplotlib.lines.Line2D at 0x11d993dd8>]"
      ]
     },
     "execution_count": 29,
     "metadata": {},
     "output_type": "execute_result"
    },
    {
     "data": {
      "text/plain": [
       "[<matplotlib.lines.Line2D at 0x11d993c50>]"
      ]
     },
     "execution_count": 29,
     "metadata": {},
     "output_type": "execute_result"
    },
    {
     "data": {
      "text/plain": [
       "[<matplotlib.lines.Line2D at 0x11d993c18>]"
      ]
     },
     "execution_count": 29,
     "metadata": {},
     "output_type": "execute_result"
    },
    {
     "data": {
      "text/plain": [
       "[<matplotlib.lines.Line2D at 0x11d982748>]"
      ]
     },
     "execution_count": 29,
     "metadata": {},
     "output_type": "execute_result"
    },
    {
     "data": {
      "text/plain": [
       "[<matplotlib.lines.Line2D at 0x11d982be0>]"
      ]
     },
     "execution_count": 29,
     "metadata": {},
     "output_type": "execute_result"
    },
    {
     "data": {
      "text/plain": [
       "[<matplotlib.lines.Line2D at 0x11d982208>]"
      ]
     },
     "execution_count": 29,
     "metadata": {},
     "output_type": "execute_result"
    },
    {
     "data": {
      "text/plain": [
       "[<matplotlib.lines.Line2D at 0x11d97a4e0>]"
      ]
     },
     "execution_count": 29,
     "metadata": {},
     "output_type": "execute_result"
    },
    {
     "data": {
      "text/plain": [
       "[<matplotlib.lines.Line2D at 0x11d97a940>]"
      ]
     },
     "execution_count": 29,
     "metadata": {},
     "output_type": "execute_result"
    },
    {
     "data": {
      "text/plain": [
       "[<matplotlib.lines.Line2D at 0x11d97ae10>]"
      ]
     },
     "execution_count": 29,
     "metadata": {},
     "output_type": "execute_result"
    },
    {
     "data": {
      "text/plain": [
       "[<matplotlib.lines.Line2D at 0x11d9ba0f0>]"
      ]
     },
     "execution_count": 29,
     "metadata": {},
     "output_type": "execute_result"
    },
    {
     "data": {
      "text/plain": [
       "[<matplotlib.lines.Line2D at 0x11d96f7b8>]"
      ]
     },
     "execution_count": 29,
     "metadata": {},
     "output_type": "execute_result"
    },
    {
     "data": {
      "text/plain": [
       "[<matplotlib.lines.Line2D at 0x11d96fbe0>]"
      ]
     },
     "execution_count": 29,
     "metadata": {},
     "output_type": "execute_result"
    },
    {
     "data": {
      "text/plain": [
       "[<matplotlib.lines.Line2D at 0x11d96ffd0>]"
      ]
     },
     "execution_count": 29,
     "metadata": {},
     "output_type": "execute_result"
    },
    {
     "data": {
      "text/plain": [
       "[<matplotlib.lines.Line2D at 0x11d96ff98>]"
      ]
     },
     "execution_count": 29,
     "metadata": {},
     "output_type": "execute_result"
    },
    {
     "data": {
      "text/plain": [
       "[<matplotlib.lines.Line2D at 0x11d964a90>]"
      ]
     },
     "execution_count": 29,
     "metadata": {},
     "output_type": "execute_result"
    },
    {
     "data": {
      "text/plain": [
       "[<matplotlib.lines.Line2D at 0x11d964fd0>]"
      ]
     },
     "execution_count": 29,
     "metadata": {},
     "output_type": "execute_result"
    },
    {
     "data": {
      "text/plain": [
       "[<matplotlib.lines.Line2D at 0x11d964f98>]"
      ]
     },
     "execution_count": 29,
     "metadata": {},
     "output_type": "execute_result"
    },
    {
     "data": {
      "text/plain": [
       "[<matplotlib.lines.Line2D at 0x11d958940>]"
      ]
     },
     "execution_count": 29,
     "metadata": {},
     "output_type": "execute_result"
    },
    {
     "data": {
      "text/plain": [
       "[<matplotlib.lines.Line2D at 0x11d958d30>]"
      ]
     },
     "execution_count": 29,
     "metadata": {},
     "output_type": "execute_result"
    },
    {
     "data": {
      "text/plain": [
       "[<matplotlib.lines.Line2D at 0x11d94b208>]"
      ]
     },
     "execution_count": 29,
     "metadata": {},
     "output_type": "execute_result"
    },
    {
     "data": {
      "text/plain": [
       "[<matplotlib.lines.Line2D at 0x11d94b668>]"
      ]
     },
     "execution_count": 29,
     "metadata": {},
     "output_type": "execute_result"
    },
    {
     "data": {
      "text/plain": [
       "[<matplotlib.lines.Line2D at 0x11d94bb38>]"
      ]
     },
     "execution_count": 29,
     "metadata": {},
     "output_type": "execute_result"
    },
    {
     "data": {
      "text/plain": [
       "[<matplotlib.lines.Line2D at 0x11d94bfd0>]"
      ]
     },
     "execution_count": 29,
     "metadata": {},
     "output_type": "execute_result"
    },
    {
     "data": {
      "text/plain": [
       "[<matplotlib.lines.Line2D at 0x11d945550>]"
      ]
     },
     "execution_count": 29,
     "metadata": {},
     "output_type": "execute_result"
    },
    {
     "data": {
      "text/plain": [
       "[<matplotlib.lines.Line2D at 0x11d945940>]"
      ]
     },
     "execution_count": 29,
     "metadata": {},
     "output_type": "execute_result"
    },
    {
     "data": {
      "text/plain": [
       "[<matplotlib.lines.Line2D at 0x11d945da0>]"
      ]
     },
     "execution_count": 29,
     "metadata": {},
     "output_type": "execute_result"
    },
    {
     "data": {
      "text/plain": [
       "[<matplotlib.lines.Line2D at 0x11d945e10>]"
      ]
     },
     "execution_count": 29,
     "metadata": {},
     "output_type": "execute_result"
    },
    {
     "data": {
      "text/plain": [
       "[<matplotlib.lines.Line2D at 0x11d93c748>]"
      ]
     },
     "execution_count": 29,
     "metadata": {},
     "output_type": "execute_result"
    },
    {
     "data": {
      "text/plain": [
       "[<matplotlib.lines.Line2D at 0x11d93cc18>]"
      ]
     },
     "execution_count": 29,
     "metadata": {},
     "output_type": "execute_result"
    },
    {
     "data": {
      "text/plain": [
       "[<matplotlib.lines.Line2D at 0x11d93cf60>]"
      ]
     },
     "execution_count": 29,
     "metadata": {},
     "output_type": "execute_result"
    },
    {
     "data": {
      "text/plain": [
       "[<matplotlib.lines.Line2D at 0x11d93c2b0>]"
      ]
     },
     "execution_count": 29,
     "metadata": {},
     "output_type": "execute_result"
    },
    {
     "data": {
      "text/plain": [
       "[<matplotlib.lines.Line2D at 0x11d92ba20>]"
      ]
     },
     "execution_count": 29,
     "metadata": {},
     "output_type": "execute_result"
    },
    {
     "data": {
      "text/plain": [
       "[<matplotlib.lines.Line2D at 0x11d92be80>]"
      ]
     },
     "execution_count": 29,
     "metadata": {},
     "output_type": "execute_result"
    },
    {
     "data": {
      "text/plain": [
       "[<matplotlib.lines.Line2D at 0x11d91f358>]"
      ]
     },
     "execution_count": 29,
     "metadata": {},
     "output_type": "execute_result"
    },
    {
     "data": {
      "text/plain": [
       "[<matplotlib.lines.Line2D at 0x11d91f7b8>]"
      ]
     },
     "execution_count": 29,
     "metadata": {},
     "output_type": "execute_result"
    },
    {
     "data": {
      "text/plain": [
       "[<matplotlib.lines.Line2D at 0x11d91fc50>]"
      ]
     },
     "execution_count": 29,
     "metadata": {},
     "output_type": "execute_result"
    },
    {
     "data": {
      "text/plain": [
       "[<matplotlib.lines.Line2D at 0x11d9140f0>]"
      ]
     },
     "execution_count": 29,
     "metadata": {},
     "output_type": "execute_result"
    },
    {
     "data": {
      "text/plain": [
       "[<matplotlib.lines.Line2D at 0x11d91f780>]"
      ]
     },
     "execution_count": 29,
     "metadata": {},
     "output_type": "execute_result"
    },
    {
     "data": {
      "text/plain": [
       "[<matplotlib.lines.Line2D at 0x11d914b38>]"
      ]
     },
     "execution_count": 29,
     "metadata": {},
     "output_type": "execute_result"
    },
    {
     "data": {
      "text/plain": [
       "[<matplotlib.lines.Line2D at 0x11d914f98>]"
      ]
     },
     "execution_count": 29,
     "metadata": {},
     "output_type": "execute_result"
    },
    {
     "data": {
      "text/plain": [
       "[<matplotlib.lines.Line2D at 0x11d914128>]"
      ]
     },
     "execution_count": 29,
     "metadata": {},
     "output_type": "execute_result"
    },
    {
     "data": {
      "text/plain": [
       "[<matplotlib.lines.Line2D at 0x11d909860>]"
      ]
     },
     "execution_count": 29,
     "metadata": {},
     "output_type": "execute_result"
    },
    {
     "data": {
      "text/plain": [
       "[<matplotlib.lines.Line2D at 0x11d909cc0>]"
      ]
     },
     "execution_count": 29,
     "metadata": {},
     "output_type": "execute_result"
    },
    {
     "data": {
      "text/plain": [
       "[<matplotlib.lines.Line2D at 0x11d909d68>]"
      ]
     },
     "execution_count": 29,
     "metadata": {},
     "output_type": "execute_result"
    },
    {
     "data": {
      "text/plain": [
       "[<matplotlib.lines.Line2D at 0x11d903748>]"
      ]
     },
     "execution_count": 29,
     "metadata": {},
     "output_type": "execute_result"
    },
    {
     "data": {
      "text/plain": [
       "[<matplotlib.lines.Line2D at 0x11d903b70>]"
      ]
     },
     "execution_count": 29,
     "metadata": {},
     "output_type": "execute_result"
    },
    {
     "data": {
      "text/plain": [
       "[<matplotlib.lines.Line2D at 0x11d903eb8>]"
      ]
     },
     "execution_count": 29,
     "metadata": {},
     "output_type": "execute_result"
    },
    {
     "data": {
      "text/plain": [
       "[<matplotlib.lines.Line2D at 0x11d9032e8>]"
      ]
     },
     "execution_count": 29,
     "metadata": {},
     "output_type": "execute_result"
    },
    {
     "data": {
      "text/plain": [
       "[<matplotlib.lines.Line2D at 0x11d8f88d0>]"
      ]
     },
     "execution_count": 29,
     "metadata": {},
     "output_type": "execute_result"
    },
    {
     "data": {
      "text/plain": [
       "[<matplotlib.lines.Line2D at 0x11d8f8dd8>]"
      ]
     },
     "execution_count": 29,
     "metadata": {},
     "output_type": "execute_result"
    },
    {
     "data": {
      "text/plain": [
       "[<matplotlib.lines.Line2D at 0x11d8f8470>]"
      ]
     },
     "execution_count": 29,
     "metadata": {},
     "output_type": "execute_result"
    },
    {
     "data": {
      "text/plain": [
       "[<matplotlib.lines.Line2D at 0x11d8e96a0>]"
      ]
     },
     "execution_count": 29,
     "metadata": {},
     "output_type": "execute_result"
    },
    {
     "data": {
      "text/plain": [
       "[<matplotlib.lines.Line2D at 0x11d8e9b00>]"
      ]
     },
     "execution_count": 29,
     "metadata": {},
     "output_type": "execute_result"
    },
    {
     "data": {
      "text/plain": [
       "[<matplotlib.lines.Line2D at 0x11d8e9be0>]"
      ]
     },
     "execution_count": 29,
     "metadata": {},
     "output_type": "execute_result"
    },
    {
     "data": {
      "text/plain": [
       "[<matplotlib.lines.Line2D at 0x11d8e2588>]"
      ]
     },
     "execution_count": 29,
     "metadata": {},
     "output_type": "execute_result"
    },
    {
     "data": {
      "text/plain": [
       "[<matplotlib.lines.Line2D at 0x11d8e29e8>]"
      ]
     },
     "execution_count": 29,
     "metadata": {},
     "output_type": "execute_result"
    },
    {
     "data": {
      "text/plain": [
       "[<matplotlib.lines.Line2D at 0x11d8e2eb8>]"
      ]
     },
     "execution_count": 29,
     "metadata": {},
     "output_type": "execute_result"
    },
    {
     "data": {
      "text/plain": [
       "[<matplotlib.lines.Line2D at 0x11d8e2ef0>]"
      ]
     },
     "execution_count": 29,
     "metadata": {},
     "output_type": "execute_result"
    },
    {
     "data": {
      "text/plain": [
       "[<matplotlib.lines.Line2D at 0x11d8d1898>]"
      ]
     },
     "execution_count": 29,
     "metadata": {},
     "output_type": "execute_result"
    },
    {
     "data": {
      "text/plain": [
       "[<matplotlib.lines.Line2D at 0x11d8d1cc0>]"
      ]
     },
     "execution_count": 29,
     "metadata": {},
     "output_type": "execute_result"
    },
    {
     "data": {
      "text/plain": [
       "[<matplotlib.lines.Line2D at 0x11d8c9160>]"
      ]
     },
     "execution_count": 29,
     "metadata": {},
     "output_type": "execute_result"
    },
    {
     "data": {
      "text/plain": [
       "[<matplotlib.lines.Line2D at 0x11d8c95c0>]"
      ]
     },
     "execution_count": 29,
     "metadata": {},
     "output_type": "execute_result"
    },
    {
     "data": {
      "text/plain": [
       "[<matplotlib.lines.Line2D at 0x11d8c9b00>]"
      ]
     },
     "execution_count": 29,
     "metadata": {},
     "output_type": "execute_result"
    },
    {
     "data": {
      "text/plain": [
       "[<matplotlib.lines.Line2D at 0x11d8c9f60>]"
      ]
     },
     "execution_count": 29,
     "metadata": {},
     "output_type": "execute_result"
    },
    {
     "data": {
      "text/plain": [
       "[<matplotlib.lines.Line2D at 0x11d8c9128>]"
      ]
     },
     "execution_count": 29,
     "metadata": {},
     "output_type": "execute_result"
    },
    {
     "data": {
      "text/plain": [
       "[<matplotlib.lines.Line2D at 0x11d8c0860>]"
      ]
     },
     "execution_count": 29,
     "metadata": {},
     "output_type": "execute_result"
    },
    {
     "data": {
      "text/plain": [
       "[<matplotlib.lines.Line2D at 0x11d8c0cc0>]"
      ]
     },
     "execution_count": 29,
     "metadata": {},
     "output_type": "execute_result"
    },
    {
     "data": {
      "text/plain": [
       "[<matplotlib.lines.Line2D at 0x11d8c0400>]"
      ]
     },
     "execution_count": 29,
     "metadata": {},
     "output_type": "execute_result"
    },
    {
     "data": {
      "text/plain": [
       "[<matplotlib.lines.Line2D at 0x11d8b75c0>]"
      ]
     },
     "execution_count": 29,
     "metadata": {},
     "output_type": "execute_result"
    },
    {
     "data": {
      "text/plain": [
       "[<matplotlib.lines.Line2D at 0x11d8b7b00>]"
      ]
     },
     "execution_count": 29,
     "metadata": {},
     "output_type": "execute_result"
    },
    {
     "data": {
      "text/plain": [
       "[<matplotlib.lines.Line2D at 0x11d8b7b38>]"
      ]
     },
     "execution_count": 29,
     "metadata": {},
     "output_type": "execute_result"
    },
    {
     "data": {
      "text/plain": [
       "[<matplotlib.lines.Line2D at 0x11d8b7e10>]"
      ]
     },
     "execution_count": 29,
     "metadata": {},
     "output_type": "execute_result"
    },
    {
     "data": {
      "text/plain": [
       "[<matplotlib.lines.Line2D at 0x11d8a8978>]"
      ]
     },
     "execution_count": 29,
     "metadata": {},
     "output_type": "execute_result"
    },
    {
     "data": {
      "text/plain": [
       "[<matplotlib.lines.Line2D at 0x11d8a8dd8>]"
      ]
     },
     "execution_count": 29,
     "metadata": {},
     "output_type": "execute_result"
    },
    {
     "data": {
      "text/plain": [
       "[<matplotlib.lines.Line2D at 0x11d8a84a8>]"
      ]
     },
     "execution_count": 29,
     "metadata": {},
     "output_type": "execute_result"
    },
    {
     "data": {
      "text/plain": [
       "[<matplotlib.lines.Line2D at 0x11d8a56d8>]"
      ]
     },
     "execution_count": 29,
     "metadata": {},
     "output_type": "execute_result"
    },
    {
     "data": {
      "text/plain": [
       "[<matplotlib.lines.Line2D at 0x11d8a5b38>]"
      ]
     },
     "execution_count": 29,
     "metadata": {},
     "output_type": "execute_result"
    },
    {
     "data": {
      "text/plain": [
       "[<matplotlib.lines.Line2D at 0x11d8a5be0>]"
      ]
     },
     "execution_count": 29,
     "metadata": {},
     "output_type": "execute_result"
    },
    {
     "data": {
      "text/plain": [
       "[<matplotlib.lines.Line2D at 0x11d897550>]"
      ]
     },
     "execution_count": 29,
     "metadata": {},
     "output_type": "execute_result"
    },
    {
     "data": {
      "text/plain": [
       "[<matplotlib.lines.Line2D at 0x11d897a90>]"
      ]
     },
     "execution_count": 29,
     "metadata": {},
     "output_type": "execute_result"
    },
    {
     "data": {
      "text/plain": [
       "[<matplotlib.lines.Line2D at 0x11d897eb8>]"
      ]
     },
     "execution_count": 29,
     "metadata": {},
     "output_type": "execute_result"
    },
    {
     "data": {
      "text/plain": [
       "[<matplotlib.lines.Line2D at 0x11d897080>]"
      ]
     },
     "execution_count": 29,
     "metadata": {},
     "output_type": "execute_result"
    },
    {
     "data": {
      "text/plain": [
       "[<matplotlib.lines.Line2D at 0x11d890860>]"
      ]
     },
     "execution_count": 29,
     "metadata": {},
     "output_type": "execute_result"
    },
    {
     "data": {
      "text/plain": [
       "[<matplotlib.lines.Line2D at 0x11d890cf8>]"
      ]
     },
     "execution_count": 29,
     "metadata": {},
     "output_type": "execute_result"
    },
    {
     "data": {
      "text/plain": [
       "[<matplotlib.lines.Line2D at 0x11d8903c8>]"
      ]
     },
     "execution_count": 29,
     "metadata": {},
     "output_type": "execute_result"
    },
    {
     "data": {
      "text/plain": [
       "[<matplotlib.lines.Line2D at 0x11d87f630>]"
      ]
     },
     "execution_count": 29,
     "metadata": {},
     "output_type": "execute_result"
    },
    {
     "data": {
      "text/plain": [
       "[<matplotlib.lines.Line2D at 0x11d87fac8>]"
      ]
     },
     "execution_count": 29,
     "metadata": {},
     "output_type": "execute_result"
    },
    {
     "data": {
      "text/plain": [
       "[<matplotlib.lines.Line2D at 0x11d87ff28>]"
      ]
     },
     "execution_count": 29,
     "metadata": {},
     "output_type": "execute_result"
    },
    {
     "data": {
      "text/plain": [
       "[<matplotlib.lines.Line2D at 0x11d87fa90>]"
      ]
     },
     "execution_count": 29,
     "metadata": {},
     "output_type": "execute_result"
    },
    {
     "data": {
      "text/plain": [
       "[<matplotlib.lines.Line2D at 0x11d86e940>]"
      ]
     },
     "execution_count": 29,
     "metadata": {},
     "output_type": "execute_result"
    },
    {
     "data": {
      "text/plain": [
       "Text(0.5,1,'Change of FiO2 from admission')"
      ]
     },
     "execution_count": 29,
     "metadata": {},
     "output_type": "execute_result"
    },
    {
     "data": {
      "text/plain": [
       "Text(0.5,0,'Minutes after admission')"
      ]
     },
     "execution_count": 29,
     "metadata": {},
     "output_type": "execute_result"
    },
    {
     "data": {
      "text/plain": [
       "Text(0,0.5,'% of FiO2')"
      ]
     },
     "execution_count": 29,
     "metadata": {},
     "output_type": "execute_result"
    },
    {
     "data": {
      "image/png": "[encoded data removed]",
      "text/plain": [
       "<Figure size 1440x720 with 1 Axes>"
      ]
     },
     "metadata": {
      "needs_background": "light"
     },
     "output_type": "display_data"
    }
   ],
   "source": [
    "# 시각화해보기 - 전체 데이터는 차트가 너무 지저분해서 일부만을 시각화함(해당 코드의 필요성 고민)\n",
    "fig = plt.figure(figsize=(20, 10))\n",
    "index = 0\n",
    "for m_ind in mean_pivot.index:\n",
    "    if index % 30 == 0:\n",
    "        row = mean_pivot.xs(m_ind)\n",
    "    #     print(row.get_values())\n",
    "        plt.plot(mean_pivot.columns, row.get_values(), linestyle='-')\n",
    "    index += 1\n",
    "\n",
    "plt.title(\"Change of FiO2 from admission\")\n",
    "plt.xlabel(\"Minutes after admission\")\n",
    "plt.ylabel(\"% of FiO2\")"
   ]
  },
  {
   "cell_type": "markdown",
   "metadata": {},
   "source": [
    "## Time series 데이터를 기반으로 다음 값을 예측하기\n",
    "\n",
    "- Model : Autoregression(자기회귀)\n",
    "    - output values based on a linear combination of input values\n",
    "    - 앞선 관측값이 다음 값을 예측하는데 효과적이라는 가정을 기반으로 한다.\n",
    "    - 만약 input과 output이 같은 방향(같이 증가하거나 같이 감소하거나)으로 변화한다면 positive correlation이라고 지칭하고, 반대 방향으로 변화한다면 negative correlation이라고 한다.\n",
    "    - y = b0 + b1*x1 \n",
    "    -> x(t+1) = b0 + b1*x(t-1) + b2*x(t-2)...."
   ]
  },
  {
   "cell_type": "code",
   "execution_count": 31,
   "metadata": {},
   "outputs": [
    {
     "name": "stderr",
     "output_type": "stream",
     "text": [
      "/Users/grace/anaconda3/lib/python3.7/site-packages/ipykernel_launcher.py:3: FutureWarning: 'pandas.tools.plotting.autocorrelation_plot' is deprecated, import 'pandas.plotting.autocorrelation_plot' instead.\n",
      "  This is separate from the ipykernel package so we can avoid doing imports until\n"
     ]
    },
    {
     "data": {
      "text/plain": [
       "<matplotlib.axes._subplots.AxesSubplot at 0x11d7c82e8>"
      ]
     },
     "execution_count": 31,
     "metadata": {},
     "output_type": "execute_result"
    },
    {
     "data": {
      "image/png": "[encoded data removed]",
      "text/plain": [
       "<Figure size 432x288 with 1 Axes>"
      ]
     },
     "metadata": {
      "needs_background": "light"
     },
     "output_type": "display_data"
    }
   ],
   "source": [
    "from pandas.tools.plotting import autocorrelation_plot\n",
    "\n",
    "autocorrelation_plot(mean_pivot.iloc[0])"
   ]
  },
  {
   "cell_type": "code",
   "execution_count": null,
   "metadata": {},
   "outputs": [],
   "source": []
  }
 ],
 "metadata": {
  "kernelspec": {
   "display_name": "Python 3",
   "language": "python",
   "name": "python3"
  },
  "language_info": {
   "codemirror_mode": {
    "name": "ipython",
    "version": 3
   },
   "file_extension": ".py",
   "mimetype": "text/x-python",
   "name": "python",
   "nbconvert_exporter": "python",
   "pygments_lexer": "ipython3",
   "version": "3.7.0"
  }
 },
 "nbformat": 4,
 "nbformat_minor": 2
}
