{
 "cells": [
  {
   "cell_type": "markdown",
   "metadata": {},
   "source": [
    "## Predicting next lab results"
   ]
  },
  {
   "cell_type": "markdown",
   "metadata": {},
   "source": [
    "#### 배경\n",
    "- 환자의 근미래의 검사 결과를 맞출 수 있을까?\n",
    "\n",
    "#### 문제 종류\n",
    "- Univariate Time series prediction  \n",
    "//- binary classification (검사 결과가 정상범위인지 아닌지)\n",
    "\n",
    "#### 실험\n",
    "- 환자의 관찰값을 기반으로 다음 관찰값을 예상하기.\n",
    "\n",
    "#### 교차검증\n",
    "\n",
    "#### 평가\n",
    "\n",
    "#### 예측값의 활용\n",
    "- 수련의 교육용"
   ]
  },
  {
   "cell_type": "markdown",
   "metadata": {},
   "source": [
    "# MLP for time series"
   ]
  },
  {
   "cell_type": "markdown",
   "metadata": {},
   "source": [
    "### univariate\n",
    "Ref : https://machinelearningmastery.com/how-to-get-started-with-deep-learning-for-time-series-forecasting-7-day-mini-course/"
   ]
  },
  {
   "cell_type": "code",
   "execution_count": 1,
   "metadata": {},
   "outputs": [
    {
     "name": "stderr",
     "output_type": "stream",
     "text": [
      "Using TensorFlow backend.\n"
     ]
    }
   ],
   "source": [
    "from numpy import array\n",
    "from keras.models import Sequential\n",
    "from keras.layers import Dense\n",
    "from IPython.display import SVG\n",
    "from keras.utils.vis_utils import model_to_dot\n",
    "import numpy as np\n",
    "import pandas as pd\n",
    "import matplotlib.pyplot as plt\n",
    "%matplotlib inline"
   ]
  },
  {
   "cell_type": "code",
   "execution_count": 2,
   "metadata": {},
   "outputs": [],
   "source": [
    "import sys\n",
    "sys.path.insert(0, '../db')\n",
    "import db_con\n",
    "import sqlalchemy"
   ]
  },
  {
   "cell_type": "markdown",
   "metadata": {},
   "source": [
    "#### Toy Example"
   ]
  },
  {
   "cell_type": "code",
   "execution_count": 3,
   "metadata": {},
   "outputs": [],
   "source": [
    "# dataset\n",
    "X = array([[10, 20, 30], [20, 30, 40], [30, 40, 50], [40, 50, 60]])\n",
    "y = array([40, 50, 60, 70])"
   ]
  },
  {
   "cell_type": "code",
   "execution_count": 4,
   "metadata": {},
   "outputs": [
    {
     "name": "stdout",
     "output_type": "stream",
     "text": [
      "WARNING:tensorflow:From /home/madigun/.pyenv/versions/3.6.7/envs/grace_jupyter/lib/python3.6/site-packages/tensorflow/python/framework/op_def_library.py:263: colocate_with (from tensorflow.python.framework.ops) is deprecated and will be removed in a future version.\n",
      "Instructions for updating:\n",
      "Colocations handled automatically by placer.\n"
     ]
    }
   ],
   "source": [
    "model = Sequential()\n",
    "#모델은 입력값에 대한 정의가 필요하기 대문에, 순차 모델의 첫번째 레이어는 사용자로부터 어떤 입력이 주어질지 정보를 제공해야한다.\n",
    "model.add(Dense(100, activation='relu', input_dim=3))\n",
    "model.add(Dense(1))\n",
    "model.compile(optimizer='adam', loss='mse')"
   ]
  },
  {
   "cell_type": "code",
   "execution_count": 5,
   "metadata": {},
   "outputs": [
    {
     "name": "stdout",
     "output_type": "stream",
     "text": [
      "WARNING:tensorflow:From /home/madigun/.pyenv/versions/3.6.7/envs/grace_jupyter/lib/python3.6/site-packages/tensorflow/python/ops/math_ops.py:3066: to_int32 (from tensorflow.python.ops.math_ops) is deprecated and will be removed in a future version.\n",
      "Instructions for updating:\n",
      "Use tf.cast instead.\n"
     ]
    },
    {
     "data": {
      "text/plain": [
       "<keras.callbacks.History at 0x7f7982632278>"
      ]
     },
     "execution_count": 5,
     "metadata": {},
     "output_type": "execute_result"
    }
   ],
   "source": [
    "model.fit(X, y, epochs=2000, verbose=0)"
   ]
  },
  {
   "cell_type": "code",
   "execution_count": 6,
   "metadata": {},
   "outputs": [
    {
     "data": {
      "text/plain": [
       "array([[50, 60, 70]])"
      ]
     },
     "execution_count": 6,
     "metadata": {},
     "output_type": "execute_result"
    }
   ],
   "source": [
    "x_input = array([50, 60, 70])\n",
    "x_input = x_input.reshape((1, 3))\n",
    "x_input"
   ]
  },
  {
   "cell_type": "code",
   "execution_count": 7,
   "metadata": {},
   "outputs": [
    {
     "data": {
      "text/plain": [
       "array([[80.15991]], dtype=float32)"
      ]
     },
     "execution_count": 7,
     "metadata": {},
     "output_type": "execute_result"
    }
   ],
   "source": [
    "y_exp = model.predict(x_input, verbose=0)\n",
    "y_exp"
   ]
  },
  {
   "cell_type": "markdown",
   "metadata": {},
   "source": [
    "### Respiratory Rate"
   ]
  },
  {
   "cell_type": "code",
   "execution_count": 8,
   "metadata": {},
   "outputs": [],
   "source": [
    "#### Sepsis 환자(25030)의 ICU 기록 중 하나를 선택(276176)"
   ]
  },
  {
   "cell_type": "code",
   "execution_count": 9,
   "metadata": {},
   "outputs": [],
   "source": [
    "# load chartevents\n",
    "# chartevents contain variables such as heart rate, respiratory rate, temperature\n",
    "engine = db_con.get_engine()\n",
    "pat = pd.read_sql(\"\"\"\n",
    "                    SELECT de.icustay_id, de.mins, de.value, de.valuenum, de.itemid, di.label\n",
    "                    FROM (SELECT\n",
    "                            de.icustay_id,\n",
    "                            EXTRACT(MINUTE FROM de.charttime - (SELECT intime\n",
    "                                                              FROM icustays\n",
    "                                                              WHERE icustay_id = 256064)) AS mins,\n",
    "                            de.value,\n",
    "                            de.valuenum,\n",
    "                            de.itemid\n",
    "                          FROM chartevents de\n",
    "                          WHERE icustay_id = 256064) AS de\n",
    "                      INNER JOIN (SELECT\n",
    "                                    di.label,\n",
    "                                    di.itemid\n",
    "                                  FROM d_items di) AS di\n",
    "                        ON de.itemid = di.itemid\n",
    "                    ORDER BY mins;\n",
    "                    \"\"\", engine)"
   ]
  },
  {
   "cell_type": "code",
   "execution_count": 10,
   "metadata": {},
   "outputs": [
    {
     "data": {
      "text/html": [
       "<div>\n",
       "<style scoped>\n",
       "    .dataframe tbody tr th:only-of-type {\n",
       "        vertical-align: middle;\n",
       "    }\n",
       "\n",
       "    .dataframe tbody tr th {\n",
       "        vertical-align: top;\n",
       "    }\n",
       "\n",
       "    .dataframe thead th {\n",
       "        text-align: right;\n",
       "    }\n",
       "</style>\n",
       "<table border=\"1\" class=\"dataframe\">\n",
       "  <thead>\n",
       "    <tr style=\"text-align: right;\">\n",
       "      <th></th>\n",
       "      <th>icustay_id</th>\n",
       "      <th>mins</th>\n",
       "      <th>value</th>\n",
       "      <th>valuenum</th>\n",
       "      <th>itemid</th>\n",
       "      <th>label</th>\n",
       "    </tr>\n",
       "  </thead>\n",
       "  <tbody>\n",
       "    <tr>\n",
       "      <th>0</th>\n",
       "      <td>256064</td>\n",
       "      <td>0.0</td>\n",
       "      <td>69</td>\n",
       "      <td>69.0</td>\n",
       "      <td>220045</td>\n",
       "      <td>Heart Rate</td>\n",
       "    </tr>\n",
       "    <tr>\n",
       "      <th>1</th>\n",
       "      <td>256064</td>\n",
       "      <td>0.0</td>\n",
       "      <td>120</td>\n",
       "      <td>120.0</td>\n",
       "      <td>220046</td>\n",
       "      <td>Heart rate Alarm - High</td>\n",
       "    </tr>\n",
       "    <tr>\n",
       "      <th>2</th>\n",
       "      <td>256064</td>\n",
       "      <td>0.0</td>\n",
       "      <td>50</td>\n",
       "      <td>50.0</td>\n",
       "      <td>220047</td>\n",
       "      <td>Heart Rate Alarm - Low</td>\n",
       "    </tr>\n",
       "    <tr>\n",
       "      <th>3</th>\n",
       "      <td>256064</td>\n",
       "      <td>0.0</td>\n",
       "      <td>90</td>\n",
       "      <td>90.0</td>\n",
       "      <td>220056</td>\n",
       "      <td>Arterial Blood Pressure Alarm - Low</td>\n",
       "    </tr>\n",
       "    <tr>\n",
       "      <th>4</th>\n",
       "      <td>256064</td>\n",
       "      <td>0.0</td>\n",
       "      <td>190</td>\n",
       "      <td>190.0</td>\n",
       "      <td>220058</td>\n",
       "      <td>Arterial Blood Pressure Alarm - High</td>\n",
       "    </tr>\n",
       "  </tbody>\n",
       "</table>\n",
       "</div>"
      ],
      "text/plain": [
       "   icustay_id  mins value  valuenum  itemid  \\\n",
       "0      256064   0.0    69      69.0  220045   \n",
       "1      256064   0.0   120     120.0  220046   \n",
       "2      256064   0.0    50      50.0  220047   \n",
       "3      256064   0.0    90      90.0  220056   \n",
       "4      256064   0.0   190     190.0  220058   \n",
       "\n",
       "                                  label  \n",
       "0                            Heart Rate  \n",
       "1               Heart rate Alarm - High  \n",
       "2                Heart Rate Alarm - Low  \n",
       "3   Arterial Blood Pressure Alarm - Low  \n",
       "4  Arterial Blood Pressure Alarm - High  "
      ]
     },
     "execution_count": 10,
     "metadata": {},
     "output_type": "execute_result"
    }
   ],
   "source": [
    "pat.head()"
   ]
  },
  {
   "cell_type": "markdown",
   "metadata": {},
   "source": [
    "Number of breaths you take per minute. The normal respiration rate for an adult at rest is 12 to 20 breaths per minute. A respiration rate under 12 or over 25 breaths per minute while resting is considered abnormal.  \n",
    "Ref - https://my.clevelandclinic.org/health/articles/10881-vital-signs"
   ]
  },
  {
   "cell_type": "code",
   "execution_count": 11,
   "metadata": {},
   "outputs": [
    {
     "data": {
      "text/plain": [
       "Text(0.5, 1.0, 'Respiratory Rate change over time from admission to icu')"
      ]
     },
     "execution_count": 11,
     "metadata": {},
     "output_type": "execute_result"
    },
    {
     "data": {
      "image/png": "[encoded data removed]",
      "text/plain": [
       "<Figure size 1440x720 with 1 Axes>"
      ]
     },
     "metadata": {
      "needs_background": "light"
     },
     "output_type": "display_data"
    }
   ],
   "source": [
    "plt.figure(figsize=(20, 10))\n",
    "\n",
    "plt.plot(pat.mins[pat.label=='Respiratory Rate'],\n",
    "        pat.valuenum[pat.label=='Respiratory Rate'],\n",
    "        'k+')\n",
    "\n",
    "plt.plot(pat.mins[pat.label=='Resp Alarm - High'],\n",
    "        pat.valuenum[pat.label=='Resp Alarm - High'],\n",
    "        'm--')\n",
    "\n",
    "plt.plot(pat.mins[pat.label=='Resp Alarm - Low'],\n",
    "        pat.valuenum[pat.label=='Resp Alarm - Low'],\n",
    "        'b--')\n",
    "\n",
    "plt.xlabel('minutes after admission')\n",
    "plt.ylabel('Respiratory Rate')\n",
    "plt.title('Respiratory Rate change over time from admission to icu')"
   ]
  },
  {
   "cell_type": "code",
   "execution_count": 12,
   "metadata": {},
   "outputs": [
    {
     "data": {
      "text/html": [
       "<div>\n",
       "<style scoped>\n",
       "    .dataframe tbody tr th:only-of-type {\n",
       "        vertical-align: middle;\n",
       "    }\n",
       "\n",
       "    .dataframe tbody tr th {\n",
       "        vertical-align: top;\n",
       "    }\n",
       "\n",
       "    .dataframe thead th {\n",
       "        text-align: right;\n",
       "    }\n",
       "</style>\n",
       "<table border=\"1\" class=\"dataframe\">\n",
       "  <thead>\n",
       "    <tr style=\"text-align: right;\">\n",
       "      <th></th>\n",
       "      <th>icustay_id</th>\n",
       "      <th>mins</th>\n",
       "      <th>value</th>\n",
       "      <th>valuenum</th>\n",
       "      <th>itemid</th>\n",
       "      <th>label</th>\n",
       "    </tr>\n",
       "  </thead>\n",
       "  <tbody>\n",
       "    <tr>\n",
       "      <th>23</th>\n",
       "      <td>256064</td>\n",
       "      <td>0.0</td>\n",
       "      <td>4</td>\n",
       "      <td>4.0</td>\n",
       "      <td>220210</td>\n",
       "      <td>Respiratory Rate</td>\n",
       "    </tr>\n",
       "    <tr>\n",
       "      <th>54</th>\n",
       "      <td>256064</td>\n",
       "      <td>0.0</td>\n",
       "      <td>16</td>\n",
       "      <td>16.0</td>\n",
       "      <td>220210</td>\n",
       "      <td>Respiratory Rate</td>\n",
       "    </tr>\n",
       "    <tr>\n",
       "      <th>89</th>\n",
       "      <td>256064</td>\n",
       "      <td>0.0</td>\n",
       "      <td>30</td>\n",
       "      <td>30.0</td>\n",
       "      <td>220210</td>\n",
       "      <td>Respiratory Rate</td>\n",
       "    </tr>\n",
       "    <tr>\n",
       "      <th>242</th>\n",
       "      <td>256064</td>\n",
       "      <td>1.0</td>\n",
       "      <td>20</td>\n",
       "      <td>20.0</td>\n",
       "      <td>220210</td>\n",
       "      <td>Respiratory Rate</td>\n",
       "    </tr>\n",
       "    <tr>\n",
       "      <th>265</th>\n",
       "      <td>256064</td>\n",
       "      <td>1.0</td>\n",
       "      <td>14</td>\n",
       "      <td>14.0</td>\n",
       "      <td>220210</td>\n",
       "      <td>Respiratory Rate</td>\n",
       "    </tr>\n",
       "  </tbody>\n",
       "</table>\n",
       "</div>"
      ],
      "text/plain": [
       "     icustay_id  mins value  valuenum  itemid             label\n",
       "23       256064   0.0     4       4.0  220210  Respiratory Rate\n",
       "54       256064   0.0    16      16.0  220210  Respiratory Rate\n",
       "89       256064   0.0    30      30.0  220210  Respiratory Rate\n",
       "242      256064   1.0    20      20.0  220210  Respiratory Rate\n",
       "265      256064   1.0    14      14.0  220210  Respiratory Rate"
      ]
     },
     "execution_count": 12,
     "metadata": {},
     "output_type": "execute_result"
    }
   ],
   "source": [
    "pat_resp = pat[pat.label=='Respiratory Rate']\n",
    "pat_resp.head()"
   ]
  },
  {
   "cell_type": "code",
   "execution_count": 13,
   "metadata": {},
   "outputs": [
    {
     "data": {
      "text/html": [
       "<div>\n",
       "<style scoped>\n",
       "    .dataframe tbody tr th:only-of-type {\n",
       "        vertical-align: middle;\n",
       "    }\n",
       "\n",
       "    .dataframe tbody tr th {\n",
       "        vertical-align: top;\n",
       "    }\n",
       "\n",
       "    .dataframe thead th {\n",
       "        text-align: right;\n",
       "    }\n",
       "</style>\n",
       "<table border=\"1\" class=\"dataframe\">\n",
       "  <thead>\n",
       "    <tr style=\"text-align: right;\">\n",
       "      <th></th>\n",
       "      <th>icustay_id</th>\n",
       "      <th>mins</th>\n",
       "      <th>value</th>\n",
       "      <th>valuenum</th>\n",
       "      <th>itemid</th>\n",
       "      <th>label</th>\n",
       "    </tr>\n",
       "  </thead>\n",
       "  <tbody>\n",
       "    <tr>\n",
       "      <th>1018</th>\n",
       "      <td>256064</td>\n",
       "      <td>4.0</td>\n",
       "      <td>200</td>\n",
       "      <td>200.0</td>\n",
       "      <td>220210</td>\n",
       "      <td>Respiratory Rate</td>\n",
       "    </tr>\n",
       "  </tbody>\n",
       "</table>\n",
       "</div>"
      ],
      "text/plain": [
       "      icustay_id  mins value  valuenum  itemid             label\n",
       "1018      256064   4.0   200     200.0  220210  Respiratory Rate"
      ]
     },
     "execution_count": 13,
     "metadata": {},
     "output_type": "execute_result"
    }
   ],
   "source": [
    "pat_resp.loc[pat_resp.valuenum>50]"
   ]
  },
  {
   "cell_type": "code",
   "execution_count": 14,
   "metadata": {},
   "outputs": [
    {
     "data": {
      "text/html": [
       "<div>\n",
       "<style scoped>\n",
       "    .dataframe tbody tr th:only-of-type {\n",
       "        vertical-align: middle;\n",
       "    }\n",
       "\n",
       "    .dataframe tbody tr th {\n",
       "        vertical-align: top;\n",
       "    }\n",
       "\n",
       "    .dataframe thead th {\n",
       "        text-align: right;\n",
       "    }\n",
       "</style>\n",
       "<table border=\"1\" class=\"dataframe\">\n",
       "  <thead>\n",
       "    <tr style=\"text-align: right;\">\n",
       "      <th></th>\n",
       "      <th>icustay_id</th>\n",
       "      <th>mins</th>\n",
       "      <th>value</th>\n",
       "      <th>valuenum</th>\n",
       "      <th>itemid</th>\n",
       "      <th>label</th>\n",
       "    </tr>\n",
       "  </thead>\n",
       "  <tbody>\n",
       "    <tr>\n",
       "      <th>835</th>\n",
       "      <td>256064</td>\n",
       "      <td>4.0</td>\n",
       "      <td>27</td>\n",
       "      <td>27.0</td>\n",
       "      <td>220210</td>\n",
       "      <td>Respiratory Rate</td>\n",
       "    </tr>\n",
       "    <tr>\n",
       "      <th>867</th>\n",
       "      <td>256064</td>\n",
       "      <td>4.0</td>\n",
       "      <td>25</td>\n",
       "      <td>25.0</td>\n",
       "      <td>220210</td>\n",
       "      <td>Respiratory Rate</td>\n",
       "    </tr>\n",
       "    <tr>\n",
       "      <th>984</th>\n",
       "      <td>256064</td>\n",
       "      <td>4.0</td>\n",
       "      <td>13</td>\n",
       "      <td>13.0</td>\n",
       "      <td>220210</td>\n",
       "      <td>Respiratory Rate</td>\n",
       "    </tr>\n",
       "    <tr>\n",
       "      <th>1017</th>\n",
       "      <td>256064</td>\n",
       "      <td>4.0</td>\n",
       "      <td>14</td>\n",
       "      <td>14.0</td>\n",
       "      <td>220210</td>\n",
       "      <td>Respiratory Rate</td>\n",
       "    </tr>\n",
       "    <tr>\n",
       "      <th>1018</th>\n",
       "      <td>256064</td>\n",
       "      <td>4.0</td>\n",
       "      <td>200</td>\n",
       "      <td>200.0</td>\n",
       "      <td>220210</td>\n",
       "      <td>Respiratory Rate</td>\n",
       "    </tr>\n",
       "  </tbody>\n",
       "</table>\n",
       "</div>"
      ],
      "text/plain": [
       "      icustay_id  mins value  valuenum  itemid             label\n",
       "835       256064   4.0    27      27.0  220210  Respiratory Rate\n",
       "867       256064   4.0    25      25.0  220210  Respiratory Rate\n",
       "984       256064   4.0    13      13.0  220210  Respiratory Rate\n",
       "1017      256064   4.0    14      14.0  220210  Respiratory Rate\n",
       "1018      256064   4.0   200     200.0  220210  Respiratory Rate"
      ]
     },
     "execution_count": 14,
     "metadata": {},
     "output_type": "execute_result"
    }
   ],
   "source": [
    "pat_resp.loc[pat_resp.mins==4.0]"
   ]
  },
  {
   "cell_type": "code",
   "execution_count": 15,
   "metadata": {},
   "outputs": [
    {
     "name": "stdout",
     "output_type": "stream",
     "text": [
      "(713, 6)\n",
      "(712, 6)\n"
     ]
    }
   ],
   "source": [
    "print(pat_resp.shape)\n",
    "\n",
    "# abnormal value 200 should be removed\n",
    "pat_resp = pat_resp.loc[pat_resp.valuenum<100]\n",
    "\n",
    "print(pat_resp.shape)"
   ]
  },
  {
   "cell_type": "code",
   "execution_count": 16,
   "metadata": {},
   "outputs": [
    {
     "data": {
      "text/plain": [
       "59.0"
      ]
     },
     "execution_count": 16,
     "metadata": {},
     "output_type": "execute_result"
    }
   ],
   "source": [
    "pat_resp.mins.max()"
   ]
  },
  {
   "cell_type": "code",
   "execution_count": 17,
   "metadata": {},
   "outputs": [],
   "source": [
    "resp_index = [x for x in range(int(pat_resp.mins.max())+1)]\n",
    "# resp_index"
   ]
  },
  {
   "cell_type": "code",
   "execution_count": 18,
   "metadata": {},
   "outputs": [],
   "source": [
    "# choose to take only max value for observations within a minute\n",
    "max_by_min = pat_resp.groupby(['mins'], sort=True)['valuenum'].max()\n",
    "max_by_min = max_by_min.reindex(resp_index)"
   ]
  },
  {
   "cell_type": "code",
   "execution_count": 19,
   "metadata": {},
   "outputs": [
    {
     "data": {
      "text/plain": [
       "<matplotlib.axes._subplots.AxesSubplot at 0x7f794c170940>"
      ]
     },
     "execution_count": 19,
     "metadata": {},
     "output_type": "execute_result"
    },
    {
     "data": {
      "image/png": "[encoded data removed]",
      "text/plain": [
       "<Figure size 360x576 with 1 Axes>"
      ]
     },
     "metadata": {
      "needs_background": "light"
     },
     "output_type": "display_data"
    }
   ],
   "source": [
    "# missing data visualization with heatmap\n",
    "import seaborn as sns\n",
    "\n",
    "plt.figure(figsize=(5, 8))\n",
    "\n",
    "sns.heatmap(max_by_min.isnull().to_frame(), yticklabels=True, cbar=False, cmap='viridis')"
   ]
  },
  {
   "cell_type": "code",
   "execution_count": 20,
   "metadata": {},
   "outputs": [],
   "source": [
    "# missing value 채우기\n",
    "max_by_min = max_by_min.fillna(method='ffill')\n",
    "# max_by_min"
   ]
  },
  {
   "cell_type": "code",
   "execution_count": 21,
   "metadata": {},
   "outputs": [
    {
     "data": {
      "text/plain": [
       "Text(0.5, 1.0, 'Respiratory Rate change over time from admission to icu')"
      ]
     },
     "execution_count": 21,
     "metadata": {},
     "output_type": "execute_result"
    },
    {
     "data": {
      "image/png": "[encoded data removed]",
      "text/plain": [
       "<Figure size 720x360 with 1 Axes>"
      ]
     },
     "metadata": {
      "needs_background": "light"
     },
     "output_type": "display_data"
    }
   ],
   "source": [
    "plt.figure(figsize=(10, 5))\n",
    "\n",
    "plt.plot(max_by_min.index,\n",
    "        max_by_min,\n",
    "        '+-')\n",
    "\n",
    "plt.xlabel('minutes after admission')\n",
    "plt.ylabel('Respiratory Rate')\n",
    "plt.title('Respiratory Rate change over time from admission to icu')"
   ]
  },
  {
   "cell_type": "code",
   "execution_count": 22,
   "metadata": {},
   "outputs": [],
   "source": [
    "resp_X = []\n",
    "resp_y = []\n",
    "resp_X_test = []\n",
    "resp_y_test = []\n",
    "train = max_by_min[:50]\n",
    "test = max_by_min[46:].to_list()"
   ]
  },
  {
   "cell_type": "code",
   "execution_count": 23,
   "metadata": {},
   "outputs": [],
   "source": [
    "for i in range(train.shape[0]-4):\n",
    "#     print(max_by_min[i])\n",
    "    resp_X.append(train[i:i+4])\n",
    "    resp_y.append(train[i+4])\n",
    "    \n",
    "for i in range(len(test)-4):\n",
    "    resp_X_test.append(test[i : i+4])\n",
    "    resp_y_test.append(test[i+4])"
   ]
  },
  {
   "cell_type": "code",
   "execution_count": 24,
   "metadata": {},
   "outputs": [
    {
     "data": {
      "text/plain": [
       "46"
      ]
     },
     "execution_count": 24,
     "metadata": {},
     "output_type": "execute_result"
    }
   ],
   "source": [
    "resp_X = array(resp_X)\n",
    "resp_y = array(resp_y)\n",
    "len(resp_X)\n",
    "len(resp_y)"
   ]
  },
  {
   "cell_type": "code",
   "execution_count": 25,
   "metadata": {},
   "outputs": [],
   "source": [
    "model = Sequential()\n",
    "model.add(Dense(100, activation='relu', input_dim=4))\n",
    "model.add(Dense(1))\n",
    "model.compile(optimizer='adam', loss='mse')"
   ]
  },
  {
   "cell_type": "code",
   "execution_count": 26,
   "metadata": {},
   "outputs": [
    {
     "name": "stdout",
     "output_type": "stream",
     "text": [
      "_________________________________________________________________\n",
      "Layer (type)                 Output Shape              Param #   \n",
      "=================================================================\n",
      "dense_3 (Dense)              (None, 100)               500       \n",
      "_________________________________________________________________\n",
      "dense_4 (Dense)              (None, 1)                 101       \n",
      "=================================================================\n",
      "Total params: 601\n",
      "Trainable params: 601\n",
      "Non-trainable params: 0\n",
      "_________________________________________________________________\n"
     ]
    }
   ],
   "source": [
    "model.summary()"
   ]
  },
  {
   "cell_type": "code",
   "execution_count": 27,
   "metadata": {},
   "outputs": [
    {
     "data": {
      "image/svg+xml": [
       "<svg height=\"211pt\" viewBox=\"0.00 0.00 248.00 211.00\" width=\"248pt\" xmlns=\"http://www.w3.org/2000/svg\" xmlns:xlink=\"http://www.w3.org/1999/xlink\">\n",
       "<g class=\"graph\" id=\"graph0\" transform=\"scale(1 1) rotate(0) translate(4 207)\">\n",
       "<title>G</title>\n",
       "<polygon fill=\"#ffffff\" points=\"-4,4 -4,-207 244,-207 244,4 -4,4\" stroke=\"transparent\"/>\n",
       "<!-- 140158345238568 -->\n",
       "<g class=\"node\" id=\"node1\">\n",
       "<title>140158345238568</title>\n",
       "<polygon fill=\"none\" points=\"0,-83.5 0,-129.5 240,-129.5 240,-83.5 0,-83.5\" stroke=\"#000000\"/>\n",
       "<text fill=\"#000000\" font-family=\"Times,serif\" font-size=\"14.00\" text-anchor=\"middle\" x=\"51\" y=\"-102.8\">dense_3: Dense</text>\n",
       "<polyline fill=\"none\" points=\"102,-83.5 102,-129.5 \" stroke=\"#000000\"/>\n",
       "<text fill=\"#000000\" font-family=\"Times,serif\" font-size=\"14.00\" text-anchor=\"middle\" x=\"129.5\" y=\"-114.3\">input:</text>\n",
       "<polyline fill=\"none\" points=\"102,-106.5 157,-106.5 \" stroke=\"#000000\"/>\n",
       "<text fill=\"#000000\" font-family=\"Times,serif\" font-size=\"14.00\" text-anchor=\"middle\" x=\"129.5\" y=\"-91.3\">output:</text>\n",
       "<polyline fill=\"none\" points=\"157,-83.5 157,-129.5 \" stroke=\"#000000\"/>\n",
       "<text fill=\"#000000\" font-family=\"Times,serif\" font-size=\"14.00\" text-anchor=\"middle\" x=\"198.5\" y=\"-114.3\">(None, 4)</text>\n",
       "<polyline fill=\"none\" points=\"157,-106.5 240,-106.5 \" stroke=\"#000000\"/>\n",
       "<text fill=\"#000000\" font-family=\"Times,serif\" font-size=\"14.00\" text-anchor=\"middle\" x=\"198.5\" y=\"-91.3\">(None, 100)</text>\n",
       "</g>\n",
       "<!-- 140158345239408 -->\n",
       "<g class=\"node\" id=\"node2\">\n",
       "<title>140158345239408</title>\n",
       "<polygon fill=\"none\" points=\"0,-.5 0,-46.5 240,-46.5 240,-.5 0,-.5\" stroke=\"#000000\"/>\n",
       "<text fill=\"#000000\" font-family=\"Times,serif\" font-size=\"14.00\" text-anchor=\"middle\" x=\"51\" y=\"-19.8\">dense_4: Dense</text>\n",
       "<polyline fill=\"none\" points=\"102,-.5 102,-46.5 \" stroke=\"#000000\"/>\n",
       "<text fill=\"#000000\" font-family=\"Times,serif\" font-size=\"14.00\" text-anchor=\"middle\" x=\"129.5\" y=\"-31.3\">input:</text>\n",
       "<polyline fill=\"none\" points=\"102,-23.5 157,-23.5 \" stroke=\"#000000\"/>\n",
       "<text fill=\"#000000\" font-family=\"Times,serif\" font-size=\"14.00\" text-anchor=\"middle\" x=\"129.5\" y=\"-8.3\">output:</text>\n",
       "<polyline fill=\"none\" points=\"157,-.5 157,-46.5 \" stroke=\"#000000\"/>\n",
       "<text fill=\"#000000\" font-family=\"Times,serif\" font-size=\"14.00\" text-anchor=\"middle\" x=\"198.5\" y=\"-31.3\">(None, 100)</text>\n",
       "<polyline fill=\"none\" points=\"157,-23.5 240,-23.5 \" stroke=\"#000000\"/>\n",
       "<text fill=\"#000000\" font-family=\"Times,serif\" font-size=\"14.00\" text-anchor=\"middle\" x=\"198.5\" y=\"-8.3\">(None, 1)</text>\n",
       "</g>\n",
       "<!-- 140158345238568&#45;&gt;140158345239408 -->\n",
       "<g class=\"edge\" id=\"edge2\">\n",
       "<title>140158345238568-&gt;140158345239408</title>\n",
       "<path d=\"M120,-83.3799C120,-75.1745 120,-65.7679 120,-56.8786\" fill=\"none\" stroke=\"#000000\"/>\n",
       "<polygon fill=\"#000000\" points=\"123.5001,-56.784 120,-46.784 116.5001,-56.784 123.5001,-56.784\" stroke=\"#000000\"/>\n",
       "</g>\n",
       "<!-- 140158345239856 -->\n",
       "<g class=\"node\" id=\"node3\">\n",
       "<title>140158345239856</title>\n",
       "<polygon fill=\"none\" points=\"61,-166.5 61,-202.5 179,-202.5 179,-166.5 61,-166.5\" stroke=\"#000000\"/>\n",
       "<text fill=\"#000000\" font-family=\"Times,serif\" font-size=\"14.00\" text-anchor=\"middle\" x=\"120\" y=\"-180.8\">140158345239856</text>\n",
       "</g>\n",
       "<!-- 140158345239856&#45;&gt;140158345238568 -->\n",
       "<g class=\"edge\" id=\"edge1\">\n",
       "<title>140158345239856-&gt;140158345238568</title>\n",
       "<path d=\"M120,-166.4092C120,-158.4308 120,-148.795 120,-139.606\" fill=\"none\" stroke=\"#000000\"/>\n",
       "<polygon fill=\"#000000\" points=\"123.5001,-139.5333 120,-129.5333 116.5001,-139.5334 123.5001,-139.5333\" stroke=\"#000000\"/>\n",
       "</g>\n",
       "</g>\n",
       "</svg>"
      ],
      "text/plain": [
       "<IPython.core.display.SVG object>"
      ]
     },
     "execution_count": 27,
     "metadata": {},
     "output_type": "execute_result"
    }
   ],
   "source": [
    "SVG(model_to_dot(model, show_shapes=True).create(prog='dot', format='svg'))"
   ]
  },
  {
   "cell_type": "code",
   "execution_count": 28,
   "metadata": {},
   "outputs": [
    {
     "data": {
      "text/plain": [
       "<keras.callbacks.History at 0x7f79f9408b00>"
      ]
     },
     "execution_count": 28,
     "metadata": {},
     "output_type": "execute_result"
    }
   ],
   "source": [
    "model.fit(resp_X, resp_y, epochs=2000, verbose=0)"
   ]
  },
  {
   "cell_type": "code",
   "execution_count": 29,
   "metadata": {},
   "outputs": [
    {
     "data": {
      "text/plain": [
       "array([[21., 32., 32., 33.]])"
      ]
     },
     "execution_count": 29,
     "metadata": {},
     "output_type": "execute_result"
    }
   ],
   "source": [
    "array(resp_X_test[0]).reshape(1, 4)"
   ]
  },
  {
   "cell_type": "code",
   "execution_count": 30,
   "metadata": {},
   "outputs": [],
   "source": [
    "y_exps = []\n",
    "for resp_test in resp_X_test:    \n",
    "    y_exps.append(model.predict(array(resp_test).reshape(1, 4), verbose=0)[0][0])"
   ]
  },
  {
   "cell_type": "code",
   "execution_count": 31,
   "metadata": {},
   "outputs": [
    {
     "data": {
      "text/plain": [
       "[35.778942,\n",
       " 32.577,\n",
       " 32.447414,\n",
       " 28.85563,\n",
       " 24.182055,\n",
       " 29.64857,\n",
       " 30.302855,\n",
       " 20.642115,\n",
       " 28.38751,\n",
       " 21.65576]"
      ]
     },
     "execution_count": 31,
     "metadata": {},
     "output_type": "execute_result"
    }
   ],
   "source": [
    "y_exps"
   ]
  },
  {
   "cell_type": "code",
   "execution_count": 32,
   "metadata": {},
   "outputs": [
    {
     "data": {
      "text/plain": [
       "<matplotlib.legend.Legend at 0x7f79f92cfb38>"
      ]
     },
     "execution_count": 32,
     "metadata": {},
     "output_type": "execute_result"
    },
    {
     "data": {
      "image/png": "[encoded data removed]",
      "text/plain": [
       "<Figure size 720x360 with 1 Axes>"
      ]
     },
     "metadata": {
      "needs_background": "light"
     },
     "output_type": "display_data"
    }
   ],
   "source": [
    "plt.figure(figsize=(10, 5))\n",
    "\n",
    "plt.plot([x for x in range(50,60)],\n",
    "        y_exps,\n",
    "        'r-',\n",
    "        label='predicted')\n",
    "\n",
    "plt.plot([x for x in range(50,60)],\n",
    "        resp_y_test,\n",
    "        'b-',\n",
    "        label='actual')\n",
    "\n",
    "plt.xlabel('minutes after admission')\n",
    "plt.ylabel('Respiratory Rate')\n",
    "plt.title('Respiratory Rate change over time from admission to icu')\n",
    "plt.legend(loc='upper right')"
   ]
  },
  {
   "cell_type": "code",
   "execution_count": null,
   "metadata": {},
   "outputs": [],
   "source": []
  },
  {
   "cell_type": "markdown",
   "metadata": {},
   "source": [
    "# CNN for time series\n",
    "- 좋은 예제는 아닌듯해서 제외해도 좋을 듯"
   ]
  },
  {
   "cell_type": "code",
   "execution_count": 33,
   "metadata": {},
   "outputs": [],
   "source": [
    "from keras.layers import Flatten\n",
    "from keras.layers.convolutional import Conv1D\n",
    "from keras.layers.convolutional import MaxPooling1D"
   ]
  },
  {
   "cell_type": "code",
   "execution_count": 34,
   "metadata": {},
   "outputs": [],
   "source": [
    "#reshape dataset from [samples, timesteps] into [samples, timesteps, features]\n",
    "#in this case we will just put features as 1\n",
    "resp_X = resp_X.reshape((resp_X.shape[0], resp_X.shape[1], 1))"
   ]
  },
  {
   "cell_type": "code",
   "execution_count": 35,
   "metadata": {},
   "outputs": [],
   "source": [
    "model = Sequential()\n",
    "model.add(Conv1D(filters=60, kernel_size=2, activation='relu', input_shape=(4, 1)))\n",
    "model.add(MaxPooling1D(pool_size=2))\n",
    "model.add(Flatten())\n",
    "model.add(Dense(50, activation='relu'))\n",
    "model.add(Dense(1))\n",
    "model.compile(optimizer='adam', loss='mse')"
   ]
  },
  {
   "cell_type": "code",
   "execution_count": 36,
   "metadata": {},
   "outputs": [
    {
     "data": {
      "image/svg+xml": [
       "<svg height=\"460pt\" viewBox=\"0.00 0.00 360.00 460.00\" width=\"360pt\" xmlns=\"http://www.w3.org/2000/svg\" xmlns:xlink=\"http://www.w3.org/1999/xlink\">\n",
       "<g class=\"graph\" id=\"graph0\" transform=\"scale(1 1) rotate(0) translate(4 456)\">\n",
       "<title>G</title>\n",
       "<polygon fill=\"#ffffff\" points=\"-4,4 -4,-456 356,-456 356,4 -4,4\" stroke=\"transparent\"/>\n",
       "<!-- 140161839637728 -->\n",
       "<g class=\"node\" id=\"node1\">\n",
       "<title>140161839637728</title>\n",
       "<polygon fill=\"none\" points=\"42,-332.5 42,-378.5 310,-378.5 310,-332.5 42,-332.5\" stroke=\"#000000\"/>\n",
       "<text fill=\"#000000\" font-family=\"Times,serif\" font-size=\"14.00\" text-anchor=\"middle\" x=\"103.5\" y=\"-351.8\">conv1d_1: Conv1D</text>\n",
       "<polyline fill=\"none\" points=\"165,-332.5 165,-378.5 \" stroke=\"#000000\"/>\n",
       "<text fill=\"#000000\" font-family=\"Times,serif\" font-size=\"14.00\" text-anchor=\"middle\" x=\"192.5\" y=\"-363.3\">input:</text>\n",
       "<polyline fill=\"none\" points=\"165,-355.5 220,-355.5 \" stroke=\"#000000\"/>\n",
       "<text fill=\"#000000\" font-family=\"Times,serif\" font-size=\"14.00\" text-anchor=\"middle\" x=\"192.5\" y=\"-340.3\">output:</text>\n",
       "<polyline fill=\"none\" points=\"220,-332.5 220,-378.5 \" stroke=\"#000000\"/>\n",
       "<text fill=\"#000000\" font-family=\"Times,serif\" font-size=\"14.00\" text-anchor=\"middle\" x=\"265\" y=\"-363.3\">(None, 4, 1)</text>\n",
       "<polyline fill=\"none\" points=\"220,-355.5 310,-355.5 \" stroke=\"#000000\"/>\n",
       "<text fill=\"#000000\" font-family=\"Times,serif\" font-size=\"14.00\" text-anchor=\"middle\" x=\"265\" y=\"-340.3\">(None, 3, 60)</text>\n",
       "</g>\n",
       "<!-- 140161839636664 -->\n",
       "<g class=\"node\" id=\"node2\">\n",
       "<title>140161839636664</title>\n",
       "<polygon fill=\"none\" points=\"0,-249.5 0,-295.5 352,-295.5 352,-249.5 0,-249.5\" stroke=\"#000000\"/>\n",
       "<text fill=\"#000000\" font-family=\"Times,serif\" font-size=\"14.00\" text-anchor=\"middle\" x=\"103.5\" y=\"-268.8\">max_pooling1d_1: MaxPooling1D</text>\n",
       "<polyline fill=\"none\" points=\"207,-249.5 207,-295.5 \" stroke=\"#000000\"/>\n",
       "<text fill=\"#000000\" font-family=\"Times,serif\" font-size=\"14.00\" text-anchor=\"middle\" x=\"234.5\" y=\"-280.3\">input:</text>\n",
       "<polyline fill=\"none\" points=\"207,-272.5 262,-272.5 \" stroke=\"#000000\"/>\n",
       "<text fill=\"#000000\" font-family=\"Times,serif\" font-size=\"14.00\" text-anchor=\"middle\" x=\"234.5\" y=\"-257.3\">output:</text>\n",
       "<polyline fill=\"none\" points=\"262,-249.5 262,-295.5 \" stroke=\"#000000\"/>\n",
       "<text fill=\"#000000\" font-family=\"Times,serif\" font-size=\"14.00\" text-anchor=\"middle\" x=\"307\" y=\"-280.3\">(None, 3, 60)</text>\n",
       "<polyline fill=\"none\" points=\"262,-272.5 352,-272.5 \" stroke=\"#000000\"/>\n",
       "<text fill=\"#000000\" font-family=\"Times,serif\" font-size=\"14.00\" text-anchor=\"middle\" x=\"307\" y=\"-257.3\">(None, 1, 60)</text>\n",
       "</g>\n",
       "<!-- 140161839637728&#45;&gt;140161839636664 -->\n",
       "<g class=\"edge\" id=\"edge2\">\n",
       "<title>140161839637728-&gt;140161839636664</title>\n",
       "<path d=\"M176,-332.3799C176,-324.1745 176,-314.7679 176,-305.8786\" fill=\"none\" stroke=\"#000000\"/>\n",
       "<polygon fill=\"#000000\" points=\"179.5001,-305.784 176,-295.784 172.5001,-305.784 179.5001,-305.784\" stroke=\"#000000\"/>\n",
       "</g>\n",
       "<!-- 140161839638848 -->\n",
       "<g class=\"node\" id=\"node3\">\n",
       "<title>140161839638848</title>\n",
       "<polygon fill=\"none\" points=\"48.5,-166.5 48.5,-212.5 303.5,-212.5 303.5,-166.5 48.5,-166.5\" stroke=\"#000000\"/>\n",
       "<text fill=\"#000000\" font-family=\"Times,serif\" font-size=\"14.00\" text-anchor=\"middle\" x=\"103.5\" y=\"-185.8\">flatten_1: Flatten</text>\n",
       "<polyline fill=\"none\" points=\"158.5,-166.5 158.5,-212.5 \" stroke=\"#000000\"/>\n",
       "<text fill=\"#000000\" font-family=\"Times,serif\" font-size=\"14.00\" text-anchor=\"middle\" x=\"186\" y=\"-197.3\">input:</text>\n",
       "<polyline fill=\"none\" points=\"158.5,-189.5 213.5,-189.5 \" stroke=\"#000000\"/>\n",
       "<text fill=\"#000000\" font-family=\"Times,serif\" font-size=\"14.00\" text-anchor=\"middle\" x=\"186\" y=\"-174.3\">output:</text>\n",
       "<polyline fill=\"none\" points=\"213.5,-166.5 213.5,-212.5 \" stroke=\"#000000\"/>\n",
       "<text fill=\"#000000\" font-family=\"Times,serif\" font-size=\"14.00\" text-anchor=\"middle\" x=\"258.5\" y=\"-197.3\">(None, 1, 60)</text>\n",
       "<polyline fill=\"none\" points=\"213.5,-189.5 303.5,-189.5 \" stroke=\"#000000\"/>\n",
       "<text fill=\"#000000\" font-family=\"Times,serif\" font-size=\"14.00\" text-anchor=\"middle\" x=\"258.5\" y=\"-174.3\">(None, 60)</text>\n",
       "</g>\n",
       "<!-- 140161839636664&#45;&gt;140161839638848 -->\n",
       "<g class=\"edge\" id=\"edge3\">\n",
       "<title>140161839636664-&gt;140161839638848</title>\n",
       "<path d=\"M176,-249.3799C176,-241.1745 176,-231.7679 176,-222.8786\" fill=\"none\" stroke=\"#000000\"/>\n",
       "<polygon fill=\"#000000\" points=\"179.5001,-222.784 176,-212.784 172.5001,-222.784 179.5001,-222.784\" stroke=\"#000000\"/>\n",
       "</g>\n",
       "<!-- 140161850257760 -->\n",
       "<g class=\"node\" id=\"node4\">\n",
       "<title>140161850257760</title>\n",
       "<polygon fill=\"none\" points=\"59.5,-83.5 59.5,-129.5 292.5,-129.5 292.5,-83.5 59.5,-83.5\" stroke=\"#000000\"/>\n",
       "<text fill=\"#000000\" font-family=\"Times,serif\" font-size=\"14.00\" text-anchor=\"middle\" x=\"110.5\" y=\"-102.8\">dense_5: Dense</text>\n",
       "<polyline fill=\"none\" points=\"161.5,-83.5 161.5,-129.5 \" stroke=\"#000000\"/>\n",
       "<text fill=\"#000000\" font-family=\"Times,serif\" font-size=\"14.00\" text-anchor=\"middle\" x=\"189\" y=\"-114.3\">input:</text>\n",
       "<polyline fill=\"none\" points=\"161.5,-106.5 216.5,-106.5 \" stroke=\"#000000\"/>\n",
       "<text fill=\"#000000\" font-family=\"Times,serif\" font-size=\"14.00\" text-anchor=\"middle\" x=\"189\" y=\"-91.3\">output:</text>\n",
       "<polyline fill=\"none\" points=\"216.5,-83.5 216.5,-129.5 \" stroke=\"#000000\"/>\n",
       "<text fill=\"#000000\" font-family=\"Times,serif\" font-size=\"14.00\" text-anchor=\"middle\" x=\"254.5\" y=\"-114.3\">(None, 60)</text>\n",
       "<polyline fill=\"none\" points=\"216.5,-106.5 292.5,-106.5 \" stroke=\"#000000\"/>\n",
       "<text fill=\"#000000\" font-family=\"Times,serif\" font-size=\"14.00\" text-anchor=\"middle\" x=\"254.5\" y=\"-91.3\">(None, 50)</text>\n",
       "</g>\n",
       "<!-- 140161839638848&#45;&gt;140161850257760 -->\n",
       "<g class=\"edge\" id=\"edge4\">\n",
       "<title>140161839638848-&gt;140161850257760</title>\n",
       "<path d=\"M176,-166.3799C176,-158.1745 176,-148.7679 176,-139.8786\" fill=\"none\" stroke=\"#000000\"/>\n",
       "<polygon fill=\"#000000\" points=\"179.5001,-139.784 176,-129.784 172.5001,-139.784 179.5001,-139.784\" stroke=\"#000000\"/>\n",
       "</g>\n",
       "<!-- 140161839245352 -->\n",
       "<g class=\"node\" id=\"node5\">\n",
       "<title>140161839245352</title>\n",
       "<polygon fill=\"none\" points=\"59.5,-.5 59.5,-46.5 292.5,-46.5 292.5,-.5 59.5,-.5\" stroke=\"#000000\"/>\n",
       "<text fill=\"#000000\" font-family=\"Times,serif\" font-size=\"14.00\" text-anchor=\"middle\" x=\"110.5\" y=\"-19.8\">dense_6: Dense</text>\n",
       "<polyline fill=\"none\" points=\"161.5,-.5 161.5,-46.5 \" stroke=\"#000000\"/>\n",
       "<text fill=\"#000000\" font-family=\"Times,serif\" font-size=\"14.00\" text-anchor=\"middle\" x=\"189\" y=\"-31.3\">input:</text>\n",
       "<polyline fill=\"none\" points=\"161.5,-23.5 216.5,-23.5 \" stroke=\"#000000\"/>\n",
       "<text fill=\"#000000\" font-family=\"Times,serif\" font-size=\"14.00\" text-anchor=\"middle\" x=\"189\" y=\"-8.3\">output:</text>\n",
       "<polyline fill=\"none\" points=\"216.5,-.5 216.5,-46.5 \" stroke=\"#000000\"/>\n",
       "<text fill=\"#000000\" font-family=\"Times,serif\" font-size=\"14.00\" text-anchor=\"middle\" x=\"254.5\" y=\"-31.3\">(None, 50)</text>\n",
       "<polyline fill=\"none\" points=\"216.5,-23.5 292.5,-23.5 \" stroke=\"#000000\"/>\n",
       "<text fill=\"#000000\" font-family=\"Times,serif\" font-size=\"14.00\" text-anchor=\"middle\" x=\"254.5\" y=\"-8.3\">(None, 1)</text>\n",
       "</g>\n",
       "<!-- 140161850257760&#45;&gt;140161839245352 -->\n",
       "<g class=\"edge\" id=\"edge5\">\n",
       "<title>140161850257760-&gt;140161839245352</title>\n",
       "<path d=\"M176,-83.3799C176,-75.1745 176,-65.7679 176,-56.8786\" fill=\"none\" stroke=\"#000000\"/>\n",
       "<polygon fill=\"#000000\" points=\"179.5001,-56.784 176,-46.784 172.5001,-56.784 179.5001,-56.784\" stroke=\"#000000\"/>\n",
       "</g>\n",
       "<!-- 140161839637280 -->\n",
       "<g class=\"node\" id=\"node6\">\n",
       "<title>140161839637280</title>\n",
       "<polygon fill=\"none\" points=\"117,-415.5 117,-451.5 235,-451.5 235,-415.5 117,-415.5\" stroke=\"#000000\"/>\n",
       "<text fill=\"#000000\" font-family=\"Times,serif\" font-size=\"14.00\" text-anchor=\"middle\" x=\"176\" y=\"-429.8\">140161839637280</text>\n",
       "</g>\n",
       "<!-- 140161839637280&#45;&gt;140161839637728 -->\n",
       "<g class=\"edge\" id=\"edge1\">\n",
       "<title>140161839637280-&gt;140161839637728</title>\n",
       "<path d=\"M176,-415.4092C176,-407.4308 176,-397.795 176,-388.606\" fill=\"none\" stroke=\"#000000\"/>\n",
       "<polygon fill=\"#000000\" points=\"179.5001,-388.5333 176,-378.5333 172.5001,-388.5334 179.5001,-388.5333\" stroke=\"#000000\"/>\n",
       "</g>\n",
       "</g>\n",
       "</svg>"
      ],
      "text/plain": [
       "<IPython.core.display.SVG object>"
      ]
     },
     "execution_count": 36,
     "metadata": {},
     "output_type": "execute_result"
    }
   ],
   "source": [
    "SVG(model_to_dot(model, show_shapes=True).create(prog='dot', format='svg'))"
   ]
  },
  {
   "cell_type": "code",
   "execution_count": 37,
   "metadata": {},
   "outputs": [
    {
     "data": {
      "text/plain": [
       "<keras.callbacks.History at 0x7f79f8a9abe0>"
      ]
     },
     "execution_count": 37,
     "metadata": {},
     "output_type": "execute_result"
    }
   ],
   "source": [
    "model.fit(resp_X, resp_y, epochs=1000, verbose=0)"
   ]
  },
  {
   "cell_type": "code",
   "execution_count": 38,
   "metadata": {},
   "outputs": [
    {
     "data": {
      "text/plain": [
       "array([[[21.],\n",
       "        [32.],\n",
       "        [32.],\n",
       "        [33.]]])"
      ]
     },
     "execution_count": 38,
     "metadata": {},
     "output_type": "execute_result"
    }
   ],
   "source": [
    "# resp_X.reshape((resp_X.shape[0], resp_X.shape[1], 1))\n",
    "array(resp_X_test[0]).reshape(1, 4, 1)"
   ]
  },
  {
   "cell_type": "code",
   "execution_count": 39,
   "metadata": {},
   "outputs": [],
   "source": [
    "y_exps = []\n",
    "for resp_test in resp_X_test:    \n",
    "    y_exps.append(model.predict(array(resp_test).reshape(1, 4, 1), verbose=0)[0][0])"
   ]
  },
  {
   "cell_type": "code",
   "execution_count": 40,
   "metadata": {},
   "outputs": [
    {
     "data": {
      "text/plain": [
       "[35.284893,\n",
       " 32.031322,\n",
       " 32.39615,\n",
       " 32.017666,\n",
       " 32.16729,\n",
       " 29.159937,\n",
       " 33.043686,\n",
       " 34.90885,\n",
       " 29.217104,\n",
       " 24.19642]"
      ]
     },
     "execution_count": 40,
     "metadata": {},
     "output_type": "execute_result"
    }
   ],
   "source": [
    "y_exps"
   ]
  },
  {
   "cell_type": "code",
   "execution_count": 41,
   "metadata": {},
   "outputs": [
    {
     "data": {
      "text/plain": [
       "<matplotlib.legend.Legend at 0x7f79f8edd9e8>"
      ]
     },
     "execution_count": 41,
     "metadata": {},
     "output_type": "execute_result"
    },
    {
     "data": {
      "image/png": "[encoded data removed]",
      "text/plain": [
       "<Figure size 720x360 with 1 Axes>"
      ]
     },
     "metadata": {
      "needs_background": "light"
     },
     "output_type": "display_data"
    }
   ],
   "source": [
    "plt.figure(figsize=(10, 5))\n",
    "\n",
    "plt.plot([x for x in range(50,60)],\n",
    "        y_exps,\n",
    "        'r-',\n",
    "        label='predicted')\n",
    "\n",
    "plt.plot([x for x in range(50,60)],\n",
    "        resp_y_test,\n",
    "        'b-',\n",
    "        label='actual')\n",
    "\n",
    "plt.xlabel('minutes after admission')\n",
    "plt.ylabel('Respiratory Rate')\n",
    "plt.title('Respiratory Rate change over time from admission to icu')\n",
    "plt.legend(loc='upper right')"
   ]
  },
  {
   "cell_type": "code",
   "execution_count": null,
   "metadata": {},
   "outputs": [],
   "source": []
  },
  {
   "cell_type": "markdown",
   "metadata": {},
   "source": [
    "# LSTM for time series"
   ]
  },
  {
   "cell_type": "code",
   "execution_count": 42,
   "metadata": {},
   "outputs": [],
   "source": [
    "from keras.layers import LSTM"
   ]
  },
  {
   "cell_type": "code",
   "execution_count": 43,
   "metadata": {},
   "outputs": [],
   "source": [
    "model = Sequential()\n",
    "#input_shape(n_steps, n_features) -> univariate model so the number of features is one.\n",
    "model.add(LSTM(50, activation='relu', input_shape=(4, 1)))\n",
    "model.add(Dense(1))\n",
    "model.compile(optimizer='adam', loss='mse')"
   ]
  },
  {
   "cell_type": "code",
   "execution_count": 44,
   "metadata": {},
   "outputs": [
    {
     "data": {
      "image/svg+xml": [
       "<svg height=\"211pt\" viewBox=\"0.00 0.00 244.00 211.00\" width=\"244pt\" xmlns=\"http://www.w3.org/2000/svg\" xmlns:xlink=\"http://www.w3.org/1999/xlink\">\n",
       "<g class=\"graph\" id=\"graph0\" transform=\"scale(1 1) rotate(0) translate(4 207)\">\n",
       "<title>G</title>\n",
       "<polygon fill=\"#ffffff\" points=\"-4,4 -4,-207 240,-207 240,4 -4,4\" stroke=\"transparent\"/>\n",
       "<!-- 140161843427872 -->\n",
       "<g class=\"node\" id=\"node1\">\n",
       "<title>140161843427872</title>\n",
       "<polygon fill=\"none\" points=\"0,-83.5 0,-129.5 236,-129.5 236,-83.5 0,-83.5\" stroke=\"#000000\"/>\n",
       "<text fill=\"#000000\" font-family=\"Times,serif\" font-size=\"14.00\" text-anchor=\"middle\" x=\"49\" y=\"-102.8\">lstm_1: LSTM</text>\n",
       "<polyline fill=\"none\" points=\"98,-83.5 98,-129.5 \" stroke=\"#000000\"/>\n",
       "<text fill=\"#000000\" font-family=\"Times,serif\" font-size=\"14.00\" text-anchor=\"middle\" x=\"125.5\" y=\"-114.3\">input:</text>\n",
       "<polyline fill=\"none\" points=\"98,-106.5 153,-106.5 \" stroke=\"#000000\"/>\n",
       "<text fill=\"#000000\" font-family=\"Times,serif\" font-size=\"14.00\" text-anchor=\"middle\" x=\"125.5\" y=\"-91.3\">output:</text>\n",
       "<polyline fill=\"none\" points=\"153,-83.5 153,-129.5 \" stroke=\"#000000\"/>\n",
       "<text fill=\"#000000\" font-family=\"Times,serif\" font-size=\"14.00\" text-anchor=\"middle\" x=\"194.5\" y=\"-114.3\">(None, 4, 1)</text>\n",
       "<polyline fill=\"none\" points=\"153,-106.5 236,-106.5 \" stroke=\"#000000\"/>\n",
       "<text fill=\"#000000\" font-family=\"Times,serif\" font-size=\"14.00\" text-anchor=\"middle\" x=\"194.5\" y=\"-91.3\">(None, 50)</text>\n",
       "</g>\n",
       "<!-- 140161843426248 -->\n",
       "<g class=\"node\" id=\"node2\">\n",
       "<title>140161843426248</title>\n",
       "<polygon fill=\"none\" points=\"1.5,-.5 1.5,-46.5 234.5,-46.5 234.5,-.5 1.5,-.5\" stroke=\"#000000\"/>\n",
       "<text fill=\"#000000\" font-family=\"Times,serif\" font-size=\"14.00\" text-anchor=\"middle\" x=\"52.5\" y=\"-19.8\">dense_7: Dense</text>\n",
       "<polyline fill=\"none\" points=\"103.5,-.5 103.5,-46.5 \" stroke=\"#000000\"/>\n",
       "<text fill=\"#000000\" font-family=\"Times,serif\" font-size=\"14.00\" text-anchor=\"middle\" x=\"131\" y=\"-31.3\">input:</text>\n",
       "<polyline fill=\"none\" points=\"103.5,-23.5 158.5,-23.5 \" stroke=\"#000000\"/>\n",
       "<text fill=\"#000000\" font-family=\"Times,serif\" font-size=\"14.00\" text-anchor=\"middle\" x=\"131\" y=\"-8.3\">output:</text>\n",
       "<polyline fill=\"none\" points=\"158.5,-.5 158.5,-46.5 \" stroke=\"#000000\"/>\n",
       "<text fill=\"#000000\" font-family=\"Times,serif\" font-size=\"14.00\" text-anchor=\"middle\" x=\"196.5\" y=\"-31.3\">(None, 50)</text>\n",
       "<polyline fill=\"none\" points=\"158.5,-23.5 234.5,-23.5 \" stroke=\"#000000\"/>\n",
       "<text fill=\"#000000\" font-family=\"Times,serif\" font-size=\"14.00\" text-anchor=\"middle\" x=\"196.5\" y=\"-8.3\">(None, 1)</text>\n",
       "</g>\n",
       "<!-- 140161843427872&#45;&gt;140161843426248 -->\n",
       "<g class=\"edge\" id=\"edge2\">\n",
       "<title>140161843427872-&gt;140161843426248</title>\n",
       "<path d=\"M118,-83.3799C118,-75.1745 118,-65.7679 118,-56.8786\" fill=\"none\" stroke=\"#000000\"/>\n",
       "<polygon fill=\"#000000\" points=\"121.5001,-56.784 118,-46.784 114.5001,-56.784 121.5001,-56.784\" stroke=\"#000000\"/>\n",
       "</g>\n",
       "<!-- 140161843890104 -->\n",
       "<g class=\"node\" id=\"node3\">\n",
       "<title>140161843890104</title>\n",
       "<polygon fill=\"none\" points=\"59,-166.5 59,-202.5 177,-202.5 177,-166.5 59,-166.5\" stroke=\"#000000\"/>\n",
       "<text fill=\"#000000\" font-family=\"Times,serif\" font-size=\"14.00\" text-anchor=\"middle\" x=\"118\" y=\"-180.8\">140161843890104</text>\n",
       "</g>\n",
       "<!-- 140161843890104&#45;&gt;140161843427872 -->\n",
       "<g class=\"edge\" id=\"edge1\">\n",
       "<title>140161843890104-&gt;140161843427872</title>\n",
       "<path d=\"M118,-166.4092C118,-158.4308 118,-148.795 118,-139.606\" fill=\"none\" stroke=\"#000000\"/>\n",
       "<polygon fill=\"#000000\" points=\"121.5001,-139.5333 118,-129.5333 114.5001,-139.5334 121.5001,-139.5333\" stroke=\"#000000\"/>\n",
       "</g>\n",
       "</g>\n",
       "</svg>"
      ],
      "text/plain": [
       "<IPython.core.display.SVG object>"
      ]
     },
     "execution_count": 44,
     "metadata": {},
     "output_type": "execute_result"
    }
   ],
   "source": [
    "SVG(model_to_dot(model, show_shapes=True).create(prog='dot', format='svg'))"
   ]
  },
  {
   "cell_type": "code",
   "execution_count": 45,
   "metadata": {},
   "outputs": [
    {
     "data": {
      "text/plain": [
       "<keras.callbacks.History at 0x7f79f8e372e8>"
      ]
     },
     "execution_count": 45,
     "metadata": {},
     "output_type": "execute_result"
    }
   ],
   "source": [
    "model.fit(resp_X, resp_y, epochs=1000, verbose=0)"
   ]
  },
  {
   "cell_type": "code",
   "execution_count": 46,
   "metadata": {},
   "outputs": [],
   "source": [
    "y_exps = []\n",
    "for resp_test in resp_X_test:    \n",
    "    #[samples, timesteps, features] n_feature = 1\n",
    "    y_exps.append(model.predict(array(resp_test).reshape(1, 4, 1), verbose=0)[0][0])"
   ]
  },
  {
   "cell_type": "code",
   "execution_count": 47,
   "metadata": {},
   "outputs": [
    {
     "data": {
      "text/plain": [
       "<matplotlib.legend.Legend at 0x7f79efb16978>"
      ]
     },
     "execution_count": 47,
     "metadata": {},
     "output_type": "execute_result"
    },
    {
     "data": {
      "image/png": "[encoded data removed]",
      "text/plain": [
       "<Figure size 720x360 with 1 Axes>"
      ]
     },
     "metadata": {
      "needs_background": "light"
     },
     "output_type": "display_data"
    }
   ],
   "source": [
    "plt.figure(figsize=(10, 5))\n",
    "\n",
    "plt.plot([x for x in range(50,60)],\n",
    "        y_exps,\n",
    "        'r-',\n",
    "        label='predicted')\n",
    "\n",
    "plt.plot([x for x in range(50,60)],\n",
    "        resp_y_test,\n",
    "        'b-',\n",
    "        label='actual')\n",
    "\n",
    "plt.xlabel('minutes after admission')\n",
    "plt.ylabel('Respiratory Rate')\n",
    "plt.title('Respiratory Rate change over time from admission to icu')\n",
    "plt.legend(loc='upper right')"
   ]
  },
  {
   "cell_type": "code",
   "execution_count": null,
   "metadata": {},
   "outputs": [],
   "source": []
  }
 ],
 "metadata": {
  "kernelspec": {
   "display_name": "grace_python",
   "language": "python",
   "name": "grace_jupyter"
  },
  "language_info": {
   "codemirror_mode": {
    "name": "ipython",
    "version": 3
   },
   "file_extension": ".py",
   "mimetype": "text/x-python",
   "name": "python",
   "nbconvert_exporter": "python",
   "pygments_lexer": "ipython3",
   "version": "3.6.7"
  }
 },
 "nbformat": 4,
 "nbformat_minor": 2
}
